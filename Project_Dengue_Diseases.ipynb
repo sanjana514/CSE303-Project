{
  "cells": [
    {
      "cell_type": "markdown",
      "metadata": {
        "id": "view-in-github",
        "colab_type": "text"
      },
      "source": [
        "<a href=\"https://colab.research.google.com/github/sanjana514/CSE303-Project/blob/main/Project_Dengue_Diseases.ipynb\" target=\"_parent\"><img src=\"https://colab.research.google.com/assets/colab-badge.svg\" alt=\"Open In Colab\"/></a>"
      ]
    },
    {
      "cell_type": "code",
      "execution_count": null,
      "metadata": {
        "colab": {
          "base_uri": "https://localhost:8080/"
        },
        "id": "NLEmEd9c80vz",
        "outputId": "a0007233-798d-4ba2-f870-6ad7a5ee1907"
      },
      "outputs": [
        {
          "output_type": "stream",
          "name": "stdout",
          "text": [
            "/usr/local/lib/python3.11/dist-packages/gdown/__main__.py:140: FutureWarning: Option `--id` was deprecated in version 4.3.1 and will be removed in 5.0. You don't need to pass it anymore to use a file ID.\n",
            "  warnings.warn(\n",
            "Downloading...\n",
            "From: https://drive.google.com/uc?id=11YK42fMlUT4Vj73grRAQZK3BnaP-FfOo\n",
            "To: /content/Dengue diseases dataset.csv\n",
            "100% 35.9k/35.9k [00:00<00:00, 46.9MB/s]\n"
          ]
        }
      ],
      "source": [
        "!gdown --id 11YK42fMlUT4Vj73grRAQZK3BnaP-FfOo"
      ]
    },
    {
      "cell_type": "code",
      "execution_count": null,
      "metadata": {
        "id": "SOZpLDDXAtiK"
      },
      "outputs": [],
      "source": [
        "import pandas as pd\n",
        "import numpy as np\n",
        "import matplotlib.pyplot as plt\n",
        "import seaborn as sns"
      ]
    },
    {
      "cell_type": "code",
      "execution_count": null,
      "metadata": {
        "id": "zyjzfZAu9lu4"
      },
      "outputs": [],
      "source": [
        "df = pd.read_csv('/content/Dengue diseases dataset.csv')"
      ]
    },
    {
      "cell_type": "code",
      "execution_count": null,
      "metadata": {
        "colab": {
          "base_uri": "https://localhost:8080/",
          "height": 677
        },
        "id": "kVS5BubBA3RE",
        "outputId": "b5ce9318-88c3-4104-dbfd-820ad6898149"
      },
      "outputs": [
        {
          "output_type": "execute_result",
          "data": {
            "text/plain": [
              "    Age     Sex  Haemoglobin  WBC Count  Differential Count  RBC PANEL  \\\n",
              "0    43    Male         12.6     2200.0                   1          1   \n",
              "1    45    Male         13.2     3000.0                   0          1   \n",
              "2    50  Female         11.0     3300.0                   1          1   \n",
              "3    57  Female         11.9     3500.0                   1          0   \n",
              "4    51  Female         13.0     3100.0                   0          1   \n",
              "5    61    Male         15.0     3300.0                   1          1   \n",
              "6     6   Child         11.0     2300.0                   1          0   \n",
              "7    21    Male         14.0     2500.0                   1          1   \n",
              "8    29    Male         15.0     2400.0                   1          1   \n",
              "9    31  Female         14.2     3700.0                   0          1   \n",
              "10   37  Female         13.6     2300.0                   1          0   \n",
              "11   39    Male         15.6     2200.0                   1          1   \n",
              "12   44    Male         12.9     2900.0                   0          1   \n",
              "13   45  Female         11.7     3200.0                   1          1   \n",
              "14   56    Male         15.2     3400.0                   1          0   \n",
              "15   58    Male         14.7     3000.0                   0          1   \n",
              "16   57  Female         15.3     3500.0                   1          1   \n",
              "17   29    Male         13.3     2700.0                   1          1   \n",
              "18   30    Male         14.2     2500.0                   0          1   \n",
              "19   40    Male         14.7     2600.0                   1          1   \n",
              "\n",
              "    Platelet Count   PDW  Final Output  \n",
              "0          62000.0  11.0           1.0  \n",
              "1          17000.0  17.0           1.0  \n",
              "2          19000.0  16.3           1.0  \n",
              "3          29000.0  14.0           1.0  \n",
              "4          30000.0  14.5           1.0  \n",
              "5          34000.0  20.0           1.0  \n",
              "6          69000.0  12.5           1.0  \n",
              "7          77000.0  13.3           1.0  \n",
              "8          78000.0  14.5           1.0  \n",
              "9          82000.0  15.6           1.0  \n",
              "10         81000.0  16.7           1.0  \n",
              "11         86000.0  17.3           1.0  \n",
              "12         99000.0  18.2           1.0  \n",
              "13        100000.0  19.0           1.0  \n",
              "14        111000.0  19.3           1.0  \n",
              "15        139000.0  19.5           1.0  \n",
              "16        120000.0  11.9           1.0  \n",
              "17        107000.0  12.0           1.0  \n",
              "18        109000.0  12.2           1.0  \n",
              "19         75000.0  13.5           1.0  "
            ],
            "text/html": [
              "\n",
              "  <div id=\"df-32b392ad-80de-4ac3-be6d-657cbfdfce7e\" class=\"colab-df-container\">\n",
              "    <div>\n",
              "<style scoped>\n",
              "    .dataframe tbody tr th:only-of-type {\n",
              "        vertical-align: middle;\n",
              "    }\n",
              "\n",
              "    .dataframe tbody tr th {\n",
              "        vertical-align: top;\n",
              "    }\n",
              "\n",
              "    .dataframe thead th {\n",
              "        text-align: right;\n",
              "    }\n",
              "</style>\n",
              "<table border=\"1\" class=\"dataframe\">\n",
              "  <thead>\n",
              "    <tr style=\"text-align: right;\">\n",
              "      <th></th>\n",
              "      <th>Age</th>\n",
              "      <th>Sex</th>\n",
              "      <th>Haemoglobin</th>\n",
              "      <th>WBC Count</th>\n",
              "      <th>Differential Count</th>\n",
              "      <th>RBC PANEL</th>\n",
              "      <th>Platelet Count</th>\n",
              "      <th>PDW</th>\n",
              "      <th>Final Output</th>\n",
              "    </tr>\n",
              "  </thead>\n",
              "  <tbody>\n",
              "    <tr>\n",
              "      <th>0</th>\n",
              "      <td>43</td>\n",
              "      <td>Male</td>\n",
              "      <td>12.6</td>\n",
              "      <td>2200.0</td>\n",
              "      <td>1</td>\n",
              "      <td>1</td>\n",
              "      <td>62000.0</td>\n",
              "      <td>11.0</td>\n",
              "      <td>1.0</td>\n",
              "    </tr>\n",
              "    <tr>\n",
              "      <th>1</th>\n",
              "      <td>45</td>\n",
              "      <td>Male</td>\n",
              "      <td>13.2</td>\n",
              "      <td>3000.0</td>\n",
              "      <td>0</td>\n",
              "      <td>1</td>\n",
              "      <td>17000.0</td>\n",
              "      <td>17.0</td>\n",
              "      <td>1.0</td>\n",
              "    </tr>\n",
              "    <tr>\n",
              "      <th>2</th>\n",
              "      <td>50</td>\n",
              "      <td>Female</td>\n",
              "      <td>11.0</td>\n",
              "      <td>3300.0</td>\n",
              "      <td>1</td>\n",
              "      <td>1</td>\n",
              "      <td>19000.0</td>\n",
              "      <td>16.3</td>\n",
              "      <td>1.0</td>\n",
              "    </tr>\n",
              "    <tr>\n",
              "      <th>3</th>\n",
              "      <td>57</td>\n",
              "      <td>Female</td>\n",
              "      <td>11.9</td>\n",
              "      <td>3500.0</td>\n",
              "      <td>1</td>\n",
              "      <td>0</td>\n",
              "      <td>29000.0</td>\n",
              "      <td>14.0</td>\n",
              "      <td>1.0</td>\n",
              "    </tr>\n",
              "    <tr>\n",
              "      <th>4</th>\n",
              "      <td>51</td>\n",
              "      <td>Female</td>\n",
              "      <td>13.0</td>\n",
              "      <td>3100.0</td>\n",
              "      <td>0</td>\n",
              "      <td>1</td>\n",
              "      <td>30000.0</td>\n",
              "      <td>14.5</td>\n",
              "      <td>1.0</td>\n",
              "    </tr>\n",
              "    <tr>\n",
              "      <th>5</th>\n",
              "      <td>61</td>\n",
              "      <td>Male</td>\n",
              "      <td>15.0</td>\n",
              "      <td>3300.0</td>\n",
              "      <td>1</td>\n",
              "      <td>1</td>\n",
              "      <td>34000.0</td>\n",
              "      <td>20.0</td>\n",
              "      <td>1.0</td>\n",
              "    </tr>\n",
              "    <tr>\n",
              "      <th>6</th>\n",
              "      <td>6</td>\n",
              "      <td>Child</td>\n",
              "      <td>11.0</td>\n",
              "      <td>2300.0</td>\n",
              "      <td>1</td>\n",
              "      <td>0</td>\n",
              "      <td>69000.0</td>\n",
              "      <td>12.5</td>\n",
              "      <td>1.0</td>\n",
              "    </tr>\n",
              "    <tr>\n",
              "      <th>7</th>\n",
              "      <td>21</td>\n",
              "      <td>Male</td>\n",
              "      <td>14.0</td>\n",
              "      <td>2500.0</td>\n",
              "      <td>1</td>\n",
              "      <td>1</td>\n",
              "      <td>77000.0</td>\n",
              "      <td>13.3</td>\n",
              "      <td>1.0</td>\n",
              "    </tr>\n",
              "    <tr>\n",
              "      <th>8</th>\n",
              "      <td>29</td>\n",
              "      <td>Male</td>\n",
              "      <td>15.0</td>\n",
              "      <td>2400.0</td>\n",
              "      <td>1</td>\n",
              "      <td>1</td>\n",
              "      <td>78000.0</td>\n",
              "      <td>14.5</td>\n",
              "      <td>1.0</td>\n",
              "    </tr>\n",
              "    <tr>\n",
              "      <th>9</th>\n",
              "      <td>31</td>\n",
              "      <td>Female</td>\n",
              "      <td>14.2</td>\n",
              "      <td>3700.0</td>\n",
              "      <td>0</td>\n",
              "      <td>1</td>\n",
              "      <td>82000.0</td>\n",
              "      <td>15.6</td>\n",
              "      <td>1.0</td>\n",
              "    </tr>\n",
              "    <tr>\n",
              "      <th>10</th>\n",
              "      <td>37</td>\n",
              "      <td>Female</td>\n",
              "      <td>13.6</td>\n",
              "      <td>2300.0</td>\n",
              "      <td>1</td>\n",
              "      <td>0</td>\n",
              "      <td>81000.0</td>\n",
              "      <td>16.7</td>\n",
              "      <td>1.0</td>\n",
              "    </tr>\n",
              "    <tr>\n",
              "      <th>11</th>\n",
              "      <td>39</td>\n",
              "      <td>Male</td>\n",
              "      <td>15.6</td>\n",
              "      <td>2200.0</td>\n",
              "      <td>1</td>\n",
              "      <td>1</td>\n",
              "      <td>86000.0</td>\n",
              "      <td>17.3</td>\n",
              "      <td>1.0</td>\n",
              "    </tr>\n",
              "    <tr>\n",
              "      <th>12</th>\n",
              "      <td>44</td>\n",
              "      <td>Male</td>\n",
              "      <td>12.9</td>\n",
              "      <td>2900.0</td>\n",
              "      <td>0</td>\n",
              "      <td>1</td>\n",
              "      <td>99000.0</td>\n",
              "      <td>18.2</td>\n",
              "      <td>1.0</td>\n",
              "    </tr>\n",
              "    <tr>\n",
              "      <th>13</th>\n",
              "      <td>45</td>\n",
              "      <td>Female</td>\n",
              "      <td>11.7</td>\n",
              "      <td>3200.0</td>\n",
              "      <td>1</td>\n",
              "      <td>1</td>\n",
              "      <td>100000.0</td>\n",
              "      <td>19.0</td>\n",
              "      <td>1.0</td>\n",
              "    </tr>\n",
              "    <tr>\n",
              "      <th>14</th>\n",
              "      <td>56</td>\n",
              "      <td>Male</td>\n",
              "      <td>15.2</td>\n",
              "      <td>3400.0</td>\n",
              "      <td>1</td>\n",
              "      <td>0</td>\n",
              "      <td>111000.0</td>\n",
              "      <td>19.3</td>\n",
              "      <td>1.0</td>\n",
              "    </tr>\n",
              "    <tr>\n",
              "      <th>15</th>\n",
              "      <td>58</td>\n",
              "      <td>Male</td>\n",
              "      <td>14.7</td>\n",
              "      <td>3000.0</td>\n",
              "      <td>0</td>\n",
              "      <td>1</td>\n",
              "      <td>139000.0</td>\n",
              "      <td>19.5</td>\n",
              "      <td>1.0</td>\n",
              "    </tr>\n",
              "    <tr>\n",
              "      <th>16</th>\n",
              "      <td>57</td>\n",
              "      <td>Female</td>\n",
              "      <td>15.3</td>\n",
              "      <td>3500.0</td>\n",
              "      <td>1</td>\n",
              "      <td>1</td>\n",
              "      <td>120000.0</td>\n",
              "      <td>11.9</td>\n",
              "      <td>1.0</td>\n",
              "    </tr>\n",
              "    <tr>\n",
              "      <th>17</th>\n",
              "      <td>29</td>\n",
              "      <td>Male</td>\n",
              "      <td>13.3</td>\n",
              "      <td>2700.0</td>\n",
              "      <td>1</td>\n",
              "      <td>1</td>\n",
              "      <td>107000.0</td>\n",
              "      <td>12.0</td>\n",
              "      <td>1.0</td>\n",
              "    </tr>\n",
              "    <tr>\n",
              "      <th>18</th>\n",
              "      <td>30</td>\n",
              "      <td>Male</td>\n",
              "      <td>14.2</td>\n",
              "      <td>2500.0</td>\n",
              "      <td>0</td>\n",
              "      <td>1</td>\n",
              "      <td>109000.0</td>\n",
              "      <td>12.2</td>\n",
              "      <td>1.0</td>\n",
              "    </tr>\n",
              "    <tr>\n",
              "      <th>19</th>\n",
              "      <td>40</td>\n",
              "      <td>Male</td>\n",
              "      <td>14.7</td>\n",
              "      <td>2600.0</td>\n",
              "      <td>1</td>\n",
              "      <td>1</td>\n",
              "      <td>75000.0</td>\n",
              "      <td>13.5</td>\n",
              "      <td>1.0</td>\n",
              "    </tr>\n",
              "  </tbody>\n",
              "</table>\n",
              "</div>\n",
              "    <div class=\"colab-df-buttons\">\n",
              "\n",
              "  <div class=\"colab-df-container\">\n",
              "    <button class=\"colab-df-convert\" onclick=\"convertToInteractive('df-32b392ad-80de-4ac3-be6d-657cbfdfce7e')\"\n",
              "            title=\"Convert this dataframe to an interactive table.\"\n",
              "            style=\"display:none;\">\n",
              "\n",
              "  <svg xmlns=\"http://www.w3.org/2000/svg\" height=\"24px\" viewBox=\"0 -960 960 960\">\n",
              "    <path d=\"M120-120v-720h720v720H120Zm60-500h600v-160H180v160Zm220 220h160v-160H400v160Zm0 220h160v-160H400v160ZM180-400h160v-160H180v160Zm440 0h160v-160H620v160ZM180-180h160v-160H180v160Zm440 0h160v-160H620v160Z\"/>\n",
              "  </svg>\n",
              "    </button>\n",
              "\n",
              "  <style>\n",
              "    .colab-df-container {\n",
              "      display:flex;\n",
              "      gap: 12px;\n",
              "    }\n",
              "\n",
              "    .colab-df-convert {\n",
              "      background-color: #E8F0FE;\n",
              "      border: none;\n",
              "      border-radius: 50%;\n",
              "      cursor: pointer;\n",
              "      display: none;\n",
              "      fill: #1967D2;\n",
              "      height: 32px;\n",
              "      padding: 0 0 0 0;\n",
              "      width: 32px;\n",
              "    }\n",
              "\n",
              "    .colab-df-convert:hover {\n",
              "      background-color: #E2EBFA;\n",
              "      box-shadow: 0px 1px 2px rgba(60, 64, 67, 0.3), 0px 1px 3px 1px rgba(60, 64, 67, 0.15);\n",
              "      fill: #174EA6;\n",
              "    }\n",
              "\n",
              "    .colab-df-buttons div {\n",
              "      margin-bottom: 4px;\n",
              "    }\n",
              "\n",
              "    [theme=dark] .colab-df-convert {\n",
              "      background-color: #3B4455;\n",
              "      fill: #D2E3FC;\n",
              "    }\n",
              "\n",
              "    [theme=dark] .colab-df-convert:hover {\n",
              "      background-color: #434B5C;\n",
              "      box-shadow: 0px 1px 3px 1px rgba(0, 0, 0, 0.15);\n",
              "      filter: drop-shadow(0px 1px 2px rgba(0, 0, 0, 0.3));\n",
              "      fill: #FFFFFF;\n",
              "    }\n",
              "  </style>\n",
              "\n",
              "    <script>\n",
              "      const buttonEl =\n",
              "        document.querySelector('#df-32b392ad-80de-4ac3-be6d-657cbfdfce7e button.colab-df-convert');\n",
              "      buttonEl.style.display =\n",
              "        google.colab.kernel.accessAllowed ? 'block' : 'none';\n",
              "\n",
              "      async function convertToInteractive(key) {\n",
              "        const element = document.querySelector('#df-32b392ad-80de-4ac3-be6d-657cbfdfce7e');\n",
              "        const dataTable =\n",
              "          await google.colab.kernel.invokeFunction('convertToInteractive',\n",
              "                                                    [key], {});\n",
              "        if (!dataTable) return;\n",
              "\n",
              "        const docLinkHtml = 'Like what you see? Visit the ' +\n",
              "          '<a target=\"_blank\" href=https://colab.research.google.com/notebooks/data_table.ipynb>data table notebook</a>'\n",
              "          + ' to learn more about interactive tables.';\n",
              "        element.innerHTML = '';\n",
              "        dataTable['output_type'] = 'display_data';\n",
              "        await google.colab.output.renderOutput(dataTable, element);\n",
              "        const docLink = document.createElement('div');\n",
              "        docLink.innerHTML = docLinkHtml;\n",
              "        element.appendChild(docLink);\n",
              "      }\n",
              "    </script>\n",
              "  </div>\n",
              "\n",
              "\n",
              "<div id=\"df-99a8929d-f84c-44b2-88c6-c1826c7463cc\">\n",
              "  <button class=\"colab-df-quickchart\" onclick=\"quickchart('df-99a8929d-f84c-44b2-88c6-c1826c7463cc')\"\n",
              "            title=\"Suggest charts\"\n",
              "            style=\"display:none;\">\n",
              "\n",
              "<svg xmlns=\"http://www.w3.org/2000/svg\" height=\"24px\"viewBox=\"0 0 24 24\"\n",
              "     width=\"24px\">\n",
              "    <g>\n",
              "        <path d=\"M19 3H5c-1.1 0-2 .9-2 2v14c0 1.1.9 2 2 2h14c1.1 0 2-.9 2-2V5c0-1.1-.9-2-2-2zM9 17H7v-7h2v7zm4 0h-2V7h2v10zm4 0h-2v-4h2v4z\"/>\n",
              "    </g>\n",
              "</svg>\n",
              "  </button>\n",
              "\n",
              "<style>\n",
              "  .colab-df-quickchart {\n",
              "      --bg-color: #E8F0FE;\n",
              "      --fill-color: #1967D2;\n",
              "      --hover-bg-color: #E2EBFA;\n",
              "      --hover-fill-color: #174EA6;\n",
              "      --disabled-fill-color: #AAA;\n",
              "      --disabled-bg-color: #DDD;\n",
              "  }\n",
              "\n",
              "  [theme=dark] .colab-df-quickchart {\n",
              "      --bg-color: #3B4455;\n",
              "      --fill-color: #D2E3FC;\n",
              "      --hover-bg-color: #434B5C;\n",
              "      --hover-fill-color: #FFFFFF;\n",
              "      --disabled-bg-color: #3B4455;\n",
              "      --disabled-fill-color: #666;\n",
              "  }\n",
              "\n",
              "  .colab-df-quickchart {\n",
              "    background-color: var(--bg-color);\n",
              "    border: none;\n",
              "    border-radius: 50%;\n",
              "    cursor: pointer;\n",
              "    display: none;\n",
              "    fill: var(--fill-color);\n",
              "    height: 32px;\n",
              "    padding: 0;\n",
              "    width: 32px;\n",
              "  }\n",
              "\n",
              "  .colab-df-quickchart:hover {\n",
              "    background-color: var(--hover-bg-color);\n",
              "    box-shadow: 0 1px 2px rgba(60, 64, 67, 0.3), 0 1px 3px 1px rgba(60, 64, 67, 0.15);\n",
              "    fill: var(--button-hover-fill-color);\n",
              "  }\n",
              "\n",
              "  .colab-df-quickchart-complete:disabled,\n",
              "  .colab-df-quickchart-complete:disabled:hover {\n",
              "    background-color: var(--disabled-bg-color);\n",
              "    fill: var(--disabled-fill-color);\n",
              "    box-shadow: none;\n",
              "  }\n",
              "\n",
              "  .colab-df-spinner {\n",
              "    border: 2px solid var(--fill-color);\n",
              "    border-color: transparent;\n",
              "    border-bottom-color: var(--fill-color);\n",
              "    animation:\n",
              "      spin 1s steps(1) infinite;\n",
              "  }\n",
              "\n",
              "  @keyframes spin {\n",
              "    0% {\n",
              "      border-color: transparent;\n",
              "      border-bottom-color: var(--fill-color);\n",
              "      border-left-color: var(--fill-color);\n",
              "    }\n",
              "    20% {\n",
              "      border-color: transparent;\n",
              "      border-left-color: var(--fill-color);\n",
              "      border-top-color: var(--fill-color);\n",
              "    }\n",
              "    30% {\n",
              "      border-color: transparent;\n",
              "      border-left-color: var(--fill-color);\n",
              "      border-top-color: var(--fill-color);\n",
              "      border-right-color: var(--fill-color);\n",
              "    }\n",
              "    40% {\n",
              "      border-color: transparent;\n",
              "      border-right-color: var(--fill-color);\n",
              "      border-top-color: var(--fill-color);\n",
              "    }\n",
              "    60% {\n",
              "      border-color: transparent;\n",
              "      border-right-color: var(--fill-color);\n",
              "    }\n",
              "    80% {\n",
              "      border-color: transparent;\n",
              "      border-right-color: var(--fill-color);\n",
              "      border-bottom-color: var(--fill-color);\n",
              "    }\n",
              "    90% {\n",
              "      border-color: transparent;\n",
              "      border-bottom-color: var(--fill-color);\n",
              "    }\n",
              "  }\n",
              "</style>\n",
              "\n",
              "  <script>\n",
              "    async function quickchart(key) {\n",
              "      const quickchartButtonEl =\n",
              "        document.querySelector('#' + key + ' button');\n",
              "      quickchartButtonEl.disabled = true;  // To prevent multiple clicks.\n",
              "      quickchartButtonEl.classList.add('colab-df-spinner');\n",
              "      try {\n",
              "        const charts = await google.colab.kernel.invokeFunction(\n",
              "            'suggestCharts', [key], {});\n",
              "      } catch (error) {\n",
              "        console.error('Error during call to suggestCharts:', error);\n",
              "      }\n",
              "      quickchartButtonEl.classList.remove('colab-df-spinner');\n",
              "      quickchartButtonEl.classList.add('colab-df-quickchart-complete');\n",
              "    }\n",
              "    (() => {\n",
              "      let quickchartButtonEl =\n",
              "        document.querySelector('#df-99a8929d-f84c-44b2-88c6-c1826c7463cc button');\n",
              "      quickchartButtonEl.style.display =\n",
              "        google.colab.kernel.accessAllowed ? 'block' : 'none';\n",
              "    })();\n",
              "  </script>\n",
              "</div>\n",
              "\n",
              "    </div>\n",
              "  </div>\n"
            ],
            "application/vnd.google.colaboratory.intrinsic+json": {
              "type": "dataframe",
              "variable_name": "df",
              "summary": "{\n  \"name\": \"df\",\n  \"rows\": 1003,\n  \"fields\": [\n    {\n      \"column\": \"Age\",\n      \"properties\": {\n        \"dtype\": \"number\",\n        \"std\": 20,\n        \"min\": 3,\n        \"max\": 120,\n        \"num_unique_values\": 99,\n        \"samples\": [\n          76,\n          14,\n          97\n        ],\n        \"semantic_type\": \"\",\n        \"description\": \"\"\n      }\n    },\n    {\n      \"column\": \"Sex\",\n      \"properties\": {\n        \"dtype\": \"category\",\n        \"num_unique_values\": 3,\n        \"samples\": [\n          \"Male\",\n          \"Female\",\n          \"Child\"\n        ],\n        \"semantic_type\": \"\",\n        \"description\": \"\"\n      }\n    },\n    {\n      \"column\": \"Haemoglobin\",\n      \"properties\": {\n        \"dtype\": \"number\",\n        \"std\": 1.4824101978825217,\n        \"min\": 11.0,\n        \"max\": 25.0,\n        \"num_unique_values\": 53,\n        \"samples\": [\n          11.6,\n          11.8,\n          13.9\n        ],\n        \"semantic_type\": \"\",\n        \"description\": \"\"\n      }\n    },\n    {\n      \"column\": \"WBC Count\",\n      \"properties\": {\n        \"dtype\": \"number\",\n        \"std\": 2333.300226226928,\n        \"min\": 2000.0,\n        \"max\": 10900.0,\n        \"num_unique_values\": 74,\n        \"samples\": [\n          3100.0,\n          8400.0,\n          5800.0\n        ],\n        \"semantic_type\": \"\",\n        \"description\": \"\"\n      }\n    },\n    {\n      \"column\": \"Differential Count\",\n      \"properties\": {\n        \"dtype\": \"number\",\n        \"std\": 0,\n        \"min\": 0,\n        \"max\": 1,\n        \"num_unique_values\": 2,\n        \"samples\": [\n          0,\n          1\n        ],\n        \"semantic_type\": \"\",\n        \"description\": \"\"\n      }\n    },\n    {\n      \"column\": \"RBC PANEL\",\n      \"properties\": {\n        \"dtype\": \"number\",\n        \"std\": 0,\n        \"min\": 0,\n        \"max\": 1,\n        \"num_unique_values\": 2,\n        \"samples\": [\n          0,\n          1\n        ],\n        \"semantic_type\": \"\",\n        \"description\": \"\"\n      }\n    },\n    {\n      \"column\": \"Platelet Count\",\n      \"properties\": {\n        \"dtype\": \"number\",\n        \"std\": 89000.9824799544,\n        \"min\": 10000.0,\n        \"max\": 500000.0,\n        \"num_unique_values\": 355,\n        \"samples\": [\n          14500.0,\n          110000.0\n        ],\n        \"semantic_type\": \"\",\n        \"description\": \"\"\n      }\n    },\n    {\n      \"column\": \"PDW\",\n      \"properties\": {\n        \"dtype\": \"number\",\n        \"std\": 14.619861813079517,\n        \"min\": 1.0,\n        \"max\": 215.0,\n        \"num_unique_values\": 242,\n        \"samples\": [\n          17.5,\n          12.5\n        ],\n        \"semantic_type\": \"\",\n        \"description\": \"\"\n      }\n    },\n    {\n      \"column\": \"Final Output\",\n      \"properties\": {\n        \"dtype\": \"number\",\n        \"std\": 0.46807067162265725,\n        \"min\": 0.0,\n        \"max\": 1.0,\n        \"num_unique_values\": 2,\n        \"samples\": [\n          0.0,\n          1.0\n        ],\n        \"semantic_type\": \"\",\n        \"description\": \"\"\n      }\n    }\n  ]\n}"
            }
          },
          "metadata": {},
          "execution_count": 43
        }
      ],
      "source": [
        "df.head(20)"
      ]
    },
    {
      "cell_type": "code",
      "execution_count": null,
      "metadata": {
        "id": "Mx81NCskdI4c"
      },
      "outputs": [],
      "source": [
        "df['Final Output'] = df['Final Output'].replace( [1.0 , 0.0 ], [1,0] )\n"
      ]
    },
    {
      "cell_type": "code",
      "execution_count": null,
      "metadata": {
        "colab": {
          "base_uri": "https://localhost:8080/"
        },
        "id": "pctOiBMnoIKA",
        "outputId": "43117539-2753-4de9-8a43-dbfb66c55158"
      },
      "outputs": [
        {
          "output_type": "stream",
          "name": "stdout",
          "text": [
            "<class 'pandas.core.frame.DataFrame'>\n",
            "RangeIndex: 1003 entries, 0 to 1002\n",
            "Data columns (total 9 columns):\n",
            " #   Column              Non-Null Count  Dtype  \n",
            "---  ------              --------------  -----  \n",
            " 0   Age                 1003 non-null   int64  \n",
            " 1   Sex                 1003 non-null   object \n",
            " 2   Haemoglobin         1003 non-null   float64\n",
            " 3   WBC Count           979 non-null    float64\n",
            " 4   Differential Count  1003 non-null   int64  \n",
            " 5   RBC PANEL           1003 non-null   int64  \n",
            " 6   Platelet Count      986 non-null    float64\n",
            " 7   PDW                 984 non-null    float64\n",
            " 8   Final Output        989 non-null    float64\n",
            "dtypes: float64(5), int64(3), object(1)\n",
            "memory usage: 70.7+ KB\n"
          ]
        }
      ],
      "source": [
        "df.info()"
      ]
    },
    {
      "cell_type": "markdown",
      "metadata": {
        "id": "FfcwrCRNs36P"
      },
      "source": [
        "## **Making a copy of main dataset as \"df_rename\"**"
      ]
    },
    {
      "cell_type": "code",
      "execution_count": null,
      "metadata": {
        "colab": {
          "base_uri": "https://localhost:8080/",
          "height": 424
        },
        "id": "TkN3c3jvA8G4",
        "outputId": "019e08f7-0b3e-4dee-865e-16685694aa75"
      },
      "outputs": [
        {
          "output_type": "execute_result",
          "data": {
            "text/plain": [
              "      Age     Sex  Haemoglobin  WBC Count  Differential Count  RBC PANEL  \\\n",
              "0      43    Male         12.6     2200.0                   1          1   \n",
              "1      45    Male         13.2     3000.0                   0          1   \n",
              "2      50  Female         11.0     3300.0                   1          1   \n",
              "3      57  Female         11.9     3500.0                   1          0   \n",
              "4      51  Female         13.0     3100.0                   0          1   \n",
              "...   ...     ...          ...        ...                 ...        ...   \n",
              "998    27  Female         11.6     9400.0                   1          1   \n",
              "999    19  Female         15.8     7400.0                   1          1   \n",
              "1000   54  Female         11.9     7500.0                   1          1   \n",
              "1001   34    Male         14.6     9500.0                   1          1   \n",
              "1002   32    Male         12.8     6700.0                   1          1   \n",
              "\n",
              "      Platelet Count   PDW  Final Output  \n",
              "0            62000.0  11.0           1.0  \n",
              "1            17000.0  17.0           1.0  \n",
              "2            19000.0  16.3           1.0  \n",
              "3            29000.0  14.0           1.0  \n",
              "4            30000.0  14.5           1.0  \n",
              "...              ...   ...           ...  \n",
              "998         400000.0  39.9           0.0  \n",
              "999         320560.0  56.0           0.0  \n",
              "1000        345000.0  44.4           0.0  \n",
              "1001        326000.0  41.9           0.0  \n",
              "1002        175000.0  55.5           0.0  \n",
              "\n",
              "[1003 rows x 9 columns]"
            ],
            "text/html": [
              "\n",
              "  <div id=\"df-e79aca30-567b-4384-adcd-c714387f50f7\" class=\"colab-df-container\">\n",
              "    <div>\n",
              "<style scoped>\n",
              "    .dataframe tbody tr th:only-of-type {\n",
              "        vertical-align: middle;\n",
              "    }\n",
              "\n",
              "    .dataframe tbody tr th {\n",
              "        vertical-align: top;\n",
              "    }\n",
              "\n",
              "    .dataframe thead th {\n",
              "        text-align: right;\n",
              "    }\n",
              "</style>\n",
              "<table border=\"1\" class=\"dataframe\">\n",
              "  <thead>\n",
              "    <tr style=\"text-align: right;\">\n",
              "      <th></th>\n",
              "      <th>Age</th>\n",
              "      <th>Sex</th>\n",
              "      <th>Haemoglobin</th>\n",
              "      <th>WBC Count</th>\n",
              "      <th>Differential Count</th>\n",
              "      <th>RBC PANEL</th>\n",
              "      <th>Platelet Count</th>\n",
              "      <th>PDW</th>\n",
              "      <th>Final Output</th>\n",
              "    </tr>\n",
              "  </thead>\n",
              "  <tbody>\n",
              "    <tr>\n",
              "      <th>0</th>\n",
              "      <td>43</td>\n",
              "      <td>Male</td>\n",
              "      <td>12.6</td>\n",
              "      <td>2200.0</td>\n",
              "      <td>1</td>\n",
              "      <td>1</td>\n",
              "      <td>62000.0</td>\n",
              "      <td>11.0</td>\n",
              "      <td>1.0</td>\n",
              "    </tr>\n",
              "    <tr>\n",
              "      <th>1</th>\n",
              "      <td>45</td>\n",
              "      <td>Male</td>\n",
              "      <td>13.2</td>\n",
              "      <td>3000.0</td>\n",
              "      <td>0</td>\n",
              "      <td>1</td>\n",
              "      <td>17000.0</td>\n",
              "      <td>17.0</td>\n",
              "      <td>1.0</td>\n",
              "    </tr>\n",
              "    <tr>\n",
              "      <th>2</th>\n",
              "      <td>50</td>\n",
              "      <td>Female</td>\n",
              "      <td>11.0</td>\n",
              "      <td>3300.0</td>\n",
              "      <td>1</td>\n",
              "      <td>1</td>\n",
              "      <td>19000.0</td>\n",
              "      <td>16.3</td>\n",
              "      <td>1.0</td>\n",
              "    </tr>\n",
              "    <tr>\n",
              "      <th>3</th>\n",
              "      <td>57</td>\n",
              "      <td>Female</td>\n",
              "      <td>11.9</td>\n",
              "      <td>3500.0</td>\n",
              "      <td>1</td>\n",
              "      <td>0</td>\n",
              "      <td>29000.0</td>\n",
              "      <td>14.0</td>\n",
              "      <td>1.0</td>\n",
              "    </tr>\n",
              "    <tr>\n",
              "      <th>4</th>\n",
              "      <td>51</td>\n",
              "      <td>Female</td>\n",
              "      <td>13.0</td>\n",
              "      <td>3100.0</td>\n",
              "      <td>0</td>\n",
              "      <td>1</td>\n",
              "      <td>30000.0</td>\n",
              "      <td>14.5</td>\n",
              "      <td>1.0</td>\n",
              "    </tr>\n",
              "    <tr>\n",
              "      <th>...</th>\n",
              "      <td>...</td>\n",
              "      <td>...</td>\n",
              "      <td>...</td>\n",
              "      <td>...</td>\n",
              "      <td>...</td>\n",
              "      <td>...</td>\n",
              "      <td>...</td>\n",
              "      <td>...</td>\n",
              "      <td>...</td>\n",
              "    </tr>\n",
              "    <tr>\n",
              "      <th>998</th>\n",
              "      <td>27</td>\n",
              "      <td>Female</td>\n",
              "      <td>11.6</td>\n",
              "      <td>9400.0</td>\n",
              "      <td>1</td>\n",
              "      <td>1</td>\n",
              "      <td>400000.0</td>\n",
              "      <td>39.9</td>\n",
              "      <td>0.0</td>\n",
              "    </tr>\n",
              "    <tr>\n",
              "      <th>999</th>\n",
              "      <td>19</td>\n",
              "      <td>Female</td>\n",
              "      <td>15.8</td>\n",
              "      <td>7400.0</td>\n",
              "      <td>1</td>\n",
              "      <td>1</td>\n",
              "      <td>320560.0</td>\n",
              "      <td>56.0</td>\n",
              "      <td>0.0</td>\n",
              "    </tr>\n",
              "    <tr>\n",
              "      <th>1000</th>\n",
              "      <td>54</td>\n",
              "      <td>Female</td>\n",
              "      <td>11.9</td>\n",
              "      <td>7500.0</td>\n",
              "      <td>1</td>\n",
              "      <td>1</td>\n",
              "      <td>345000.0</td>\n",
              "      <td>44.4</td>\n",
              "      <td>0.0</td>\n",
              "    </tr>\n",
              "    <tr>\n",
              "      <th>1001</th>\n",
              "      <td>34</td>\n",
              "      <td>Male</td>\n",
              "      <td>14.6</td>\n",
              "      <td>9500.0</td>\n",
              "      <td>1</td>\n",
              "      <td>1</td>\n",
              "      <td>326000.0</td>\n",
              "      <td>41.9</td>\n",
              "      <td>0.0</td>\n",
              "    </tr>\n",
              "    <tr>\n",
              "      <th>1002</th>\n",
              "      <td>32</td>\n",
              "      <td>Male</td>\n",
              "      <td>12.8</td>\n",
              "      <td>6700.0</td>\n",
              "      <td>1</td>\n",
              "      <td>1</td>\n",
              "      <td>175000.0</td>\n",
              "      <td>55.5</td>\n",
              "      <td>0.0</td>\n",
              "    </tr>\n",
              "  </tbody>\n",
              "</table>\n",
              "<p>1003 rows × 9 columns</p>\n",
              "</div>\n",
              "    <div class=\"colab-df-buttons\">\n",
              "\n",
              "  <div class=\"colab-df-container\">\n",
              "    <button class=\"colab-df-convert\" onclick=\"convertToInteractive('df-e79aca30-567b-4384-adcd-c714387f50f7')\"\n",
              "            title=\"Convert this dataframe to an interactive table.\"\n",
              "            style=\"display:none;\">\n",
              "\n",
              "  <svg xmlns=\"http://www.w3.org/2000/svg\" height=\"24px\" viewBox=\"0 -960 960 960\">\n",
              "    <path d=\"M120-120v-720h720v720H120Zm60-500h600v-160H180v160Zm220 220h160v-160H400v160Zm0 220h160v-160H400v160ZM180-400h160v-160H180v160Zm440 0h160v-160H620v160ZM180-180h160v-160H180v160Zm440 0h160v-160H620v160Z\"/>\n",
              "  </svg>\n",
              "    </button>\n",
              "\n",
              "  <style>\n",
              "    .colab-df-container {\n",
              "      display:flex;\n",
              "      gap: 12px;\n",
              "    }\n",
              "\n",
              "    .colab-df-convert {\n",
              "      background-color: #E8F0FE;\n",
              "      border: none;\n",
              "      border-radius: 50%;\n",
              "      cursor: pointer;\n",
              "      display: none;\n",
              "      fill: #1967D2;\n",
              "      height: 32px;\n",
              "      padding: 0 0 0 0;\n",
              "      width: 32px;\n",
              "    }\n",
              "\n",
              "    .colab-df-convert:hover {\n",
              "      background-color: #E2EBFA;\n",
              "      box-shadow: 0px 1px 2px rgba(60, 64, 67, 0.3), 0px 1px 3px 1px rgba(60, 64, 67, 0.15);\n",
              "      fill: #174EA6;\n",
              "    }\n",
              "\n",
              "    .colab-df-buttons div {\n",
              "      margin-bottom: 4px;\n",
              "    }\n",
              "\n",
              "    [theme=dark] .colab-df-convert {\n",
              "      background-color: #3B4455;\n",
              "      fill: #D2E3FC;\n",
              "    }\n",
              "\n",
              "    [theme=dark] .colab-df-convert:hover {\n",
              "      background-color: #434B5C;\n",
              "      box-shadow: 0px 1px 3px 1px rgba(0, 0, 0, 0.15);\n",
              "      filter: drop-shadow(0px 1px 2px rgba(0, 0, 0, 0.3));\n",
              "      fill: #FFFFFF;\n",
              "    }\n",
              "  </style>\n",
              "\n",
              "    <script>\n",
              "      const buttonEl =\n",
              "        document.querySelector('#df-e79aca30-567b-4384-adcd-c714387f50f7 button.colab-df-convert');\n",
              "      buttonEl.style.display =\n",
              "        google.colab.kernel.accessAllowed ? 'block' : 'none';\n",
              "\n",
              "      async function convertToInteractive(key) {\n",
              "        const element = document.querySelector('#df-e79aca30-567b-4384-adcd-c714387f50f7');\n",
              "        const dataTable =\n",
              "          await google.colab.kernel.invokeFunction('convertToInteractive',\n",
              "                                                    [key], {});\n",
              "        if (!dataTable) return;\n",
              "\n",
              "        const docLinkHtml = 'Like what you see? Visit the ' +\n",
              "          '<a target=\"_blank\" href=https://colab.research.google.com/notebooks/data_table.ipynb>data table notebook</a>'\n",
              "          + ' to learn more about interactive tables.';\n",
              "        element.innerHTML = '';\n",
              "        dataTable['output_type'] = 'display_data';\n",
              "        await google.colab.output.renderOutput(dataTable, element);\n",
              "        const docLink = document.createElement('div');\n",
              "        docLink.innerHTML = docLinkHtml;\n",
              "        element.appendChild(docLink);\n",
              "      }\n",
              "    </script>\n",
              "  </div>\n",
              "\n",
              "\n",
              "<div id=\"df-9726f454-d13c-4f18-937d-b82586e13b2c\">\n",
              "  <button class=\"colab-df-quickchart\" onclick=\"quickchart('df-9726f454-d13c-4f18-937d-b82586e13b2c')\"\n",
              "            title=\"Suggest charts\"\n",
              "            style=\"display:none;\">\n",
              "\n",
              "<svg xmlns=\"http://www.w3.org/2000/svg\" height=\"24px\"viewBox=\"0 0 24 24\"\n",
              "     width=\"24px\">\n",
              "    <g>\n",
              "        <path d=\"M19 3H5c-1.1 0-2 .9-2 2v14c0 1.1.9 2 2 2h14c1.1 0 2-.9 2-2V5c0-1.1-.9-2-2-2zM9 17H7v-7h2v7zm4 0h-2V7h2v10zm4 0h-2v-4h2v4z\"/>\n",
              "    </g>\n",
              "</svg>\n",
              "  </button>\n",
              "\n",
              "<style>\n",
              "  .colab-df-quickchart {\n",
              "      --bg-color: #E8F0FE;\n",
              "      --fill-color: #1967D2;\n",
              "      --hover-bg-color: #E2EBFA;\n",
              "      --hover-fill-color: #174EA6;\n",
              "      --disabled-fill-color: #AAA;\n",
              "      --disabled-bg-color: #DDD;\n",
              "  }\n",
              "\n",
              "  [theme=dark] .colab-df-quickchart {\n",
              "      --bg-color: #3B4455;\n",
              "      --fill-color: #D2E3FC;\n",
              "      --hover-bg-color: #434B5C;\n",
              "      --hover-fill-color: #FFFFFF;\n",
              "      --disabled-bg-color: #3B4455;\n",
              "      --disabled-fill-color: #666;\n",
              "  }\n",
              "\n",
              "  .colab-df-quickchart {\n",
              "    background-color: var(--bg-color);\n",
              "    border: none;\n",
              "    border-radius: 50%;\n",
              "    cursor: pointer;\n",
              "    display: none;\n",
              "    fill: var(--fill-color);\n",
              "    height: 32px;\n",
              "    padding: 0;\n",
              "    width: 32px;\n",
              "  }\n",
              "\n",
              "  .colab-df-quickchart:hover {\n",
              "    background-color: var(--hover-bg-color);\n",
              "    box-shadow: 0 1px 2px rgba(60, 64, 67, 0.3), 0 1px 3px 1px rgba(60, 64, 67, 0.15);\n",
              "    fill: var(--button-hover-fill-color);\n",
              "  }\n",
              "\n",
              "  .colab-df-quickchart-complete:disabled,\n",
              "  .colab-df-quickchart-complete:disabled:hover {\n",
              "    background-color: var(--disabled-bg-color);\n",
              "    fill: var(--disabled-fill-color);\n",
              "    box-shadow: none;\n",
              "  }\n",
              "\n",
              "  .colab-df-spinner {\n",
              "    border: 2px solid var(--fill-color);\n",
              "    border-color: transparent;\n",
              "    border-bottom-color: var(--fill-color);\n",
              "    animation:\n",
              "      spin 1s steps(1) infinite;\n",
              "  }\n",
              "\n",
              "  @keyframes spin {\n",
              "    0% {\n",
              "      border-color: transparent;\n",
              "      border-bottom-color: var(--fill-color);\n",
              "      border-left-color: var(--fill-color);\n",
              "    }\n",
              "    20% {\n",
              "      border-color: transparent;\n",
              "      border-left-color: var(--fill-color);\n",
              "      border-top-color: var(--fill-color);\n",
              "    }\n",
              "    30% {\n",
              "      border-color: transparent;\n",
              "      border-left-color: var(--fill-color);\n",
              "      border-top-color: var(--fill-color);\n",
              "      border-right-color: var(--fill-color);\n",
              "    }\n",
              "    40% {\n",
              "      border-color: transparent;\n",
              "      border-right-color: var(--fill-color);\n",
              "      border-top-color: var(--fill-color);\n",
              "    }\n",
              "    60% {\n",
              "      border-color: transparent;\n",
              "      border-right-color: var(--fill-color);\n",
              "    }\n",
              "    80% {\n",
              "      border-color: transparent;\n",
              "      border-right-color: var(--fill-color);\n",
              "      border-bottom-color: var(--fill-color);\n",
              "    }\n",
              "    90% {\n",
              "      border-color: transparent;\n",
              "      border-bottom-color: var(--fill-color);\n",
              "    }\n",
              "  }\n",
              "</style>\n",
              "\n",
              "  <script>\n",
              "    async function quickchart(key) {\n",
              "      const quickchartButtonEl =\n",
              "        document.querySelector('#' + key + ' button');\n",
              "      quickchartButtonEl.disabled = true;  // To prevent multiple clicks.\n",
              "      quickchartButtonEl.classList.add('colab-df-spinner');\n",
              "      try {\n",
              "        const charts = await google.colab.kernel.invokeFunction(\n",
              "            'suggestCharts', [key], {});\n",
              "      } catch (error) {\n",
              "        console.error('Error during call to suggestCharts:', error);\n",
              "      }\n",
              "      quickchartButtonEl.classList.remove('colab-df-spinner');\n",
              "      quickchartButtonEl.classList.add('colab-df-quickchart-complete');\n",
              "    }\n",
              "    (() => {\n",
              "      let quickchartButtonEl =\n",
              "        document.querySelector('#df-9726f454-d13c-4f18-937d-b82586e13b2c button');\n",
              "      quickchartButtonEl.style.display =\n",
              "        google.colab.kernel.accessAllowed ? 'block' : 'none';\n",
              "    })();\n",
              "  </script>\n",
              "</div>\n",
              "\n",
              "  <div id=\"id_e331a7a5-df02-48c8-852d-187405c732ee\">\n",
              "    <style>\n",
              "      .colab-df-generate {\n",
              "        background-color: #E8F0FE;\n",
              "        border: none;\n",
              "        border-radius: 50%;\n",
              "        cursor: pointer;\n",
              "        display: none;\n",
              "        fill: #1967D2;\n",
              "        height: 32px;\n",
              "        padding: 0 0 0 0;\n",
              "        width: 32px;\n",
              "      }\n",
              "\n",
              "      .colab-df-generate:hover {\n",
              "        background-color: #E2EBFA;\n",
              "        box-shadow: 0px 1px 2px rgba(60, 64, 67, 0.3), 0px 1px 3px 1px rgba(60, 64, 67, 0.15);\n",
              "        fill: #174EA6;\n",
              "      }\n",
              "\n",
              "      [theme=dark] .colab-df-generate {\n",
              "        background-color: #3B4455;\n",
              "        fill: #D2E3FC;\n",
              "      }\n",
              "\n",
              "      [theme=dark] .colab-df-generate:hover {\n",
              "        background-color: #434B5C;\n",
              "        box-shadow: 0px 1px 3px 1px rgba(0, 0, 0, 0.15);\n",
              "        filter: drop-shadow(0px 1px 2px rgba(0, 0, 0, 0.3));\n",
              "        fill: #FFFFFF;\n",
              "      }\n",
              "    </style>\n",
              "    <button class=\"colab-df-generate\" onclick=\"generateWithVariable('df_rename')\"\n",
              "            title=\"Generate code using this dataframe.\"\n",
              "            style=\"display:none;\">\n",
              "\n",
              "  <svg xmlns=\"http://www.w3.org/2000/svg\" height=\"24px\"viewBox=\"0 0 24 24\"\n",
              "       width=\"24px\">\n",
              "    <path d=\"M7,19H8.4L18.45,9,17,7.55,7,17.6ZM5,21V16.75L18.45,3.32a2,2,0,0,1,2.83,0l1.4,1.43a1.91,1.91,0,0,1,.58,1.4,1.91,1.91,0,0,1-.58,1.4L9.25,21ZM18.45,9,17,7.55Zm-12,3A5.31,5.31,0,0,0,4.9,8.1,5.31,5.31,0,0,0,1,6.5,5.31,5.31,0,0,0,4.9,4.9,5.31,5.31,0,0,0,6.5,1,5.31,5.31,0,0,0,8.1,4.9,5.31,5.31,0,0,0,12,6.5,5.46,5.46,0,0,0,6.5,12Z\"/>\n",
              "  </svg>\n",
              "    </button>\n",
              "    <script>\n",
              "      (() => {\n",
              "      const buttonEl =\n",
              "        document.querySelector('#id_e331a7a5-df02-48c8-852d-187405c732ee button.colab-df-generate');\n",
              "      buttonEl.style.display =\n",
              "        google.colab.kernel.accessAllowed ? 'block' : 'none';\n",
              "\n",
              "      buttonEl.onclick = () => {\n",
              "        google.colab.notebook.generateWithVariable('df_rename');\n",
              "      }\n",
              "      })();\n",
              "    </script>\n",
              "  </div>\n",
              "\n",
              "    </div>\n",
              "  </div>\n"
            ],
            "application/vnd.google.colaboratory.intrinsic+json": {
              "type": "dataframe",
              "variable_name": "df_rename",
              "summary": "{\n  \"name\": \"df_rename\",\n  \"rows\": 1003,\n  \"fields\": [\n    {\n      \"column\": \"Age\",\n      \"properties\": {\n        \"dtype\": \"number\",\n        \"std\": 20,\n        \"min\": 3,\n        \"max\": 120,\n        \"num_unique_values\": 99,\n        \"samples\": [\n          76,\n          14,\n          97\n        ],\n        \"semantic_type\": \"\",\n        \"description\": \"\"\n      }\n    },\n    {\n      \"column\": \"Sex\",\n      \"properties\": {\n        \"dtype\": \"category\",\n        \"num_unique_values\": 3,\n        \"samples\": [\n          \"Male\",\n          \"Female\",\n          \"Child\"\n        ],\n        \"semantic_type\": \"\",\n        \"description\": \"\"\n      }\n    },\n    {\n      \"column\": \"Haemoglobin\",\n      \"properties\": {\n        \"dtype\": \"number\",\n        \"std\": 1.4824101978825217,\n        \"min\": 11.0,\n        \"max\": 25.0,\n        \"num_unique_values\": 53,\n        \"samples\": [\n          11.6,\n          11.8,\n          13.9\n        ],\n        \"semantic_type\": \"\",\n        \"description\": \"\"\n      }\n    },\n    {\n      \"column\": \"WBC Count\",\n      \"properties\": {\n        \"dtype\": \"number\",\n        \"std\": 2333.300226226928,\n        \"min\": 2000.0,\n        \"max\": 10900.0,\n        \"num_unique_values\": 74,\n        \"samples\": [\n          3100.0,\n          8400.0,\n          5800.0\n        ],\n        \"semantic_type\": \"\",\n        \"description\": \"\"\n      }\n    },\n    {\n      \"column\": \"Differential Count\",\n      \"properties\": {\n        \"dtype\": \"number\",\n        \"std\": 0,\n        \"min\": 0,\n        \"max\": 1,\n        \"num_unique_values\": 2,\n        \"samples\": [\n          0,\n          1\n        ],\n        \"semantic_type\": \"\",\n        \"description\": \"\"\n      }\n    },\n    {\n      \"column\": \"RBC PANEL\",\n      \"properties\": {\n        \"dtype\": \"number\",\n        \"std\": 0,\n        \"min\": 0,\n        \"max\": 1,\n        \"num_unique_values\": 2,\n        \"samples\": [\n          0,\n          1\n        ],\n        \"semantic_type\": \"\",\n        \"description\": \"\"\n      }\n    },\n    {\n      \"column\": \"Platelet Count\",\n      \"properties\": {\n        \"dtype\": \"number\",\n        \"std\": 89000.9824799544,\n        \"min\": 10000.0,\n        \"max\": 500000.0,\n        \"num_unique_values\": 355,\n        \"samples\": [\n          14500.0,\n          110000.0\n        ],\n        \"semantic_type\": \"\",\n        \"description\": \"\"\n      }\n    },\n    {\n      \"column\": \"PDW\",\n      \"properties\": {\n        \"dtype\": \"number\",\n        \"std\": 14.619861813079517,\n        \"min\": 1.0,\n        \"max\": 215.0,\n        \"num_unique_values\": 242,\n        \"samples\": [\n          17.5,\n          12.5\n        ],\n        \"semantic_type\": \"\",\n        \"description\": \"\"\n      }\n    },\n    {\n      \"column\": \"Final Output\",\n      \"properties\": {\n        \"dtype\": \"number\",\n        \"std\": 0.46807067162265725,\n        \"min\": 0.0,\n        \"max\": 1.0,\n        \"num_unique_values\": 2,\n        \"samples\": [\n          0.0,\n          1.0\n        ],\n        \"semantic_type\": \"\",\n        \"description\": \"\"\n      }\n    }\n  ]\n}"
            }
          },
          "metadata": {},
          "execution_count": 46
        }
      ],
      "source": [
        "df_rename = df.copy()\n",
        "\n",
        "df_rename"
      ]
    },
    {
      "cell_type": "code",
      "execution_count": null,
      "metadata": {
        "colab": {
          "base_uri": "https://localhost:8080/",
          "height": 366
        },
        "id": "zAIKW0cxCIj1",
        "outputId": "2611d6eb-b56d-4a92-f3b4-cc20ed60b70e"
      },
      "outputs": [
        {
          "output_type": "execute_result",
          "data": {
            "text/plain": [
              "Age                     int64\n",
              "Sex                    object\n",
              "Haemoglobin           float64\n",
              "WBC Count             float64\n",
              "Differential Count      int64\n",
              "RBC PANEL               int64\n",
              "Platelet Count        float64\n",
              "PDW                   float64\n",
              "Final Output          float64\n",
              "dtype: object"
            ],
            "text/html": [
              "<div>\n",
              "<style scoped>\n",
              "    .dataframe tbody tr th:only-of-type {\n",
              "        vertical-align: middle;\n",
              "    }\n",
              "\n",
              "    .dataframe tbody tr th {\n",
              "        vertical-align: top;\n",
              "    }\n",
              "\n",
              "    .dataframe thead th {\n",
              "        text-align: right;\n",
              "    }\n",
              "</style>\n",
              "<table border=\"1\" class=\"dataframe\">\n",
              "  <thead>\n",
              "    <tr style=\"text-align: right;\">\n",
              "      <th></th>\n",
              "      <th>0</th>\n",
              "    </tr>\n",
              "  </thead>\n",
              "  <tbody>\n",
              "    <tr>\n",
              "      <th>Age</th>\n",
              "      <td>int64</td>\n",
              "    </tr>\n",
              "    <tr>\n",
              "      <th>Sex</th>\n",
              "      <td>object</td>\n",
              "    </tr>\n",
              "    <tr>\n",
              "      <th>Haemoglobin</th>\n",
              "      <td>float64</td>\n",
              "    </tr>\n",
              "    <tr>\n",
              "      <th>WBC Count</th>\n",
              "      <td>float64</td>\n",
              "    </tr>\n",
              "    <tr>\n",
              "      <th>Differential Count</th>\n",
              "      <td>int64</td>\n",
              "    </tr>\n",
              "    <tr>\n",
              "      <th>RBC PANEL</th>\n",
              "      <td>int64</td>\n",
              "    </tr>\n",
              "    <tr>\n",
              "      <th>Platelet Count</th>\n",
              "      <td>float64</td>\n",
              "    </tr>\n",
              "    <tr>\n",
              "      <th>PDW</th>\n",
              "      <td>float64</td>\n",
              "    </tr>\n",
              "    <tr>\n",
              "      <th>Final Output</th>\n",
              "      <td>float64</td>\n",
              "    </tr>\n",
              "  </tbody>\n",
              "</table>\n",
              "</div><br><label><b>dtype:</b> object</label>"
            ]
          },
          "metadata": {},
          "execution_count": 47
        }
      ],
      "source": [
        "df_rename.dtypes"
      ]
    },
    {
      "cell_type": "markdown",
      "metadata": {
        "id": "DWcvZXGLtDFN"
      },
      "source": [
        "## **Finding the percentage of missing values percentage**"
      ]
    },
    {
      "cell_type": "code",
      "execution_count": null,
      "metadata": {
        "colab": {
          "base_uri": "https://localhost:8080/"
        },
        "id": "6Q0DEssdCOvc",
        "outputId": "b5043bec-d2c7-4799-fd6f-02a6c7bd5bb9"
      },
      "outputs": [
        {
          "output_type": "stream",
          "name": "stdout",
          "text": [
            "Age                   0.000000\n",
            "Sex                   0.000000\n",
            "Haemoglobin           0.000000\n",
            "WBC Count             2.392822\n",
            "Differential Count    0.000000\n",
            "RBC PANEL             0.000000\n",
            "Platelet Count        1.694915\n",
            "PDW                   1.894317\n",
            "Final Output          1.395813\n",
            "dtype: float64\n",
            "Age                    0\n",
            "Sex                    0\n",
            "Haemoglobin            0\n",
            "WBC Count             24\n",
            "Differential Count     0\n",
            "RBC PANEL              0\n",
            "Platelet Count        17\n",
            "PDW                   19\n",
            "Final Output          14\n",
            "dtype: int64\n"
          ]
        }
      ],
      "source": [
        "missing_values = df.isna().sum()\n",
        "missing_values_percent = 100 * df.isna().sum()/len(df)\n",
        "print(missing_values_percent)\n",
        "print(missing_values)"
      ]
    },
    {
      "cell_type": "markdown",
      "metadata": {
        "id": "6Nz-ogl2tNm6"
      },
      "source": [
        "## **Plotting the countdown of missing values**"
      ]
    },
    {
      "cell_type": "code",
      "execution_count": null,
      "metadata": {
        "colab": {
          "base_uri": "https://localhost:8080/",
          "height": 662
        },
        "id": "A2QZMyVqDrFi",
        "outputId": "54b3c478-bd19-4537-cf36-b25fa46c1164"
      },
      "outputs": [
        {
          "output_type": "stream",
          "name": "stderr",
          "text": [
            "<ipython-input-49-557c9a2e8083>:2: FutureWarning: \n",
            "\n",
            "Passing `palette` without assigning `hue` is deprecated and will be removed in v0.14.0. Assign the `x` variable to `hue` and set `legend=False` for the same effect.\n",
            "\n",
            "  sns.barplot(x=missing_counts.index, y=missing_counts.values, palette='viridis')\n"
          ]
        },
        {
          "output_type": "display_data",
          "data": {
            "text/plain": [
              "<Figure size 640x480 with 1 Axes>"
            ],
            "image/png": "[encoded data removed]"
          },
          "metadata": {}
        }
      ],
      "source": [
        "missing_counts = df.isnull().sum()\n",
        "sns.barplot(x=missing_counts.index, y=missing_counts.values, palette='viridis')\n",
        "plt.title(\"missing values\")\n",
        "plt.ylabel('Number of Missing Values')\n",
        "plt.xlabel('Columns')\n",
        "plt.xticks(rotation=45)\n",
        "plt.show()"
      ]
    },
    {
      "cell_type": "markdown",
      "metadata": {
        "id": "PSMRddQ4D9QP"
      },
      "source": [
        "## **for NUMERICAL and BINARY DATATYPE**"
      ]
    },
    {
      "cell_type": "markdown",
      "metadata": {
        "id": "uVSgHEc_Llg9"
      },
      "source": [
        "# **Plot histogram on column \"WBC Count\" , \"Platelet Count\" , \"PDW\"** **and Plot count plot on column \"Final Output\" before filling the Null values**"
      ]
    },
    {
      "cell_type": "code",
      "execution_count": null,
      "metadata": {
        "colab": {
          "base_uri": "https://localhost:8080/",
          "height": 427
        },
        "id": "oV7EKqDRF5Wz",
        "outputId": "322dd1a4-a54a-4462-f9af-b11222ae6b11"
      },
      "outputs": [
        {
          "output_type": "display_data",
          "data": {
            "text/plain": [
              "<Figure size 1800x600 with 4 Axes>"
            ],
            "image/png": "[encoded data removed]"
          },
          "metadata": {}
        }
      ],
      "source": [
        "import matplotlib.pyplot as plt\n",
        "import seaborn as sns\n",
        "\n",
        "#Prepare data,\n",
        "WBC_data = df['WBC Count']\n",
        "Platelet_Count_data = df['Platelet Count']\n",
        "PDW_data = df['PDW']\n",
        "Final_Output = df['Final Output']\n",
        "\n",
        "#Create the figure\n",
        "fig, axs = plt.subplots(1, 4, figsize=(18, 6), sharey=True)\n",
        "\n",
        "#Plot WBC COUNT histogram\n",
        "sns.histplot( WBC_data , bins=20, color='blue', edgecolor='black',kde = True, ax=axs[0])\n",
        "axs[0].set_title('WBC Count')\n",
        "axs[0].set_xlabel('Values')\n",
        "axs[0].set_ylabel('Frequency')\n",
        "\n",
        "#Plot Platelet Count histogram\n",
        "sns.histplot( Platelet_Count_data , bins=20, color='orange', edgecolor='black',kde = True, ax=axs[1])\n",
        "axs[1].set_title('Platelet Count')\n",
        "axs[1].set_xlabel('Values')\n",
        "axs[1].set_ylabel('Frequency')\n",
        "\n",
        "#Plot WBC COUNT histogram\n",
        "sns.histplot( PDW_data , bins=20, color='violet', edgecolor='black',kde = True, ax=axs[2])\n",
        "axs[2].set_title('PDW')\n",
        "axs[2].set_xlabel('Values')\n",
        "axs[2].set_ylabel('Frequency')\n",
        "\n",
        "#Plot Final Output countplot\n",
        "sns.countplot( x = 'Final Output', data=df , color='green', edgecolor='black', ax=axs[3])\n",
        "axs[3].set_title('Final Output ( 0 = Negative ; 1 = Positive)')\n",
        "axs[3].set_xlabel('Values')\n",
        "axs[3].set_ylabel('Frequency')\n",
        "\n",
        "#Adjust layout and show the plot\n",
        "plt.tight_layout()\n",
        "plt.show()"
      ]
    },
    {
      "cell_type": "markdown",
      "metadata": {
        "id": "O83QNvEXsfDV"
      },
      "source": [
        "## **Filling the null values**"
      ]
    },
    {
      "cell_type": "code",
      "execution_count": null,
      "metadata": {
        "colab": {
          "base_uri": "https://localhost:8080/",
          "height": 565
        },
        "id": "mPHjYC1nObsO",
        "outputId": "94de3691-1a87-42ab-b7a2-fb5d1eca923f"
      },
      "outputs": [
        {
          "output_type": "stream",
          "name": "stderr",
          "text": [
            "<ipython-input-51-b907fdf33499>:7: FutureWarning: A value is trying to be set on a copy of a DataFrame or Series through chained assignment using an inplace method.\n",
            "The behavior will change in pandas 3.0. This inplace method will never work because the intermediate object on which we are setting values always behaves as a copy.\n",
            "\n",
            "For example, when doing 'df[col].method(value, inplace=True)', try using 'df.method({col: value}, inplace=True)' or df[col] = df[col].method(value) instead, to perform the operation inplace on the original object.\n",
            "\n",
            "\n",
            "  df_rename['Final Output'].fillna(df_rename['Final Output'].mode()[0], inplace = True)\n"
          ]
        },
        {
          "output_type": "execute_result",
          "data": {
            "text/plain": [
              "      Age     Sex  Haemoglobin  WBC Count  Differential Count  RBC PANEL  \\\n",
              "0      43    Male         12.6     2200.0                   1          1   \n",
              "1      45    Male         13.2     3000.0                   0          1   \n",
              "2      50  Female         11.0     3300.0                   1          1   \n",
              "3      57  Female         11.9     3500.0                   1          0   \n",
              "4      51  Female         13.0     3100.0                   0          1   \n",
              "...   ...     ...          ...        ...                 ...        ...   \n",
              "998    27  Female         11.6     9400.0                   1          1   \n",
              "999    19  Female         15.8     7400.0                   1          1   \n",
              "1000   54  Female         11.9     7500.0                   1          1   \n",
              "1001   34    Male         14.6     9500.0                   1          1   \n",
              "1002   32    Male         12.8     6700.0                   1          1   \n",
              "\n",
              "      Platelet Count   PDW  Final Output  \n",
              "0            62000.0  11.0           1.0  \n",
              "1            17000.0  17.0           1.0  \n",
              "2            19000.0  16.3           1.0  \n",
              "3            29000.0  14.0           1.0  \n",
              "4            30000.0  14.5           1.0  \n",
              "...              ...   ...           ...  \n",
              "998         400000.0  39.9           0.0  \n",
              "999         320560.0  56.0           0.0  \n",
              "1000        345000.0  44.4           0.0  \n",
              "1001        326000.0  41.9           0.0  \n",
              "1002        175000.0  55.5           0.0  \n",
              "\n",
              "[1003 rows x 9 columns]"
            ],
            "text/html": [
              "\n",
              "  <div id=\"df-bfb6675a-dd48-4b8a-8baf-fe1007699410\" class=\"colab-df-container\">\n",
              "    <div>\n",
              "<style scoped>\n",
              "    .dataframe tbody tr th:only-of-type {\n",
              "        vertical-align: middle;\n",
              "    }\n",
              "\n",
              "    .dataframe tbody tr th {\n",
              "        vertical-align: top;\n",
              "    }\n",
              "\n",
              "    .dataframe thead th {\n",
              "        text-align: right;\n",
              "    }\n",
              "</style>\n",
              "<table border=\"1\" class=\"dataframe\">\n",
              "  <thead>\n",
              "    <tr style=\"text-align: right;\">\n",
              "      <th></th>\n",
              "      <th>Age</th>\n",
              "      <th>Sex</th>\n",
              "      <th>Haemoglobin</th>\n",
              "      <th>WBC Count</th>\n",
              "      <th>Differential Count</th>\n",
              "      <th>RBC PANEL</th>\n",
              "      <th>Platelet Count</th>\n",
              "      <th>PDW</th>\n",
              "      <th>Final Output</th>\n",
              "    </tr>\n",
              "  </thead>\n",
              "  <tbody>\n",
              "    <tr>\n",
              "      <th>0</th>\n",
              "      <td>43</td>\n",
              "      <td>Male</td>\n",
              "      <td>12.6</td>\n",
              "      <td>2200.0</td>\n",
              "      <td>1</td>\n",
              "      <td>1</td>\n",
              "      <td>62000.0</td>\n",
              "      <td>11.0</td>\n",
              "      <td>1.0</td>\n",
              "    </tr>\n",
              "    <tr>\n",
              "      <th>1</th>\n",
              "      <td>45</td>\n",
              "      <td>Male</td>\n",
              "      <td>13.2</td>\n",
              "      <td>3000.0</td>\n",
              "      <td>0</td>\n",
              "      <td>1</td>\n",
              "      <td>17000.0</td>\n",
              "      <td>17.0</td>\n",
              "      <td>1.0</td>\n",
              "    </tr>\n",
              "    <tr>\n",
              "      <th>2</th>\n",
              "      <td>50</td>\n",
              "      <td>Female</td>\n",
              "      <td>11.0</td>\n",
              "      <td>3300.0</td>\n",
              "      <td>1</td>\n",
              "      <td>1</td>\n",
              "      <td>19000.0</td>\n",
              "      <td>16.3</td>\n",
              "      <td>1.0</td>\n",
              "    </tr>\n",
              "    <tr>\n",
              "      <th>3</th>\n",
              "      <td>57</td>\n",
              "      <td>Female</td>\n",
              "      <td>11.9</td>\n",
              "      <td>3500.0</td>\n",
              "      <td>1</td>\n",
              "      <td>0</td>\n",
              "      <td>29000.0</td>\n",
              "      <td>14.0</td>\n",
              "      <td>1.0</td>\n",
              "    </tr>\n",
              "    <tr>\n",
              "      <th>4</th>\n",
              "      <td>51</td>\n",
              "      <td>Female</td>\n",
              "      <td>13.0</td>\n",
              "      <td>3100.0</td>\n",
              "      <td>0</td>\n",
              "      <td>1</td>\n",
              "      <td>30000.0</td>\n",
              "      <td>14.5</td>\n",
              "      <td>1.0</td>\n",
              "    </tr>\n",
              "    <tr>\n",
              "      <th>...</th>\n",
              "      <td>...</td>\n",
              "      <td>...</td>\n",
              "      <td>...</td>\n",
              "      <td>...</td>\n",
              "      <td>...</td>\n",
              "      <td>...</td>\n",
              "      <td>...</td>\n",
              "      <td>...</td>\n",
              "      <td>...</td>\n",
              "    </tr>\n",
              "    <tr>\n",
              "      <th>998</th>\n",
              "      <td>27</td>\n",
              "      <td>Female</td>\n",
              "      <td>11.6</td>\n",
              "      <td>9400.0</td>\n",
              "      <td>1</td>\n",
              "      <td>1</td>\n",
              "      <td>400000.0</td>\n",
              "      <td>39.9</td>\n",
              "      <td>0.0</td>\n",
              "    </tr>\n",
              "    <tr>\n",
              "      <th>999</th>\n",
              "      <td>19</td>\n",
              "      <td>Female</td>\n",
              "      <td>15.8</td>\n",
              "      <td>7400.0</td>\n",
              "      <td>1</td>\n",
              "      <td>1</td>\n",
              "      <td>320560.0</td>\n",
              "      <td>56.0</td>\n",
              "      <td>0.0</td>\n",
              "    </tr>\n",
              "    <tr>\n",
              "      <th>1000</th>\n",
              "      <td>54</td>\n",
              "      <td>Female</td>\n",
              "      <td>11.9</td>\n",
              "      <td>7500.0</td>\n",
              "      <td>1</td>\n",
              "      <td>1</td>\n",
              "      <td>345000.0</td>\n",
              "      <td>44.4</td>\n",
              "      <td>0.0</td>\n",
              "    </tr>\n",
              "    <tr>\n",
              "      <th>1001</th>\n",
              "      <td>34</td>\n",
              "      <td>Male</td>\n",
              "      <td>14.6</td>\n",
              "      <td>9500.0</td>\n",
              "      <td>1</td>\n",
              "      <td>1</td>\n",
              "      <td>326000.0</td>\n",
              "      <td>41.9</td>\n",
              "      <td>0.0</td>\n",
              "    </tr>\n",
              "    <tr>\n",
              "      <th>1002</th>\n",
              "      <td>32</td>\n",
              "      <td>Male</td>\n",
              "      <td>12.8</td>\n",
              "      <td>6700.0</td>\n",
              "      <td>1</td>\n",
              "      <td>1</td>\n",
              "      <td>175000.0</td>\n",
              "      <td>55.5</td>\n",
              "      <td>0.0</td>\n",
              "    </tr>\n",
              "  </tbody>\n",
              "</table>\n",
              "<p>1003 rows × 9 columns</p>\n",
              "</div>\n",
              "    <div class=\"colab-df-buttons\">\n",
              "\n",
              "  <div class=\"colab-df-container\">\n",
              "    <button class=\"colab-df-convert\" onclick=\"convertToInteractive('df-bfb6675a-dd48-4b8a-8baf-fe1007699410')\"\n",
              "            title=\"Convert this dataframe to an interactive table.\"\n",
              "            style=\"display:none;\">\n",
              "\n",
              "  <svg xmlns=\"http://www.w3.org/2000/svg\" height=\"24px\" viewBox=\"0 -960 960 960\">\n",
              "    <path d=\"M120-120v-720h720v720H120Zm60-500h600v-160H180v160Zm220 220h160v-160H400v160Zm0 220h160v-160H400v160ZM180-400h160v-160H180v160Zm440 0h160v-160H620v160ZM180-180h160v-160H180v160Zm440 0h160v-160H620v160Z\"/>\n",
              "  </svg>\n",
              "    </button>\n",
              "\n",
              "  <style>\n",
              "    .colab-df-container {\n",
              "      display:flex;\n",
              "      gap: 12px;\n",
              "    }\n",
              "\n",
              "    .colab-df-convert {\n",
              "      background-color: #E8F0FE;\n",
              "      border: none;\n",
              "      border-radius: 50%;\n",
              "      cursor: pointer;\n",
              "      display: none;\n",
              "      fill: #1967D2;\n",
              "      height: 32px;\n",
              "      padding: 0 0 0 0;\n",
              "      width: 32px;\n",
              "    }\n",
              "\n",
              "    .colab-df-convert:hover {\n",
              "      background-color: #E2EBFA;\n",
              "      box-shadow: 0px 1px 2px rgba(60, 64, 67, 0.3), 0px 1px 3px 1px rgba(60, 64, 67, 0.15);\n",
              "      fill: #174EA6;\n",
              "    }\n",
              "\n",
              "    .colab-df-buttons div {\n",
              "      margin-bottom: 4px;\n",
              "    }\n",
              "\n",
              "    [theme=dark] .colab-df-convert {\n",
              "      background-color: #3B4455;\n",
              "      fill: #D2E3FC;\n",
              "    }\n",
              "\n",
              "    [theme=dark] .colab-df-convert:hover {\n",
              "      background-color: #434B5C;\n",
              "      box-shadow: 0px 1px 3px 1px rgba(0, 0, 0, 0.15);\n",
              "      filter: drop-shadow(0px 1px 2px rgba(0, 0, 0, 0.3));\n",
              "      fill: #FFFFFF;\n",
              "    }\n",
              "  </style>\n",
              "\n",
              "    <script>\n",
              "      const buttonEl =\n",
              "        document.querySelector('#df-bfb6675a-dd48-4b8a-8baf-fe1007699410 button.colab-df-convert');\n",
              "      buttonEl.style.display =\n",
              "        google.colab.kernel.accessAllowed ? 'block' : 'none';\n",
              "\n",
              "      async function convertToInteractive(key) {\n",
              "        const element = document.querySelector('#df-bfb6675a-dd48-4b8a-8baf-fe1007699410');\n",
              "        const dataTable =\n",
              "          await google.colab.kernel.invokeFunction('convertToInteractive',\n",
              "                                                    [key], {});\n",
              "        if (!dataTable) return;\n",
              "\n",
              "        const docLinkHtml = 'Like what you see? Visit the ' +\n",
              "          '<a target=\"_blank\" href=https://colab.research.google.com/notebooks/data_table.ipynb>data table notebook</a>'\n",
              "          + ' to learn more about interactive tables.';\n",
              "        element.innerHTML = '';\n",
              "        dataTable['output_type'] = 'display_data';\n",
              "        await google.colab.output.renderOutput(dataTable, element);\n",
              "        const docLink = document.createElement('div');\n",
              "        docLink.innerHTML = docLinkHtml;\n",
              "        element.appendChild(docLink);\n",
              "      }\n",
              "    </script>\n",
              "  </div>\n",
              "\n",
              "\n",
              "<div id=\"df-b04c1c5f-888a-4e10-97d2-6d45cff91216\">\n",
              "  <button class=\"colab-df-quickchart\" onclick=\"quickchart('df-b04c1c5f-888a-4e10-97d2-6d45cff91216')\"\n",
              "            title=\"Suggest charts\"\n",
              "            style=\"display:none;\">\n",
              "\n",
              "<svg xmlns=\"http://www.w3.org/2000/svg\" height=\"24px\"viewBox=\"0 0 24 24\"\n",
              "     width=\"24px\">\n",
              "    <g>\n",
              "        <path d=\"M19 3H5c-1.1 0-2 .9-2 2v14c0 1.1.9 2 2 2h14c1.1 0 2-.9 2-2V5c0-1.1-.9-2-2-2zM9 17H7v-7h2v7zm4 0h-2V7h2v10zm4 0h-2v-4h2v4z\"/>\n",
              "    </g>\n",
              "</svg>\n",
              "  </button>\n",
              "\n",
              "<style>\n",
              "  .colab-df-quickchart {\n",
              "      --bg-color: #E8F0FE;\n",
              "      --fill-color: #1967D2;\n",
              "      --hover-bg-color: #E2EBFA;\n",
              "      --hover-fill-color: #174EA6;\n",
              "      --disabled-fill-color: #AAA;\n",
              "      --disabled-bg-color: #DDD;\n",
              "  }\n",
              "\n",
              "  [theme=dark] .colab-df-quickchart {\n",
              "      --bg-color: #3B4455;\n",
              "      --fill-color: #D2E3FC;\n",
              "      --hover-bg-color: #434B5C;\n",
              "      --hover-fill-color: #FFFFFF;\n",
              "      --disabled-bg-color: #3B4455;\n",
              "      --disabled-fill-color: #666;\n",
              "  }\n",
              "\n",
              "  .colab-df-quickchart {\n",
              "    background-color: var(--bg-color);\n",
              "    border: none;\n",
              "    border-radius: 50%;\n",
              "    cursor: pointer;\n",
              "    display: none;\n",
              "    fill: var(--fill-color);\n",
              "    height: 32px;\n",
              "    padding: 0;\n",
              "    width: 32px;\n",
              "  }\n",
              "\n",
              "  .colab-df-quickchart:hover {\n",
              "    background-color: var(--hover-bg-color);\n",
              "    box-shadow: 0 1px 2px rgba(60, 64, 67, 0.3), 0 1px 3px 1px rgba(60, 64, 67, 0.15);\n",
              "    fill: var(--button-hover-fill-color);\n",
              "  }\n",
              "\n",
              "  .colab-df-quickchart-complete:disabled,\n",
              "  .colab-df-quickchart-complete:disabled:hover {\n",
              "    background-color: var(--disabled-bg-color);\n",
              "    fill: var(--disabled-fill-color);\n",
              "    box-shadow: none;\n",
              "  }\n",
              "\n",
              "  .colab-df-spinner {\n",
              "    border: 2px solid var(--fill-color);\n",
              "    border-color: transparent;\n",
              "    border-bottom-color: var(--fill-color);\n",
              "    animation:\n",
              "      spin 1s steps(1) infinite;\n",
              "  }\n",
              "\n",
              "  @keyframes spin {\n",
              "    0% {\n",
              "      border-color: transparent;\n",
              "      border-bottom-color: var(--fill-color);\n",
              "      border-left-color: var(--fill-color);\n",
              "    }\n",
              "    20% {\n",
              "      border-color: transparent;\n",
              "      border-left-color: var(--fill-color);\n",
              "      border-top-color: var(--fill-color);\n",
              "    }\n",
              "    30% {\n",
              "      border-color: transparent;\n",
              "      border-left-color: var(--fill-color);\n",
              "      border-top-color: var(--fill-color);\n",
              "      border-right-color: var(--fill-color);\n",
              "    }\n",
              "    40% {\n",
              "      border-color: transparent;\n",
              "      border-right-color: var(--fill-color);\n",
              "      border-top-color: var(--fill-color);\n",
              "    }\n",
              "    60% {\n",
              "      border-color: transparent;\n",
              "      border-right-color: var(--fill-color);\n",
              "    }\n",
              "    80% {\n",
              "      border-color: transparent;\n",
              "      border-right-color: var(--fill-color);\n",
              "      border-bottom-color: var(--fill-color);\n",
              "    }\n",
              "    90% {\n",
              "      border-color: transparent;\n",
              "      border-bottom-color: var(--fill-color);\n",
              "    }\n",
              "  }\n",
              "</style>\n",
              "\n",
              "  <script>\n",
              "    async function quickchart(key) {\n",
              "      const quickchartButtonEl =\n",
              "        document.querySelector('#' + key + ' button');\n",
              "      quickchartButtonEl.disabled = true;  // To prevent multiple clicks.\n",
              "      quickchartButtonEl.classList.add('colab-df-spinner');\n",
              "      try {\n",
              "        const charts = await google.colab.kernel.invokeFunction(\n",
              "            'suggestCharts', [key], {});\n",
              "      } catch (error) {\n",
              "        console.error('Error during call to suggestCharts:', error);\n",
              "      }\n",
              "      quickchartButtonEl.classList.remove('colab-df-spinner');\n",
              "      quickchartButtonEl.classList.add('colab-df-quickchart-complete');\n",
              "    }\n",
              "    (() => {\n",
              "      let quickchartButtonEl =\n",
              "        document.querySelector('#df-b04c1c5f-888a-4e10-97d2-6d45cff91216 button');\n",
              "      quickchartButtonEl.style.display =\n",
              "        google.colab.kernel.accessAllowed ? 'block' : 'none';\n",
              "    })();\n",
              "  </script>\n",
              "</div>\n",
              "\n",
              "  <div id=\"id_3c5a58e8-8511-4542-a007-e6092d928b9d\">\n",
              "    <style>\n",
              "      .colab-df-generate {\n",
              "        background-color: #E8F0FE;\n",
              "        border: none;\n",
              "        border-radius: 50%;\n",
              "        cursor: pointer;\n",
              "        display: none;\n",
              "        fill: #1967D2;\n",
              "        height: 32px;\n",
              "        padding: 0 0 0 0;\n",
              "        width: 32px;\n",
              "      }\n",
              "\n",
              "      .colab-df-generate:hover {\n",
              "        background-color: #E2EBFA;\n",
              "        box-shadow: 0px 1px 2px rgba(60, 64, 67, 0.3), 0px 1px 3px 1px rgba(60, 64, 67, 0.15);\n",
              "        fill: #174EA6;\n",
              "      }\n",
              "\n",
              "      [theme=dark] .colab-df-generate {\n",
              "        background-color: #3B4455;\n",
              "        fill: #D2E3FC;\n",
              "      }\n",
              "\n",
              "      [theme=dark] .colab-df-generate:hover {\n",
              "        background-color: #434B5C;\n",
              "        box-shadow: 0px 1px 3px 1px rgba(0, 0, 0, 0.15);\n",
              "        filter: drop-shadow(0px 1px 2px rgba(0, 0, 0, 0.3));\n",
              "        fill: #FFFFFF;\n",
              "      }\n",
              "    </style>\n",
              "    <button class=\"colab-df-generate\" onclick=\"generateWithVariable('df_rename')\"\n",
              "            title=\"Generate code using this dataframe.\"\n",
              "            style=\"display:none;\">\n",
              "\n",
              "  <svg xmlns=\"http://www.w3.org/2000/svg\" height=\"24px\"viewBox=\"0 0 24 24\"\n",
              "       width=\"24px\">\n",
              "    <path d=\"M7,19H8.4L18.45,9,17,7.55,7,17.6ZM5,21V16.75L18.45,3.32a2,2,0,0,1,2.83,0l1.4,1.43a1.91,1.91,0,0,1,.58,1.4,1.91,1.91,0,0,1-.58,1.4L9.25,21ZM18.45,9,17,7.55Zm-12,3A5.31,5.31,0,0,0,4.9,8.1,5.31,5.31,0,0,0,1,6.5,5.31,5.31,0,0,0,4.9,4.9,5.31,5.31,0,0,0,6.5,1,5.31,5.31,0,0,0,8.1,4.9,5.31,5.31,0,0,0,12,6.5,5.46,5.46,0,0,0,6.5,12Z\"/>\n",
              "  </svg>\n",
              "    </button>\n",
              "    <script>\n",
              "      (() => {\n",
              "      const buttonEl =\n",
              "        document.querySelector('#id_3c5a58e8-8511-4542-a007-e6092d928b9d button.colab-df-generate');\n",
              "      buttonEl.style.display =\n",
              "        google.colab.kernel.accessAllowed ? 'block' : 'none';\n",
              "\n",
              "      buttonEl.onclick = () => {\n",
              "        google.colab.notebook.generateWithVariable('df_rename');\n",
              "      }\n",
              "      })();\n",
              "    </script>\n",
              "  </div>\n",
              "\n",
              "    </div>\n",
              "  </div>\n"
            ],
            "application/vnd.google.colaboratory.intrinsic+json": {
              "type": "dataframe",
              "variable_name": "df_rename",
              "summary": "{\n  \"name\": \"df_rename\",\n  \"rows\": 1003,\n  \"fields\": [\n    {\n      \"column\": \"Age\",\n      \"properties\": {\n        \"dtype\": \"number\",\n        \"std\": 20,\n        \"min\": 3,\n        \"max\": 120,\n        \"num_unique_values\": 99,\n        \"samples\": [\n          76,\n          14,\n          97\n        ],\n        \"semantic_type\": \"\",\n        \"description\": \"\"\n      }\n    },\n    {\n      \"column\": \"Sex\",\n      \"properties\": {\n        \"dtype\": \"category\",\n        \"num_unique_values\": 3,\n        \"samples\": [\n          \"Male\",\n          \"Female\",\n          \"Child\"\n        ],\n        \"semantic_type\": \"\",\n        \"description\": \"\"\n      }\n    },\n    {\n      \"column\": \"Haemoglobin\",\n      \"properties\": {\n        \"dtype\": \"number\",\n        \"std\": 1.4824101978825217,\n        \"min\": 11.0,\n        \"max\": 25.0,\n        \"num_unique_values\": 53,\n        \"samples\": [\n          11.6,\n          11.8,\n          13.9\n        ],\n        \"semantic_type\": \"\",\n        \"description\": \"\"\n      }\n    },\n    {\n      \"column\": \"WBC Count\",\n      \"properties\": {\n        \"dtype\": \"number\",\n        \"std\": 2311.5373103383295,\n        \"min\": 2000.0,\n        \"max\": 10900.0,\n        \"num_unique_values\": 74,\n        \"samples\": [\n          3100.0,\n          8400.0,\n          5800.0\n        ],\n        \"semantic_type\": \"\",\n        \"description\": \"\"\n      }\n    },\n    {\n      \"column\": \"Differential Count\",\n      \"properties\": {\n        \"dtype\": \"number\",\n        \"std\": 0,\n        \"min\": 0,\n        \"max\": 1,\n        \"num_unique_values\": 2,\n        \"samples\": [\n          0,\n          1\n        ],\n        \"semantic_type\": \"\",\n        \"description\": \"\"\n      }\n    },\n    {\n      \"column\": \"RBC PANEL\",\n      \"properties\": {\n        \"dtype\": \"number\",\n        \"std\": 0,\n        \"min\": 0,\n        \"max\": 1,\n        \"num_unique_values\": 2,\n        \"samples\": [\n          0,\n          1\n        ],\n        \"semantic_type\": \"\",\n        \"description\": \"\"\n      }\n    },\n    {\n      \"column\": \"Platelet Count\",\n      \"properties\": {\n        \"dtype\": \"number\",\n        \"std\": 88289.32857952334,\n        \"min\": 10000.0,\n        \"max\": 500000.0,\n        \"num_unique_values\": 355,\n        \"samples\": [\n          14500.0,\n          60000.0\n        ],\n        \"semantic_type\": \"\",\n        \"description\": \"\"\n      }\n    },\n    {\n      \"column\": \"PDW\",\n      \"properties\": {\n        \"dtype\": \"number\",\n        \"std\": 14.496905633054732,\n        \"min\": 1.0,\n        \"max\": 215.0,\n        \"num_unique_values\": 242,\n        \"samples\": [\n          17.5,\n          12.5\n        ],\n        \"semantic_type\": \"\",\n        \"description\": \"\"\n      }\n    },\n    {\n      \"column\": \"Final Output\",\n      \"properties\": {\n        \"dtype\": \"number\",\n        \"std\": 0.4663382232667312,\n        \"min\": 0.0,\n        \"max\": 1.0,\n        \"num_unique_values\": 2,\n        \"samples\": [\n          0.0,\n          1.0\n        ],\n        \"semantic_type\": \"\",\n        \"description\": \"\"\n      }\n    }\n  ]\n}"
            }
          },
          "metadata": {},
          "execution_count": 51
        }
      ],
      "source": [
        "# Fill the Numerical columns null values with Median\n",
        "df_rename['WBC Count'] = df_rename['WBC Count'].fillna(df_rename['WBC Count'].median())\n",
        "df_rename['Platelet Count'] = df_rename['Platelet Count'].fillna(df_rename['Platelet Count'].median())\n",
        "df_rename['PDW'] = df_rename['PDW'].fillna(df_rename['PDW'].median())\n",
        "\n",
        "# Fill the Categorical Binary columns with Mode\n",
        "df_rename['Final Output'].fillna(df_rename['Final Output'].mode()[0], inplace = True)\n",
        "\n",
        "df_rename"
      ]
    },
    {
      "cell_type": "markdown",
      "metadata": {
        "id": "V4gaxYihsWqm"
      },
      "source": [
        "## **Changing the datatype for columns necessary**"
      ]
    },
    {
      "cell_type": "code",
      "execution_count": null,
      "metadata": {
        "id": "hFRHCz0ecv8V"
      },
      "outputs": [],
      "source": [
        "df_rename['Final Output'] = df_rename['Final Output'].replace( [1.0 , 0.0 ], [1,0] )\n",
        "df_rename['Final Output']=df_rename['Final Output'].astype(int)\n",
        "df_rename['RBC PANEL'] = df_rename['RBC PANEL'].astype(int)"
      ]
    },
    {
      "cell_type": "code",
      "execution_count": null,
      "metadata": {
        "colab": {
          "base_uri": "https://localhost:8080/",
          "height": 424
        },
        "id": "kuPCqsmudbUI",
        "outputId": "690103ec-6376-4322-fa2b-893235d2984d"
      },
      "outputs": [
        {
          "output_type": "execute_result",
          "data": {
            "text/plain": [
              "      Age     Sex  Haemoglobin  WBC Count  Differential Count  RBC PANEL  \\\n",
              "0      43    Male         12.6     2200.0                   1          1   \n",
              "1      45    Male         13.2     3000.0                   0          1   \n",
              "2      50  Female         11.0     3300.0                   1          1   \n",
              "3      57  Female         11.9     3500.0                   1          0   \n",
              "4      51  Female         13.0     3100.0                   0          1   \n",
              "...   ...     ...          ...        ...                 ...        ...   \n",
              "998    27  Female         11.6     9400.0                   1          1   \n",
              "999    19  Female         15.8     7400.0                   1          1   \n",
              "1000   54  Female         11.9     7500.0                   1          1   \n",
              "1001   34    Male         14.6     9500.0                   1          1   \n",
              "1002   32    Male         12.8     6700.0                   1          1   \n",
              "\n",
              "      Platelet Count   PDW  Final Output  \n",
              "0            62000.0  11.0             1  \n",
              "1            17000.0  17.0             1  \n",
              "2            19000.0  16.3             1  \n",
              "3            29000.0  14.0             1  \n",
              "4            30000.0  14.5             1  \n",
              "...              ...   ...           ...  \n",
              "998         400000.0  39.9             0  \n",
              "999         320560.0  56.0             0  \n",
              "1000        345000.0  44.4             0  \n",
              "1001        326000.0  41.9             0  \n",
              "1002        175000.0  55.5             0  \n",
              "\n",
              "[1003 rows x 9 columns]"
            ],
            "text/html": [
              "\n",
              "  <div id=\"df-51acc68a-266b-45e2-abcc-7f439371e059\" class=\"colab-df-container\">\n",
              "    <div>\n",
              "<style scoped>\n",
              "    .dataframe tbody tr th:only-of-type {\n",
              "        vertical-align: middle;\n",
              "    }\n",
              "\n",
              "    .dataframe tbody tr th {\n",
              "        vertical-align: top;\n",
              "    }\n",
              "\n",
              "    .dataframe thead th {\n",
              "        text-align: right;\n",
              "    }\n",
              "</style>\n",
              "<table border=\"1\" class=\"dataframe\">\n",
              "  <thead>\n",
              "    <tr style=\"text-align: right;\">\n",
              "      <th></th>\n",
              "      <th>Age</th>\n",
              "      <th>Sex</th>\n",
              "      <th>Haemoglobin</th>\n",
              "      <th>WBC Count</th>\n",
              "      <th>Differential Count</th>\n",
              "      <th>RBC PANEL</th>\n",
              "      <th>Platelet Count</th>\n",
              "      <th>PDW</th>\n",
              "      <th>Final Output</th>\n",
              "    </tr>\n",
              "  </thead>\n",
              "  <tbody>\n",
              "    <tr>\n",
              "      <th>0</th>\n",
              "      <td>43</td>\n",
              "      <td>Male</td>\n",
              "      <td>12.6</td>\n",
              "      <td>2200.0</td>\n",
              "      <td>1</td>\n",
              "      <td>1</td>\n",
              "      <td>62000.0</td>\n",
              "      <td>11.0</td>\n",
              "      <td>1</td>\n",
              "    </tr>\n",
              "    <tr>\n",
              "      <th>1</th>\n",
              "      <td>45</td>\n",
              "      <td>Male</td>\n",
              "      <td>13.2</td>\n",
              "      <td>3000.0</td>\n",
              "      <td>0</td>\n",
              "      <td>1</td>\n",
              "      <td>17000.0</td>\n",
              "      <td>17.0</td>\n",
              "      <td>1</td>\n",
              "    </tr>\n",
              "    <tr>\n",
              "      <th>2</th>\n",
              "      <td>50</td>\n",
              "      <td>Female</td>\n",
              "      <td>11.0</td>\n",
              "      <td>3300.0</td>\n",
              "      <td>1</td>\n",
              "      <td>1</td>\n",
              "      <td>19000.0</td>\n",
              "      <td>16.3</td>\n",
              "      <td>1</td>\n",
              "    </tr>\n",
              "    <tr>\n",
              "      <th>3</th>\n",
              "      <td>57</td>\n",
              "      <td>Female</td>\n",
              "      <td>11.9</td>\n",
              "      <td>3500.0</td>\n",
              "      <td>1</td>\n",
              "      <td>0</td>\n",
              "      <td>29000.0</td>\n",
              "      <td>14.0</td>\n",
              "      <td>1</td>\n",
              "    </tr>\n",
              "    <tr>\n",
              "      <th>4</th>\n",
              "      <td>51</td>\n",
              "      <td>Female</td>\n",
              "      <td>13.0</td>\n",
              "      <td>3100.0</td>\n",
              "      <td>0</td>\n",
              "      <td>1</td>\n",
              "      <td>30000.0</td>\n",
              "      <td>14.5</td>\n",
              "      <td>1</td>\n",
              "    </tr>\n",
              "    <tr>\n",
              "      <th>...</th>\n",
              "      <td>...</td>\n",
              "      <td>...</td>\n",
              "      <td>...</td>\n",
              "      <td>...</td>\n",
              "      <td>...</td>\n",
              "      <td>...</td>\n",
              "      <td>...</td>\n",
              "      <td>...</td>\n",
              "      <td>...</td>\n",
              "    </tr>\n",
              "    <tr>\n",
              "      <th>998</th>\n",
              "      <td>27</td>\n",
              "      <td>Female</td>\n",
              "      <td>11.6</td>\n",
              "      <td>9400.0</td>\n",
              "      <td>1</td>\n",
              "      <td>1</td>\n",
              "      <td>400000.0</td>\n",
              "      <td>39.9</td>\n",
              "      <td>0</td>\n",
              "    </tr>\n",
              "    <tr>\n",
              "      <th>999</th>\n",
              "      <td>19</td>\n",
              "      <td>Female</td>\n",
              "      <td>15.8</td>\n",
              "      <td>7400.0</td>\n",
              "      <td>1</td>\n",
              "      <td>1</td>\n",
              "      <td>320560.0</td>\n",
              "      <td>56.0</td>\n",
              "      <td>0</td>\n",
              "    </tr>\n",
              "    <tr>\n",
              "      <th>1000</th>\n",
              "      <td>54</td>\n",
              "      <td>Female</td>\n",
              "      <td>11.9</td>\n",
              "      <td>7500.0</td>\n",
              "      <td>1</td>\n",
              "      <td>1</td>\n",
              "      <td>345000.0</td>\n",
              "      <td>44.4</td>\n",
              "      <td>0</td>\n",
              "    </tr>\n",
              "    <tr>\n",
              "      <th>1001</th>\n",
              "      <td>34</td>\n",
              "      <td>Male</td>\n",
              "      <td>14.6</td>\n",
              "      <td>9500.0</td>\n",
              "      <td>1</td>\n",
              "      <td>1</td>\n",
              "      <td>326000.0</td>\n",
              "      <td>41.9</td>\n",
              "      <td>0</td>\n",
              "    </tr>\n",
              "    <tr>\n",
              "      <th>1002</th>\n",
              "      <td>32</td>\n",
              "      <td>Male</td>\n",
              "      <td>12.8</td>\n",
              "      <td>6700.0</td>\n",
              "      <td>1</td>\n",
              "      <td>1</td>\n",
              "      <td>175000.0</td>\n",
              "      <td>55.5</td>\n",
              "      <td>0</td>\n",
              "    </tr>\n",
              "  </tbody>\n",
              "</table>\n",
              "<p>1003 rows × 9 columns</p>\n",
              "</div>\n",
              "    <div class=\"colab-df-buttons\">\n",
              "\n",
              "  <div class=\"colab-df-container\">\n",
              "    <button class=\"colab-df-convert\" onclick=\"convertToInteractive('df-51acc68a-266b-45e2-abcc-7f439371e059')\"\n",
              "            title=\"Convert this dataframe to an interactive table.\"\n",
              "            style=\"display:none;\">\n",
              "\n",
              "  <svg xmlns=\"http://www.w3.org/2000/svg\" height=\"24px\" viewBox=\"0 -960 960 960\">\n",
              "    <path d=\"M120-120v-720h720v720H120Zm60-500h600v-160H180v160Zm220 220h160v-160H400v160Zm0 220h160v-160H400v160ZM180-400h160v-160H180v160Zm440 0h160v-160H620v160ZM180-180h160v-160H180v160Zm440 0h160v-160H620v160Z\"/>\n",
              "  </svg>\n",
              "    </button>\n",
              "\n",
              "  <style>\n",
              "    .colab-df-container {\n",
              "      display:flex;\n",
              "      gap: 12px;\n",
              "    }\n",
              "\n",
              "    .colab-df-convert {\n",
              "      background-color: #E8F0FE;\n",
              "      border: none;\n",
              "      border-radius: 50%;\n",
              "      cursor: pointer;\n",
              "      display: none;\n",
              "      fill: #1967D2;\n",
              "      height: 32px;\n",
              "      padding: 0 0 0 0;\n",
              "      width: 32px;\n",
              "    }\n",
              "\n",
              "    .colab-df-convert:hover {\n",
              "      background-color: #E2EBFA;\n",
              "      box-shadow: 0px 1px 2px rgba(60, 64, 67, 0.3), 0px 1px 3px 1px rgba(60, 64, 67, 0.15);\n",
              "      fill: #174EA6;\n",
              "    }\n",
              "\n",
              "    .colab-df-buttons div {\n",
              "      margin-bottom: 4px;\n",
              "    }\n",
              "\n",
              "    [theme=dark] .colab-df-convert {\n",
              "      background-color: #3B4455;\n",
              "      fill: #D2E3FC;\n",
              "    }\n",
              "\n",
              "    [theme=dark] .colab-df-convert:hover {\n",
              "      background-color: #434B5C;\n",
              "      box-shadow: 0px 1px 3px 1px rgba(0, 0, 0, 0.15);\n",
              "      filter: drop-shadow(0px 1px 2px rgba(0, 0, 0, 0.3));\n",
              "      fill: #FFFFFF;\n",
              "    }\n",
              "  </style>\n",
              "\n",
              "    <script>\n",
              "      const buttonEl =\n",
              "        document.querySelector('#df-51acc68a-266b-45e2-abcc-7f439371e059 button.colab-df-convert');\n",
              "      buttonEl.style.display =\n",
              "        google.colab.kernel.accessAllowed ? 'block' : 'none';\n",
              "\n",
              "      async function convertToInteractive(key) {\n",
              "        const element = document.querySelector('#df-51acc68a-266b-45e2-abcc-7f439371e059');\n",
              "        const dataTable =\n",
              "          await google.colab.kernel.invokeFunction('convertToInteractive',\n",
              "                                                    [key], {});\n",
              "        if (!dataTable) return;\n",
              "\n",
              "        const docLinkHtml = 'Like what you see? Visit the ' +\n",
              "          '<a target=\"_blank\" href=https://colab.research.google.com/notebooks/data_table.ipynb>data table notebook</a>'\n",
              "          + ' to learn more about interactive tables.';\n",
              "        element.innerHTML = '';\n",
              "        dataTable['output_type'] = 'display_data';\n",
              "        await google.colab.output.renderOutput(dataTable, element);\n",
              "        const docLink = document.createElement('div');\n",
              "        docLink.innerHTML = docLinkHtml;\n",
              "        element.appendChild(docLink);\n",
              "      }\n",
              "    </script>\n",
              "  </div>\n",
              "\n",
              "\n",
              "<div id=\"df-a54eaab0-5f25-45ea-a7a8-8797e3a68991\">\n",
              "  <button class=\"colab-df-quickchart\" onclick=\"quickchart('df-a54eaab0-5f25-45ea-a7a8-8797e3a68991')\"\n",
              "            title=\"Suggest charts\"\n",
              "            style=\"display:none;\">\n",
              "\n",
              "<svg xmlns=\"http://www.w3.org/2000/svg\" height=\"24px\"viewBox=\"0 0 24 24\"\n",
              "     width=\"24px\">\n",
              "    <g>\n",
              "        <path d=\"M19 3H5c-1.1 0-2 .9-2 2v14c0 1.1.9 2 2 2h14c1.1 0 2-.9 2-2V5c0-1.1-.9-2-2-2zM9 17H7v-7h2v7zm4 0h-2V7h2v10zm4 0h-2v-4h2v4z\"/>\n",
              "    </g>\n",
              "</svg>\n",
              "  </button>\n",
              "\n",
              "<style>\n",
              "  .colab-df-quickchart {\n",
              "      --bg-color: #E8F0FE;\n",
              "      --fill-color: #1967D2;\n",
              "      --hover-bg-color: #E2EBFA;\n",
              "      --hover-fill-color: #174EA6;\n",
              "      --disabled-fill-color: #AAA;\n",
              "      --disabled-bg-color: #DDD;\n",
              "  }\n",
              "\n",
              "  [theme=dark] .colab-df-quickchart {\n",
              "      --bg-color: #3B4455;\n",
              "      --fill-color: #D2E3FC;\n",
              "      --hover-bg-color: #434B5C;\n",
              "      --hover-fill-color: #FFFFFF;\n",
              "      --disabled-bg-color: #3B4455;\n",
              "      --disabled-fill-color: #666;\n",
              "  }\n",
              "\n",
              "  .colab-df-quickchart {\n",
              "    background-color: var(--bg-color);\n",
              "    border: none;\n",
              "    border-radius: 50%;\n",
              "    cursor: pointer;\n",
              "    display: none;\n",
              "    fill: var(--fill-color);\n",
              "    height: 32px;\n",
              "    padding: 0;\n",
              "    width: 32px;\n",
              "  }\n",
              "\n",
              "  .colab-df-quickchart:hover {\n",
              "    background-color: var(--hover-bg-color);\n",
              "    box-shadow: 0 1px 2px rgba(60, 64, 67, 0.3), 0 1px 3px 1px rgba(60, 64, 67, 0.15);\n",
              "    fill: var(--button-hover-fill-color);\n",
              "  }\n",
              "\n",
              "  .colab-df-quickchart-complete:disabled,\n",
              "  .colab-df-quickchart-complete:disabled:hover {\n",
              "    background-color: var(--disabled-bg-color);\n",
              "    fill: var(--disabled-fill-color);\n",
              "    box-shadow: none;\n",
              "  }\n",
              "\n",
              "  .colab-df-spinner {\n",
              "    border: 2px solid var(--fill-color);\n",
              "    border-color: transparent;\n",
              "    border-bottom-color: var(--fill-color);\n",
              "    animation:\n",
              "      spin 1s steps(1) infinite;\n",
              "  }\n",
              "\n",
              "  @keyframes spin {\n",
              "    0% {\n",
              "      border-color: transparent;\n",
              "      border-bottom-color: var(--fill-color);\n",
              "      border-left-color: var(--fill-color);\n",
              "    }\n",
              "    20% {\n",
              "      border-color: transparent;\n",
              "      border-left-color: var(--fill-color);\n",
              "      border-top-color: var(--fill-color);\n",
              "    }\n",
              "    30% {\n",
              "      border-color: transparent;\n",
              "      border-left-color: var(--fill-color);\n",
              "      border-top-color: var(--fill-color);\n",
              "      border-right-color: var(--fill-color);\n",
              "    }\n",
              "    40% {\n",
              "      border-color: transparent;\n",
              "      border-right-color: var(--fill-color);\n",
              "      border-top-color: var(--fill-color);\n",
              "    }\n",
              "    60% {\n",
              "      border-color: transparent;\n",
              "      border-right-color: var(--fill-color);\n",
              "    }\n",
              "    80% {\n",
              "      border-color: transparent;\n",
              "      border-right-color: var(--fill-color);\n",
              "      border-bottom-color: var(--fill-color);\n",
              "    }\n",
              "    90% {\n",
              "      border-color: transparent;\n",
              "      border-bottom-color: var(--fill-color);\n",
              "    }\n",
              "  }\n",
              "</style>\n",
              "\n",
              "  <script>\n",
              "    async function quickchart(key) {\n",
              "      const quickchartButtonEl =\n",
              "        document.querySelector('#' + key + ' button');\n",
              "      quickchartButtonEl.disabled = true;  // To prevent multiple clicks.\n",
              "      quickchartButtonEl.classList.add('colab-df-spinner');\n",
              "      try {\n",
              "        const charts = await google.colab.kernel.invokeFunction(\n",
              "            'suggestCharts', [key], {});\n",
              "      } catch (error) {\n",
              "        console.error('Error during call to suggestCharts:', error);\n",
              "      }\n",
              "      quickchartButtonEl.classList.remove('colab-df-spinner');\n",
              "      quickchartButtonEl.classList.add('colab-df-quickchart-complete');\n",
              "    }\n",
              "    (() => {\n",
              "      let quickchartButtonEl =\n",
              "        document.querySelector('#df-a54eaab0-5f25-45ea-a7a8-8797e3a68991 button');\n",
              "      quickchartButtonEl.style.display =\n",
              "        google.colab.kernel.accessAllowed ? 'block' : 'none';\n",
              "    })();\n",
              "  </script>\n",
              "</div>\n",
              "\n",
              "  <div id=\"id_7f05ef7a-91d5-437b-a27d-8cffdc47548e\">\n",
              "    <style>\n",
              "      .colab-df-generate {\n",
              "        background-color: #E8F0FE;\n",
              "        border: none;\n",
              "        border-radius: 50%;\n",
              "        cursor: pointer;\n",
              "        display: none;\n",
              "        fill: #1967D2;\n",
              "        height: 32px;\n",
              "        padding: 0 0 0 0;\n",
              "        width: 32px;\n",
              "      }\n",
              "\n",
              "      .colab-df-generate:hover {\n",
              "        background-color: #E2EBFA;\n",
              "        box-shadow: 0px 1px 2px rgba(60, 64, 67, 0.3), 0px 1px 3px 1px rgba(60, 64, 67, 0.15);\n",
              "        fill: #174EA6;\n",
              "      }\n",
              "\n",
              "      [theme=dark] .colab-df-generate {\n",
              "        background-color: #3B4455;\n",
              "        fill: #D2E3FC;\n",
              "      }\n",
              "\n",
              "      [theme=dark] .colab-df-generate:hover {\n",
              "        background-color: #434B5C;\n",
              "        box-shadow: 0px 1px 3px 1px rgba(0, 0, 0, 0.15);\n",
              "        filter: drop-shadow(0px 1px 2px rgba(0, 0, 0, 0.3));\n",
              "        fill: #FFFFFF;\n",
              "      }\n",
              "    </style>\n",
              "    <button class=\"colab-df-generate\" onclick=\"generateWithVariable('df_rename')\"\n",
              "            title=\"Generate code using this dataframe.\"\n",
              "            style=\"display:none;\">\n",
              "\n",
              "  <svg xmlns=\"http://www.w3.org/2000/svg\" height=\"24px\"viewBox=\"0 0 24 24\"\n",
              "       width=\"24px\">\n",
              "    <path d=\"M7,19H8.4L18.45,9,17,7.55,7,17.6ZM5,21V16.75L18.45,3.32a2,2,0,0,1,2.83,0l1.4,1.43a1.91,1.91,0,0,1,.58,1.4,1.91,1.91,0,0,1-.58,1.4L9.25,21ZM18.45,9,17,7.55Zm-12,3A5.31,5.31,0,0,0,4.9,8.1,5.31,5.31,0,0,0,1,6.5,5.31,5.31,0,0,0,4.9,4.9,5.31,5.31,0,0,0,6.5,1,5.31,5.31,0,0,0,8.1,4.9,5.31,5.31,0,0,0,12,6.5,5.46,5.46,0,0,0,6.5,12Z\"/>\n",
              "  </svg>\n",
              "    </button>\n",
              "    <script>\n",
              "      (() => {\n",
              "      const buttonEl =\n",
              "        document.querySelector('#id_7f05ef7a-91d5-437b-a27d-8cffdc47548e button.colab-df-generate');\n",
              "      buttonEl.style.display =\n",
              "        google.colab.kernel.accessAllowed ? 'block' : 'none';\n",
              "\n",
              "      buttonEl.onclick = () => {\n",
              "        google.colab.notebook.generateWithVariable('df_rename');\n",
              "      }\n",
              "      })();\n",
              "    </script>\n",
              "  </div>\n",
              "\n",
              "    </div>\n",
              "  </div>\n"
            ],
            "application/vnd.google.colaboratory.intrinsic+json": {
              "type": "dataframe",
              "variable_name": "df_rename",
              "summary": "{\n  \"name\": \"df_rename\",\n  \"rows\": 1003,\n  \"fields\": [\n    {\n      \"column\": \"Age\",\n      \"properties\": {\n        \"dtype\": \"number\",\n        \"std\": 20,\n        \"min\": 3,\n        \"max\": 120,\n        \"num_unique_values\": 99,\n        \"samples\": [\n          76,\n          14,\n          97\n        ],\n        \"semantic_type\": \"\",\n        \"description\": \"\"\n      }\n    },\n    {\n      \"column\": \"Sex\",\n      \"properties\": {\n        \"dtype\": \"category\",\n        \"num_unique_values\": 3,\n        \"samples\": [\n          \"Male\",\n          \"Female\",\n          \"Child\"\n        ],\n        \"semantic_type\": \"\",\n        \"description\": \"\"\n      }\n    },\n    {\n      \"column\": \"Haemoglobin\",\n      \"properties\": {\n        \"dtype\": \"number\",\n        \"std\": 1.4824101978825217,\n        \"min\": 11.0,\n        \"max\": 25.0,\n        \"num_unique_values\": 53,\n        \"samples\": [\n          11.6,\n          11.8,\n          13.9\n        ],\n        \"semantic_type\": \"\",\n        \"description\": \"\"\n      }\n    },\n    {\n      \"column\": \"WBC Count\",\n      \"properties\": {\n        \"dtype\": \"number\",\n        \"std\": 2311.5373103383295,\n        \"min\": 2000.0,\n        \"max\": 10900.0,\n        \"num_unique_values\": 74,\n        \"samples\": [\n          3100.0,\n          8400.0,\n          5800.0\n        ],\n        \"semantic_type\": \"\",\n        \"description\": \"\"\n      }\n    },\n    {\n      \"column\": \"Differential Count\",\n      \"properties\": {\n        \"dtype\": \"number\",\n        \"std\": 0,\n        \"min\": 0,\n        \"max\": 1,\n        \"num_unique_values\": 2,\n        \"samples\": [\n          0,\n          1\n        ],\n        \"semantic_type\": \"\",\n        \"description\": \"\"\n      }\n    },\n    {\n      \"column\": \"RBC PANEL\",\n      \"properties\": {\n        \"dtype\": \"number\",\n        \"std\": 0,\n        \"min\": 0,\n        \"max\": 1,\n        \"num_unique_values\": 2,\n        \"samples\": [\n          0,\n          1\n        ],\n        \"semantic_type\": \"\",\n        \"description\": \"\"\n      }\n    },\n    {\n      \"column\": \"Platelet Count\",\n      \"properties\": {\n        \"dtype\": \"number\",\n        \"std\": 88289.32857952334,\n        \"min\": 10000.0,\n        \"max\": 500000.0,\n        \"num_unique_values\": 355,\n        \"samples\": [\n          14500.0,\n          60000.0\n        ],\n        \"semantic_type\": \"\",\n        \"description\": \"\"\n      }\n    },\n    {\n      \"column\": \"PDW\",\n      \"properties\": {\n        \"dtype\": \"number\",\n        \"std\": 14.496905633054732,\n        \"min\": 1.0,\n        \"max\": 215.0,\n        \"num_unique_values\": 242,\n        \"samples\": [\n          17.5,\n          12.5\n        ],\n        \"semantic_type\": \"\",\n        \"description\": \"\"\n      }\n    },\n    {\n      \"column\": \"Final Output\",\n      \"properties\": {\n        \"dtype\": \"number\",\n        \"std\": 0,\n        \"min\": 0,\n        \"max\": 1,\n        \"num_unique_values\": 2,\n        \"samples\": [\n          0,\n          1\n        ],\n        \"semantic_type\": \"\",\n        \"description\": \"\"\n      }\n    }\n  ]\n}"
            }
          },
          "metadata": {},
          "execution_count": 53
        }
      ],
      "source": [
        "df_rename"
      ]
    },
    {
      "cell_type": "code",
      "execution_count": null,
      "metadata": {
        "colab": {
          "base_uri": "https://localhost:8080/",
          "height": 366
        },
        "id": "puAjR76nlYc2",
        "outputId": "e2770505-0fc7-4e92-c20d-2eecb0fe280f"
      },
      "outputs": [
        {
          "output_type": "execute_result",
          "data": {
            "text/plain": [
              "Age                     int64\n",
              "Sex                    object\n",
              "Haemoglobin           float64\n",
              "WBC Count             float64\n",
              "Differential Count      int64\n",
              "RBC PANEL               int64\n",
              "Platelet Count        float64\n",
              "PDW                   float64\n",
              "Final Output            int64\n",
              "dtype: object"
            ],
            "text/html": [
              "<div>\n",
              "<style scoped>\n",
              "    .dataframe tbody tr th:only-of-type {\n",
              "        vertical-align: middle;\n",
              "    }\n",
              "\n",
              "    .dataframe tbody tr th {\n",
              "        vertical-align: top;\n",
              "    }\n",
              "\n",
              "    .dataframe thead th {\n",
              "        text-align: right;\n",
              "    }\n",
              "</style>\n",
              "<table border=\"1\" class=\"dataframe\">\n",
              "  <thead>\n",
              "    <tr style=\"text-align: right;\">\n",
              "      <th></th>\n",
              "      <th>0</th>\n",
              "    </tr>\n",
              "  </thead>\n",
              "  <tbody>\n",
              "    <tr>\n",
              "      <th>Age</th>\n",
              "      <td>int64</td>\n",
              "    </tr>\n",
              "    <tr>\n",
              "      <th>Sex</th>\n",
              "      <td>object</td>\n",
              "    </tr>\n",
              "    <tr>\n",
              "      <th>Haemoglobin</th>\n",
              "      <td>float64</td>\n",
              "    </tr>\n",
              "    <tr>\n",
              "      <th>WBC Count</th>\n",
              "      <td>float64</td>\n",
              "    </tr>\n",
              "    <tr>\n",
              "      <th>Differential Count</th>\n",
              "      <td>int64</td>\n",
              "    </tr>\n",
              "    <tr>\n",
              "      <th>RBC PANEL</th>\n",
              "      <td>int64</td>\n",
              "    </tr>\n",
              "    <tr>\n",
              "      <th>Platelet Count</th>\n",
              "      <td>float64</td>\n",
              "    </tr>\n",
              "    <tr>\n",
              "      <th>PDW</th>\n",
              "      <td>float64</td>\n",
              "    </tr>\n",
              "    <tr>\n",
              "      <th>Final Output</th>\n",
              "      <td>int64</td>\n",
              "    </tr>\n",
              "  </tbody>\n",
              "</table>\n",
              "</div><br><label><b>dtype:</b> object</label>"
            ]
          },
          "metadata": {},
          "execution_count": 54
        }
      ],
      "source": [
        "df_rename.dtypes"
      ]
    },
    {
      "cell_type": "markdown",
      "metadata": {
        "id": "EGbe9MROsQUw"
      },
      "source": [
        "## **The missing value count after filling the null values**"
      ]
    },
    {
      "cell_type": "code",
      "execution_count": null,
      "metadata": {
        "colab": {
          "base_uri": "https://localhost:8080/"
        },
        "id": "rW_MiNAxbNzh",
        "outputId": "56d38fa8-1ce6-472e-8246-48fb9f7d07a1"
      },
      "outputs": [
        {
          "output_type": "stream",
          "name": "stdout",
          "text": [
            "Age                   0.0\n",
            "Sex                   0.0\n",
            "Haemoglobin           0.0\n",
            "WBC Count             0.0\n",
            "Differential Count    0.0\n",
            "RBC PANEL             0.0\n",
            "Platelet Count        0.0\n",
            "PDW                   0.0\n",
            "Final Output          0.0\n",
            "dtype: float64\n",
            "Age                   0\n",
            "Sex                   0\n",
            "Haemoglobin           0\n",
            "WBC Count             0\n",
            "Differential Count    0\n",
            "RBC PANEL             0\n",
            "Platelet Count        0\n",
            "PDW                   0\n",
            "Final Output          0\n",
            "dtype: int64\n"
          ]
        }
      ],
      "source": [
        "missing_values = df_rename.isna().sum()\n",
        "missing_values_percent = 100 * df_rename.isna().sum()/len(df)\n",
        "print(missing_values_percent)\n",
        "print(missing_values)"
      ]
    },
    {
      "cell_type": "markdown",
      "metadata": {
        "id": "-kvzt7jxsB1P"
      },
      "source": [
        "## **Plotting the missing value count after filling the null values**"
      ]
    },
    {
      "cell_type": "code",
      "execution_count": null,
      "metadata": {
        "colab": {
          "base_uri": "https://localhost:8080/",
          "height": 662
        },
        "id": "U0vyUtYRHiFa",
        "outputId": "d28092f3-4acc-44fb-eb6d-f591ee41d72d"
      },
      "outputs": [
        {
          "output_type": "stream",
          "name": "stderr",
          "text": [
            "<ipython-input-56-a7095093cc90>:2: FutureWarning: \n",
            "\n",
            "Passing `palette` without assigning `hue` is deprecated and will be removed in v0.14.0. Assign the `x` variable to `hue` and set `legend=False` for the same effect.\n",
            "\n",
            "  sns.barplot(x=missing_counts.index, y=missing_counts.values, palette='viridis')\n"
          ]
        },
        {
          "output_type": "display_data",
          "data": {
            "text/plain": [
              "<Figure size 640x480 with 1 Axes>"
            ],
            "image/png": "[encoded data removed]"
          },
          "metadata": {}
        }
      ],
      "source": [
        "missing_counts = df_rename.isnull().sum()\n",
        "sns.barplot(x=missing_counts.index, y=missing_counts.values, palette='viridis')\n",
        "plt.title(\"missing values\")\n",
        "plt.ylabel('Number of Missing Values')\n",
        "plt.xlabel('Columns')\n",
        "plt.xticks(rotation=45)\n",
        "plt.show()"
      ]
    },
    {
      "cell_type": "markdown",
      "metadata": {
        "id": "TI5uGrYwrkqU"
      },
      "source": [
        "## **Plotting Histogram After filling the Null values**"
      ]
    },
    {
      "cell_type": "code",
      "execution_count": null,
      "metadata": {
        "colab": {
          "base_uri": "https://localhost:8080/",
          "height": 427
        },
        "id": "Rejv4-1xbUvA",
        "outputId": "475ab780-1813-4b05-e61b-f4756d17e59b"
      },
      "outputs": [
        {
          "output_type": "display_data",
          "data": {
            "text/plain": [
              "<Figure size 1800x600 with 4 Axes>"
            ],
            "image/png": "[encoded data removed]"
          },
          "metadata": {}
        }
      ],
      "source": [
        "import matplotlib.pyplot as plt\n",
        "import seaborn as sns\n",
        "\n",
        "#Prepare data,\n",
        "WBC_data = df_rename['WBC Count']\n",
        "Platelet_Count_data = df_rename['Platelet Count']\n",
        "PDW_data = df_rename['PDW']\n",
        "Final_Output = df_rename['Final Output']\n",
        "\n",
        "#Create the figure\n",
        "fig, axs = plt.subplots(1, 4, figsize=(18, 6), sharey=True)\n",
        "\n",
        "#Plot WBC COUNT histogram\n",
        "sns.histplot( WBC_data , bins=20, color='blue', edgecolor='black',kde = True, ax=axs[0])\n",
        "axs[0].set_title('WBC Count')\n",
        "axs[0].set_xlabel('Values')\n",
        "axs[0].set_ylabel('Frequency')\n",
        "\n",
        "#Plot Platelet Count histogram\n",
        "sns.histplot( Platelet_Count_data , bins=20, color='orange', edgecolor='black',kde = True, ax=axs[1])\n",
        "axs[1].set_title('Platelet Count')\n",
        "axs[1].set_xlabel('Values')\n",
        "axs[1].set_ylabel('Frequency')\n",
        "\n",
        "#Plot WBC COUNT histogram\n",
        "sns.histplot( PDW_data , bins=20, color='violet', edgecolor='black',kde = True, ax=axs[2])\n",
        "axs[2].set_title('PDW')\n",
        "axs[2].set_xlabel('Values')\n",
        "axs[2].set_ylabel('Frequency')\n",
        "\n",
        "#Plot Final Output countplot\n",
        "sns.countplot( x = 'Final Output', data=df_rename , color='green', edgecolor='black', ax=axs[3])\n",
        "axs[3].set_title('Final Output ( 0 = Negative ; 1 = Positive)')\n",
        "axs[3].set_xlabel('Values')\n",
        "axs[3].set_ylabel('Frequency')\n",
        "\n",
        "#Adjust layout and show the plot\n",
        "plt.tight_layout()\n",
        "plt.show()"
      ]
    },
    {
      "cell_type": "code",
      "execution_count": null,
      "metadata": {
        "colab": {
          "base_uri": "https://localhost:8080/"
        },
        "id": "x8cPDm-Wrs4G",
        "outputId": "e6777c69-76ed-4a81-f805-3a14e4e1c3c5"
      },
      "outputs": [
        {
          "output_type": "stream",
          "name": "stdout",
          "text": [
            "<class 'pandas.core.frame.DataFrame'>\n",
            "RangeIndex: 1003 entries, 0 to 1002\n",
            "Data columns (total 9 columns):\n",
            " #   Column              Non-Null Count  Dtype  \n",
            "---  ------              --------------  -----  \n",
            " 0   Age                 1003 non-null   int64  \n",
            " 1   Sex                 1003 non-null   object \n",
            " 2   Haemoglobin         1003 non-null   float64\n",
            " 3   WBC Count           979 non-null    float64\n",
            " 4   Differential Count  1003 non-null   int64  \n",
            " 5   RBC PANEL           1003 non-null   int64  \n",
            " 6   Platelet Count      986 non-null    float64\n",
            " 7   PDW                 984 non-null    float64\n",
            " 8   Final Output        989 non-null    float64\n",
            "dtypes: float64(5), int64(3), object(1)\n",
            "memory usage: 70.7+ KB\n"
          ]
        }
      ],
      "source": [
        "df.info()"
      ]
    },
    {
      "cell_type": "code",
      "execution_count": null,
      "metadata": {
        "colab": {
          "base_uri": "https://localhost:8080/"
        },
        "id": "-CwsDNSDr0Rc",
        "outputId": "32360f3b-5f93-43e0-ab7d-3525ec9f02a8"
      },
      "outputs": [
        {
          "output_type": "stream",
          "name": "stdout",
          "text": [
            "<class 'pandas.core.frame.DataFrame'>\n",
            "RangeIndex: 1003 entries, 0 to 1002\n",
            "Data columns (total 9 columns):\n",
            " #   Column              Non-Null Count  Dtype  \n",
            "---  ------              --------------  -----  \n",
            " 0   Age                 1003 non-null   int64  \n",
            " 1   Sex                 1003 non-null   object \n",
            " 2   Haemoglobin         1003 non-null   float64\n",
            " 3   WBC Count           1003 non-null   float64\n",
            " 4   Differential Count  1003 non-null   int64  \n",
            " 5   RBC PANEL           1003 non-null   int64  \n",
            " 6   Platelet Count      1003 non-null   float64\n",
            " 7   PDW                 1003 non-null   float64\n",
            " 8   Final Output        1003 non-null   int64  \n",
            "dtypes: float64(4), int64(4), object(1)\n",
            "memory usage: 70.7+ KB\n"
          ]
        }
      ],
      "source": [
        "df_rename.info()"
      ]
    },
    {
      "cell_type": "markdown",
      "metadata": {
        "id": "aP6_0CbnryAH"
      },
      "source": [
        "## **Compare through Histogram Before and After filling null values**"
      ]
    },
    {
      "cell_type": "code",
      "execution_count": null,
      "metadata": {
        "colab": {
          "base_uri": "https://localhost:8080/",
          "height": 426
        },
        "id": "VjhsA6bhe6aM",
        "outputId": "ad8b9c79-c130-448a-af01-fe0f489ef3df"
      },
      "outputs": [
        {
          "output_type": "display_data",
          "data": {
            "text/plain": [
              "<Figure size 1800x600 with 4 Axes>"
            ],
            "image/png": "[encoded data removed]"
          },
          "metadata": {}
        }
      ],
      "source": [
        "import matplotlib.pyplot as plt\n",
        "import seaborn as sns\n",
        "\n",
        "#Create the figure\n",
        "fig, axs = plt.subplots(2, 2, figsize=(18, 6), sharey=True)\n",
        "\n",
        "#Plot WBC COUNT Before and After Cleaning Difference histogram\n",
        "\n",
        "axs[0][0].hist(df['WBC Count'], bins=20, alpha=0.7, color='navy', edgecolor='black', label='WBC Count Before')\n",
        "axs[0][0].hist(df_rename['WBC Count'], bins=20, alpha=0.7, color='pink', edgecolor='black', label='WBC Count After')\n",
        "\n",
        "axs[0][0].set_title('WBC Count Comparison')\n",
        "axs[0][0].set_xlabel('Values')\n",
        "axs[0][0].set_ylabel('Frequency')\n",
        "\n",
        "#Plot Platelet Count Before and After Cleaning Difference histogram\n",
        "\n",
        "axs[0][1].hist(df['Platelet Count'], bins=20, alpha=0.7, color='green', edgecolor='black', label='Platelet Count Before')\n",
        "axs[0][1].hist(df_rename['Platelet Count'], bins=20, alpha=0.7, color='yellow', edgecolor='black', label='Platelet Count After')\n",
        "\n",
        "axs[0][1].set_title('Platelet Count Comparison')\n",
        "axs[0][1].set_xlabel('Values')\n",
        "axs[0][1].set_ylabel('Frequency')\n",
        "\n",
        "#Plot WBC COUNT Before and After Cleaning Difference histogram\n",
        "\n",
        "axs[1][0].hist(df['PDW'], bins=20, alpha=0.7, color='green', edgecolor='black', label='PDW Before')\n",
        "axs[1][0].hist(df_rename['PDW'], bins=20, alpha=0.7, color='yellow', edgecolor='black', label='PDW After')\n",
        "\n",
        "axs[1][0].set_title('PDW Comparison')\n",
        "axs[1][0].set_xlabel('Values')\n",
        "axs[1][0].set_ylabel('Frequency')\n",
        "\n",
        "#Plot Final Output Before and After Cleaning Difference histogram\n",
        "\n",
        "axs[1][1].hist(df['Final Output'], bins=20, alpha=0.7, color='navy', edgecolor='black', label='Final Output Before')\n",
        "axs[1][1].hist(df_rename['Final Output'], bins=20, alpha=0.7, color='pink', edgecolor='black', label='Final Output After')\n",
        "\n",
        "axs[1][1].set_title('Final Output Comparison')\n",
        "axs[1][1].set_xlabel('Values')\n",
        "axs[1][1].set_ylabel('Frequency')\n",
        "\n",
        "#Adjust layout and show the plot\n",
        "plt.tight_layout()\n",
        "plt.show()"
      ]
    },
    {
      "cell_type": "code",
      "execution_count": null,
      "metadata": {
        "colab": {
          "base_uri": "https://localhost:8080/"
        },
        "id": "FpS-Y0eRzQPm",
        "outputId": "7376df0c-f80f-4fa6-bf32-6403ac39e466"
      },
      "outputs": [
        {
          "output_type": "stream",
          "name": "stdout",
          "text": [
            "Age                   0.0\n",
            "Sex                   0.0\n",
            "Haemoglobin           0.0\n",
            "WBC Count             0.0\n",
            "Differential Count    0.0\n",
            "RBC PANEL             0.0\n",
            "Platelet Count        0.0\n",
            "PDW                   0.0\n",
            "Final Output          0.0\n",
            "dtype: float64\n",
            "Age                   0\n",
            "Sex                   0\n",
            "Haemoglobin           0\n",
            "WBC Count             0\n",
            "Differential Count    0\n",
            "RBC PANEL             0\n",
            "Platelet Count        0\n",
            "PDW                   0\n",
            "Final Output          0\n",
            "dtype: int64\n"
          ]
        }
      ],
      "source": [
        "missing_values = df_rename.isna().sum()\n",
        "missing_values_percent = 100 * df_rename.isna().sum()/len(df)\n",
        "print(missing_values_percent)\n",
        "print(missing_values)"
      ]
    },
    {
      "cell_type": "code",
      "execution_count": null,
      "metadata": {
        "colab": {
          "base_uri": "https://localhost:8080/",
          "height": 1000
        },
        "id": "JQWNJmvbeyrn",
        "outputId": "255f1403-839f-4c03-f484-79148e27c381"
      },
      "outputs": [
        {
          "output_type": "display_data",
          "data": {
            "text/plain": [
              "<Figure size 800x600 with 1 Axes>"
            ],
            "image/png": "[encoded data removed]"
          },
          "metadata": {}
        },
        {
          "output_type": "display_data",
          "data": {
            "text/plain": [
              "<Figure size 800x600 with 1 Axes>"
            ],
            "image/png": "[encoded data removed]"
          },
          "metadata": {}
        },
        {
          "output_type": "display_data",
          "data": {
            "text/plain": [
              "<Figure size 800x600 with 1 Axes>"
            ],
            "image/png": "[encoded data removed]"
          },
          "metadata": {}
        },
        {
          "output_type": "display_data",
          "data": {
            "text/plain": [
              "<Figure size 800x600 with 1 Axes>"
            ],
            "image/png": "[encoded data removed]"
          },
          "metadata": {}
        },
        {
          "output_type": "display_data",
          "data": {
            "text/plain": [
              "<Figure size 800x600 with 1 Axes>"
            ],
            "image/png": "[encoded data removed]"
          },
          "metadata": {}
        },
        {
          "output_type": "display_data",
          "data": {
            "text/plain": [
              "<Figure size 800x600 with 1 Axes>"
            ],
            "image/png": "[encoded data removed]"
          },
          "metadata": {}
        },
        {
          "output_type": "display_data",
          "data": {
            "text/plain": [
              "<Figure size 800x600 with 1 Axes>"
            ],
            "image/png": "[encoded data removed]"
          },
          "metadata": {}
        },
        {
          "output_type": "display_data",
          "data": {
            "text/plain": [
              "<Figure size 800x600 with 1 Axes>"
            ],
            "image/png": "[encoded data removed]"
          },
          "metadata": {}
        },
        {
          "output_type": "display_data",
          "data": {
            "text/plain": [
              "<Figure size 1500x1000 with 1 Axes>"
            ],
            "image/png": "[encoded data removed]"
          },
          "metadata": {}
        }
      ],
      "source": [
        "for column in df_rename.select_dtypes(include=['int64','float64']).columns:\n",
        "    plt.figure(figsize=(8, 6))\n",
        "    sns.boxplot(df_rename[column])\n",
        "    plt.show()\n",
        "\n",
        "plt.figure(figsize=(15, 10))\n",
        "sns.boxplot(data=df_rename.select_dtypes(include=['int64','float64']))\n",
        "plt.title('Boxplot of Numerical Features')\n",
        "plt.show()"
      ]
    },
    {
      "cell_type": "markdown",
      "metadata": {
        "id": "4DDIGAc1JLgO"
      },
      "source": [
        "Removing outlier(Using capping to catch the values outside from the range and through it into the range)"
      ]
    },
    {
      "cell_type": "code",
      "execution_count": null,
      "metadata": {
        "colab": {
          "base_uri": "https://localhost:8080/",
          "height": 1000
        },
        "id": "sS7l8tE4J7ST",
        "outputId": "cd068953-a292-4d7f-91f9-856499b14d0b"
      },
      "outputs": [
        {
          "output_type": "stream",
          "name": "stdout",
          "text": [
            "   Age     Sex  Haemoglobin  WBC Count  Differential Count  RBC PANEL  \\\n",
            "0   43    Male         12.6     2200.0                   1          1   \n",
            "1   45    Male         13.2     3000.0                   0          1   \n",
            "2   50  Female         11.0     3300.0                   1          1   \n",
            "3   57  Female         11.9     3500.0                   1          0   \n",
            "4   51  Female         13.0     3100.0                   0          1   \n",
            "\n",
            "   Platelet Count   PDW  Final Output  \n",
            "0         62000.0  11.0             1  \n",
            "1         17000.0  17.0             1  \n",
            "2         19000.0  16.3             1  \n",
            "3         29000.0  14.0             1  \n",
            "4         30000.0  14.5             1  \n"
          ]
        },
        {
          "output_type": "display_data",
          "data": {
            "text/plain": [
              "<Figure size 800x600 with 1 Axes>"
            ],
            "image/png": "[encoded data removed]"
          },
          "metadata": {}
        },
        {
          "output_type": "display_data",
          "data": {
            "text/plain": [
              "<Figure size 800x600 with 1 Axes>"
            ],
            "image/png": "[encoded data removed]"
          },
          "metadata": {}
        },
        {
          "output_type": "display_data",
          "data": {
            "text/plain": [
              "<Figure size 800x600 with 1 Axes>"
            ],
            "image/png": "[encoded data removed]"
          },
          "metadata": {}
        },
        {
          "output_type": "display_data",
          "data": {
            "text/plain": [
              "<Figure size 800x600 with 1 Axes>"
            ],
            "image/png": "[encoded data removed]"
          },
          "metadata": {}
        },
        {
          "output_type": "display_data",
          "data": {
            "text/plain": [
              "<Figure size 800x600 with 1 Axes>"
            ],
            "image/png": "[encoded data removed]"
          },
          "metadata": {}
        },
        {
          "output_type": "display_data",
          "data": {
            "text/plain": [
              "<Figure size 1200x800 with 1 Axes>"
            ],
            "image/png": "[encoded data removed]"
          },
          "metadata": {}
        }
      ],
      "source": [
        "import pandas as pd\n",
        "\n",
        "# Function to cap outliers using IQR (Interquartile Range)\n",
        "def cap_outliers(df, columns):\n",
        "    for col in columns:\n",
        "        # Calculate Q1 (25th percentile) and Q3 (75th percentile)\n",
        "        Q1 = df[col].quantile(0.25)\n",
        "        Q3 = df[col].quantile(0.75)\n",
        "        IQR = Q3 - Q1\n",
        "\n",
        "        # Define the lower and upper bounds for acceptable values\n",
        "        lower_bound = Q1 - 1.5 * IQR\n",
        "        upper_bound = Q3 + 1.5 * IQR\n",
        "\n",
        "        # Cap values outside the bounds to the lower or upper threshold\n",
        "        df[col] = df[col].clip(lower=lower_bound, upper=upper_bound)\n",
        "\n",
        "    return df\n",
        "\n",
        "# List of columns from which to cap outliers\n",
        "columns_to_cap_outliers = ['Age', 'Haemoglobin', 'WBC Count', 'Platelet Count', 'PDW']\n",
        "\n",
        "# Assuming df_rename is your original DataFrame, apply the cap_outliers function\n",
        "df_capped = cap_outliers(df_rename, columns_to_cap_outliers)\n",
        "\n",
        "# Display the first few rows of the capped DataFrame\n",
        "print(df_capped.head())\n",
        "\n",
        "# Import visualization libraries\n",
        "import matplotlib.pyplot as plt\n",
        "import seaborn as sns\n",
        "\n",
        "# Generate individual boxplots for each column after capping outliers\n",
        "for column in columns_to_cap_outliers:\n",
        "    plt.figure(figsize=(8, 6))\n",
        "    sns.boxplot(df_capped[column])\n",
        "    plt.title(f'Boxplot of {column} (Outliers Capped)')\n",
        "    plt.show()\n",
        "\n",
        "# Generate a combined boxplot for all selected columns after capping outliers\n",
        "plt.figure(figsize=(12, 8))\n",
        "sns.boxplot(data=df_capped[columns_to_cap_outliers])\n",
        "plt.title('Boxplot of Selected Columns (Outliers Capped)')\n",
        "plt.show()\n"
      ]
    },
    {
      "cell_type": "code",
      "execution_count": null,
      "metadata": {
        "colab": {
          "base_uri": "https://localhost:8080/",
          "height": 426
        },
        "id": "1HdVWpUN3DIt",
        "outputId": "b73f1bb4-8a4d-4a2d-9d30-f693e84241b7"
      },
      "outputs": [
        {
          "output_type": "display_data",
          "data": {
            "text/plain": [
              "<Figure size 1800x600 with 4 Axes>"
            ],
            "image/png": "[encoded data removed]"
          },
          "metadata": {}
        }
      ],
      "source": [
        "import matplotlib.pyplot as plt\n",
        "import seaborn as sns\n",
        "\n",
        "#Prepare data,\n",
        "WBC_data = df_capped['WBC Count']\n",
        "Platelet_Count_data = df_capped['Platelet Count']\n",
        "PDW_data = df_capped['PDW']\n",
        "Final_Output = df_capped['Final Output']\n",
        "\n",
        "#Create the figure\n",
        "fig, axs = plt.subplots(1, 4, figsize=(18, 6), sharey=True)\n",
        "\n",
        "#Plot WBC COUNT histogram\n",
        "sns.histplot( WBC_data , bins=20, color='blue', edgecolor='black',kde = True, ax=axs[0])\n",
        "axs[0].set_title('WBC Count')\n",
        "axs[0].set_xlabel('Values')\n",
        "axs[0].set_ylabel('Frequency')\n",
        "\n",
        "#Plot Platelet Count histogram\n",
        "sns.histplot( Platelet_Count_data , bins=20, color='orange', edgecolor='black',kde = True, ax=axs[1])\n",
        "axs[1].set_title('Platelet Count')\n",
        "axs[1].set_xlabel('Values')\n",
        "axs[1].set_ylabel('Frequency')\n",
        "\n",
        "#Plot WBC COUNT histogram\n",
        "sns.histplot( PDW_data , bins=20, color='violet', edgecolor='black',kde = True, ax=axs[2])\n",
        "axs[2].set_title('PDW')\n",
        "axs[2].set_xlabel('Values')\n",
        "axs[2].set_ylabel('Frequency')\n",
        "\n",
        "#Plot Final Output countplot\n",
        "sns.countplot( x = 'Final Output', data=df_capped , color='green', edgecolor='black', ax=axs[3])\n",
        "axs[3].set_title('Final Output ( 0 = Negative ; 1 = Positive)')\n",
        "axs[3].set_xlabel('Values')\n",
        "axs[3].set_ylabel('Frequency')\n",
        "\n",
        "#Adjust layout and show the plot\n",
        "plt.tight_layout()\n",
        "plt.show()"
      ]
    },
    {
      "cell_type": "code",
      "execution_count": null,
      "metadata": {
        "colab": {
          "base_uri": "https://localhost:8080/",
          "height": 363
        },
        "id": "V7ZbN3e9kzYt",
        "outputId": "5d6ff67c-fead-4eb3-c65a-28e92449e4ef"
      },
      "outputs": [
        {
          "output_type": "execute_result",
          "data": {
            "text/plain": [
              "   Age     Sex  Haemoglobin  WBC Count  Differential Count  RBC PANEL  \\\n",
              "0   43    Male         12.6     2200.0                   1          1   \n",
              "1   45    Male         13.2     3000.0                   0          1   \n",
              "2   50  Female         11.0     3300.0                   1          1   \n",
              "3   57  Female         11.9     3500.0                   1          0   \n",
              "4   51  Female         13.0     3100.0                   0          1   \n",
              "5   61    Male         15.0     3300.0                   1          1   \n",
              "6    6   Child         11.0     2300.0                   1          0   \n",
              "7   21    Male         14.0     2500.0                   1          1   \n",
              "8   29    Male         15.0     2400.0                   1          1   \n",
              "9   31  Female         14.2     3700.0                   0          1   \n",
              "\n",
              "   Platelet Count   PDW  Final Output  \n",
              "0         62000.0  11.0             1  \n",
              "1         17000.0  17.0             1  \n",
              "2         19000.0  16.3             1  \n",
              "3         29000.0  14.0             1  \n",
              "4         30000.0  14.5             1  \n",
              "5         34000.0  20.0             1  \n",
              "6         69000.0  12.5             1  \n",
              "7         77000.0  13.3             1  \n",
              "8         78000.0  14.5             1  \n",
              "9         82000.0  15.6             1  "
            ],
            "text/html": [
              "\n",
              "  <div id=\"df-119f0b40-c650-4bd7-911c-3be1e65af092\" class=\"colab-df-container\">\n",
              "    <div>\n",
              "<style scoped>\n",
              "    .dataframe tbody tr th:only-of-type {\n",
              "        vertical-align: middle;\n",
              "    }\n",
              "\n",
              "    .dataframe tbody tr th {\n",
              "        vertical-align: top;\n",
              "    }\n",
              "\n",
              "    .dataframe thead th {\n",
              "        text-align: right;\n",
              "    }\n",
              "</style>\n",
              "<table border=\"1\" class=\"dataframe\">\n",
              "  <thead>\n",
              "    <tr style=\"text-align: right;\">\n",
              "      <th></th>\n",
              "      <th>Age</th>\n",
              "      <th>Sex</th>\n",
              "      <th>Haemoglobin</th>\n",
              "      <th>WBC Count</th>\n",
              "      <th>Differential Count</th>\n",
              "      <th>RBC PANEL</th>\n",
              "      <th>Platelet Count</th>\n",
              "      <th>PDW</th>\n",
              "      <th>Final Output</th>\n",
              "    </tr>\n",
              "  </thead>\n",
              "  <tbody>\n",
              "    <tr>\n",
              "      <th>0</th>\n",
              "      <td>43</td>\n",
              "      <td>Male</td>\n",
              "      <td>12.6</td>\n",
              "      <td>2200.0</td>\n",
              "      <td>1</td>\n",
              "      <td>1</td>\n",
              "      <td>62000.0</td>\n",
              "      <td>11.0</td>\n",
              "      <td>1</td>\n",
              "    </tr>\n",
              "    <tr>\n",
              "      <th>1</th>\n",
              "      <td>45</td>\n",
              "      <td>Male</td>\n",
              "      <td>13.2</td>\n",
              "      <td>3000.0</td>\n",
              "      <td>0</td>\n",
              "      <td>1</td>\n",
              "      <td>17000.0</td>\n",
              "      <td>17.0</td>\n",
              "      <td>1</td>\n",
              "    </tr>\n",
              "    <tr>\n",
              "      <th>2</th>\n",
              "      <td>50</td>\n",
              "      <td>Female</td>\n",
              "      <td>11.0</td>\n",
              "      <td>3300.0</td>\n",
              "      <td>1</td>\n",
              "      <td>1</td>\n",
              "      <td>19000.0</td>\n",
              "      <td>16.3</td>\n",
              "      <td>1</td>\n",
              "    </tr>\n",
              "    <tr>\n",
              "      <th>3</th>\n",
              "      <td>57</td>\n",
              "      <td>Female</td>\n",
              "      <td>11.9</td>\n",
              "      <td>3500.0</td>\n",
              "      <td>1</td>\n",
              "      <td>0</td>\n",
              "      <td>29000.0</td>\n",
              "      <td>14.0</td>\n",
              "      <td>1</td>\n",
              "    </tr>\n",
              "    <tr>\n",
              "      <th>4</th>\n",
              "      <td>51</td>\n",
              "      <td>Female</td>\n",
              "      <td>13.0</td>\n",
              "      <td>3100.0</td>\n",
              "      <td>0</td>\n",
              "      <td>1</td>\n",
              "      <td>30000.0</td>\n",
              "      <td>14.5</td>\n",
              "      <td>1</td>\n",
              "    </tr>\n",
              "    <tr>\n",
              "      <th>5</th>\n",
              "      <td>61</td>\n",
              "      <td>Male</td>\n",
              "      <td>15.0</td>\n",
              "      <td>3300.0</td>\n",
              "      <td>1</td>\n",
              "      <td>1</td>\n",
              "      <td>34000.0</td>\n",
              "      <td>20.0</td>\n",
              "      <td>1</td>\n",
              "    </tr>\n",
              "    <tr>\n",
              "      <th>6</th>\n",
              "      <td>6</td>\n",
              "      <td>Child</td>\n",
              "      <td>11.0</td>\n",
              "      <td>2300.0</td>\n",
              "      <td>1</td>\n",
              "      <td>0</td>\n",
              "      <td>69000.0</td>\n",
              "      <td>12.5</td>\n",
              "      <td>1</td>\n",
              "    </tr>\n",
              "    <tr>\n",
              "      <th>7</th>\n",
              "      <td>21</td>\n",
              "      <td>Male</td>\n",
              "      <td>14.0</td>\n",
              "      <td>2500.0</td>\n",
              "      <td>1</td>\n",
              "      <td>1</td>\n",
              "      <td>77000.0</td>\n",
              "      <td>13.3</td>\n",
              "      <td>1</td>\n",
              "    </tr>\n",
              "    <tr>\n",
              "      <th>8</th>\n",
              "      <td>29</td>\n",
              "      <td>Male</td>\n",
              "      <td>15.0</td>\n",
              "      <td>2400.0</td>\n",
              "      <td>1</td>\n",
              "      <td>1</td>\n",
              "      <td>78000.0</td>\n",
              "      <td>14.5</td>\n",
              "      <td>1</td>\n",
              "    </tr>\n",
              "    <tr>\n",
              "      <th>9</th>\n",
              "      <td>31</td>\n",
              "      <td>Female</td>\n",
              "      <td>14.2</td>\n",
              "      <td>3700.0</td>\n",
              "      <td>0</td>\n",
              "      <td>1</td>\n",
              "      <td>82000.0</td>\n",
              "      <td>15.6</td>\n",
              "      <td>1</td>\n",
              "    </tr>\n",
              "  </tbody>\n",
              "</table>\n",
              "</div>\n",
              "    <div class=\"colab-df-buttons\">\n",
              "\n",
              "  <div class=\"colab-df-container\">\n",
              "    <button class=\"colab-df-convert\" onclick=\"convertToInteractive('df-119f0b40-c650-4bd7-911c-3be1e65af092')\"\n",
              "            title=\"Convert this dataframe to an interactive table.\"\n",
              "            style=\"display:none;\">\n",
              "\n",
              "  <svg xmlns=\"http://www.w3.org/2000/svg\" height=\"24px\" viewBox=\"0 -960 960 960\">\n",
              "    <path d=\"M120-120v-720h720v720H120Zm60-500h600v-160H180v160Zm220 220h160v-160H400v160Zm0 220h160v-160H400v160ZM180-400h160v-160H180v160Zm440 0h160v-160H620v160ZM180-180h160v-160H180v160Zm440 0h160v-160H620v160Z\"/>\n",
              "  </svg>\n",
              "    </button>\n",
              "\n",
              "  <style>\n",
              "    .colab-df-container {\n",
              "      display:flex;\n",
              "      gap: 12px;\n",
              "    }\n",
              "\n",
              "    .colab-df-convert {\n",
              "      background-color: #E8F0FE;\n",
              "      border: none;\n",
              "      border-radius: 50%;\n",
              "      cursor: pointer;\n",
              "      display: none;\n",
              "      fill: #1967D2;\n",
              "      height: 32px;\n",
              "      padding: 0 0 0 0;\n",
              "      width: 32px;\n",
              "    }\n",
              "\n",
              "    .colab-df-convert:hover {\n",
              "      background-color: #E2EBFA;\n",
              "      box-shadow: 0px 1px 2px rgba(60, 64, 67, 0.3), 0px 1px 3px 1px rgba(60, 64, 67, 0.15);\n",
              "      fill: #174EA6;\n",
              "    }\n",
              "\n",
              "    .colab-df-buttons div {\n",
              "      margin-bottom: 4px;\n",
              "    }\n",
              "\n",
              "    [theme=dark] .colab-df-convert {\n",
              "      background-color: #3B4455;\n",
              "      fill: #D2E3FC;\n",
              "    }\n",
              "\n",
              "    [theme=dark] .colab-df-convert:hover {\n",
              "      background-color: #434B5C;\n",
              "      box-shadow: 0px 1px 3px 1px rgba(0, 0, 0, 0.15);\n",
              "      filter: drop-shadow(0px 1px 2px rgba(0, 0, 0, 0.3));\n",
              "      fill: #FFFFFF;\n",
              "    }\n",
              "  </style>\n",
              "\n",
              "    <script>\n",
              "      const buttonEl =\n",
              "        document.querySelector('#df-119f0b40-c650-4bd7-911c-3be1e65af092 button.colab-df-convert');\n",
              "      buttonEl.style.display =\n",
              "        google.colab.kernel.accessAllowed ? 'block' : 'none';\n",
              "\n",
              "      async function convertToInteractive(key) {\n",
              "        const element = document.querySelector('#df-119f0b40-c650-4bd7-911c-3be1e65af092');\n",
              "        const dataTable =\n",
              "          await google.colab.kernel.invokeFunction('convertToInteractive',\n",
              "                                                    [key], {});\n",
              "        if (!dataTable) return;\n",
              "\n",
              "        const docLinkHtml = 'Like what you see? Visit the ' +\n",
              "          '<a target=\"_blank\" href=https://colab.research.google.com/notebooks/data_table.ipynb>data table notebook</a>'\n",
              "          + ' to learn more about interactive tables.';\n",
              "        element.innerHTML = '';\n",
              "        dataTable['output_type'] = 'display_data';\n",
              "        await google.colab.output.renderOutput(dataTable, element);\n",
              "        const docLink = document.createElement('div');\n",
              "        docLink.innerHTML = docLinkHtml;\n",
              "        element.appendChild(docLink);\n",
              "      }\n",
              "    </script>\n",
              "  </div>\n",
              "\n",
              "\n",
              "<div id=\"df-2ae83e35-34f0-4619-aa69-2fc55dabc21d\">\n",
              "  <button class=\"colab-df-quickchart\" onclick=\"quickchart('df-2ae83e35-34f0-4619-aa69-2fc55dabc21d')\"\n",
              "            title=\"Suggest charts\"\n",
              "            style=\"display:none;\">\n",
              "\n",
              "<svg xmlns=\"http://www.w3.org/2000/svg\" height=\"24px\"viewBox=\"0 0 24 24\"\n",
              "     width=\"24px\">\n",
              "    <g>\n",
              "        <path d=\"M19 3H5c-1.1 0-2 .9-2 2v14c0 1.1.9 2 2 2h14c1.1 0 2-.9 2-2V5c0-1.1-.9-2-2-2zM9 17H7v-7h2v7zm4 0h-2V7h2v10zm4 0h-2v-4h2v4z\"/>\n",
              "    </g>\n",
              "</svg>\n",
              "  </button>\n",
              "\n",
              "<style>\n",
              "  .colab-df-quickchart {\n",
              "      --bg-color: #E8F0FE;\n",
              "      --fill-color: #1967D2;\n",
              "      --hover-bg-color: #E2EBFA;\n",
              "      --hover-fill-color: #174EA6;\n",
              "      --disabled-fill-color: #AAA;\n",
              "      --disabled-bg-color: #DDD;\n",
              "  }\n",
              "\n",
              "  [theme=dark] .colab-df-quickchart {\n",
              "      --bg-color: #3B4455;\n",
              "      --fill-color: #D2E3FC;\n",
              "      --hover-bg-color: #434B5C;\n",
              "      --hover-fill-color: #FFFFFF;\n",
              "      --disabled-bg-color: #3B4455;\n",
              "      --disabled-fill-color: #666;\n",
              "  }\n",
              "\n",
              "  .colab-df-quickchart {\n",
              "    background-color: var(--bg-color);\n",
              "    border: none;\n",
              "    border-radius: 50%;\n",
              "    cursor: pointer;\n",
              "    display: none;\n",
              "    fill: var(--fill-color);\n",
              "    height: 32px;\n",
              "    padding: 0;\n",
              "    width: 32px;\n",
              "  }\n",
              "\n",
              "  .colab-df-quickchart:hover {\n",
              "    background-color: var(--hover-bg-color);\n",
              "    box-shadow: 0 1px 2px rgba(60, 64, 67, 0.3), 0 1px 3px 1px rgba(60, 64, 67, 0.15);\n",
              "    fill: var(--button-hover-fill-color);\n",
              "  }\n",
              "\n",
              "  .colab-df-quickchart-complete:disabled,\n",
              "  .colab-df-quickchart-complete:disabled:hover {\n",
              "    background-color: var(--disabled-bg-color);\n",
              "    fill: var(--disabled-fill-color);\n",
              "    box-shadow: none;\n",
              "  }\n",
              "\n",
              "  .colab-df-spinner {\n",
              "    border: 2px solid var(--fill-color);\n",
              "    border-color: transparent;\n",
              "    border-bottom-color: var(--fill-color);\n",
              "    animation:\n",
              "      spin 1s steps(1) infinite;\n",
              "  }\n",
              "\n",
              "  @keyframes spin {\n",
              "    0% {\n",
              "      border-color: transparent;\n",
              "      border-bottom-color: var(--fill-color);\n",
              "      border-left-color: var(--fill-color);\n",
              "    }\n",
              "    20% {\n",
              "      border-color: transparent;\n",
              "      border-left-color: var(--fill-color);\n",
              "      border-top-color: var(--fill-color);\n",
              "    }\n",
              "    30% {\n",
              "      border-color: transparent;\n",
              "      border-left-color: var(--fill-color);\n",
              "      border-top-color: var(--fill-color);\n",
              "      border-right-color: var(--fill-color);\n",
              "    }\n",
              "    40% {\n",
              "      border-color: transparent;\n",
              "      border-right-color: var(--fill-color);\n",
              "      border-top-color: var(--fill-color);\n",
              "    }\n",
              "    60% {\n",
              "      border-color: transparent;\n",
              "      border-right-color: var(--fill-color);\n",
              "    }\n",
              "    80% {\n",
              "      border-color: transparent;\n",
              "      border-right-color: var(--fill-color);\n",
              "      border-bottom-color: var(--fill-color);\n",
              "    }\n",
              "    90% {\n",
              "      border-color: transparent;\n",
              "      border-bottom-color: var(--fill-color);\n",
              "    }\n",
              "  }\n",
              "</style>\n",
              "\n",
              "  <script>\n",
              "    async function quickchart(key) {\n",
              "      const quickchartButtonEl =\n",
              "        document.querySelector('#' + key + ' button');\n",
              "      quickchartButtonEl.disabled = true;  // To prevent multiple clicks.\n",
              "      quickchartButtonEl.classList.add('colab-df-spinner');\n",
              "      try {\n",
              "        const charts = await google.colab.kernel.invokeFunction(\n",
              "            'suggestCharts', [key], {});\n",
              "      } catch (error) {\n",
              "        console.error('Error during call to suggestCharts:', error);\n",
              "      }\n",
              "      quickchartButtonEl.classList.remove('colab-df-spinner');\n",
              "      quickchartButtonEl.classList.add('colab-df-quickchart-complete');\n",
              "    }\n",
              "    (() => {\n",
              "      let quickchartButtonEl =\n",
              "        document.querySelector('#df-2ae83e35-34f0-4619-aa69-2fc55dabc21d button');\n",
              "      quickchartButtonEl.style.display =\n",
              "        google.colab.kernel.accessAllowed ? 'block' : 'none';\n",
              "    })();\n",
              "  </script>\n",
              "</div>\n",
              "\n",
              "    </div>\n",
              "  </div>\n"
            ],
            "application/vnd.google.colaboratory.intrinsic+json": {
              "type": "dataframe",
              "variable_name": "df_rename",
              "summary": "{\n  \"name\": \"df_rename\",\n  \"rows\": 1003,\n  \"fields\": [\n    {\n      \"column\": \"Age\",\n      \"properties\": {\n        \"dtype\": \"number\",\n        \"std\": 20,\n        \"min\": 3,\n        \"max\": 97,\n        \"num_unique_values\": 94,\n        \"samples\": [\n          14,\n          49,\n          53\n        ],\n        \"semantic_type\": \"\",\n        \"description\": \"\"\n      }\n    },\n    {\n      \"column\": \"Sex\",\n      \"properties\": {\n        \"dtype\": \"category\",\n        \"num_unique_values\": 3,\n        \"samples\": [\n          \"Male\",\n          \"Female\",\n          \"Child\"\n        ],\n        \"semantic_type\": \"\",\n        \"description\": \"\"\n      }\n    },\n    {\n      \"column\": \"Haemoglobin\",\n      \"properties\": {\n        \"dtype\": \"number\",\n        \"std\": 1.4470970479308398,\n        \"min\": 11.0,\n        \"max\": 18.6,\n        \"num_unique_values\": 53,\n        \"samples\": [\n          11.6,\n          11.8,\n          13.9\n        ],\n        \"semantic_type\": \"\",\n        \"description\": \"\"\n      }\n    },\n    {\n      \"column\": \"WBC Count\",\n      \"properties\": {\n        \"dtype\": \"number\",\n        \"std\": 2310.975357041508,\n        \"min\": 2000.0,\n        \"max\": 10700.0,\n        \"num_unique_values\": 74,\n        \"samples\": [\n          3100.0,\n          8400.0,\n          5800.0\n        ],\n        \"semantic_type\": \"\",\n        \"description\": \"\"\n      }\n    },\n    {\n      \"column\": \"Differential Count\",\n      \"properties\": {\n        \"dtype\": \"number\",\n        \"std\": 0,\n        \"min\": 0,\n        \"max\": 1,\n        \"num_unique_values\": 2,\n        \"samples\": [\n          0,\n          1\n        ],\n        \"semantic_type\": \"\",\n        \"description\": \"\"\n      }\n    },\n    {\n      \"column\": \"RBC PANEL\",\n      \"properties\": {\n        \"dtype\": \"number\",\n        \"std\": 0,\n        \"min\": 0,\n        \"max\": 1,\n        \"num_unique_values\": 2,\n        \"samples\": [\n          0,\n          1\n        ],\n        \"semantic_type\": \"\",\n        \"description\": \"\"\n      }\n    },\n    {\n      \"column\": \"Platelet Count\",\n      \"properties\": {\n        \"dtype\": \"number\",\n        \"std\": 81865.6035324551,\n        \"min\": 10000.0,\n        \"max\": 329575.0,\n        \"num_unique_values\": 328,\n        \"samples\": [\n          16600.0,\n          54000.0\n        ],\n        \"semantic_type\": \"\",\n        \"description\": \"\"\n      }\n    },\n    {\n      \"column\": \"PDW\",\n      \"properties\": {\n        \"dtype\": \"number\",\n        \"std\": 11.079459741908364,\n        \"min\": 1.0,\n        \"max\": 48.25,\n        \"num_unique_values\": 214,\n        \"samples\": [\n          16.7,\n          40.4\n        ],\n        \"semantic_type\": \"\",\n        \"description\": \"\"\n      }\n    },\n    {\n      \"column\": \"Final Output\",\n      \"properties\": {\n        \"dtype\": \"number\",\n        \"std\": 0,\n        \"min\": 0,\n        \"max\": 1,\n        \"num_unique_values\": 2,\n        \"samples\": [\n          0,\n          1\n        ],\n        \"semantic_type\": \"\",\n        \"description\": \"\"\n      }\n    }\n  ]\n}"
            }
          },
          "metadata": {},
          "execution_count": 65
        }
      ],
      "source": [
        "df_rename.head(10)"
      ]
    },
    {
      "cell_type": "code",
      "execution_count": null,
      "metadata": {
        "id": "OemiDP9yoQIi"
      },
      "outputs": [],
      "source": [
        "df.to_csv('df_rename.csv')"
      ]
    },
    {
      "cell_type": "markdown",
      "metadata": {
        "id": "8Wg-rQISEanI"
      },
      "source": [
        "#Feature Engineering"
      ]
    },
    {
      "cell_type": "markdown",
      "metadata": {
        "id": "t1gA8sSRGu4h"
      },
      "source": [
        "1.AGE GROUP"
      ]
    },
    {
      "cell_type": "code",
      "execution_count": null,
      "metadata": {
        "colab": {
          "base_uri": "https://localhost:8080/"
        },
        "id": "YycIAOsCGLsd",
        "outputId": "2207463c-dcd5-4ade-cc76-cc18259fb2ab"
      },
      "outputs": [
        {
          "output_type": "stream",
          "name": "stdout",
          "text": [
            "    Age    Age Group\n",
            "0    43        Adult\n",
            "1    45        Adult\n",
            "2    50        Adult\n",
            "3    57        Adult\n",
            "4    51        Adult\n",
            "5    61       Senior\n",
            "6     6        Child\n",
            "7    21  Young Adult\n",
            "8    29  Young Adult\n",
            "9    31  Young Adult\n",
            "10   37  Young Adult\n",
            "11   39  Young Adult\n",
            "12   44        Adult\n",
            "13   45        Adult\n",
            "14   56        Adult\n",
            "15   58        Adult\n",
            "16   57        Adult\n",
            "17   29  Young Adult\n",
            "18   30  Young Adult\n",
            "19   40  Young Adult\n"
          ]
        }
      ],
      "source": [
        "# Example age bins and labels\n",
        "bins = [0, 18, 40, 60, 100]  # Define the bin edges\n",
        "labels = ['Child', 'Young Adult', 'Adult', 'Senior']  # Define the labels for each bin\n",
        "\n",
        "# Assuming 'Age' is the column in your DataFrame\n",
        "df_rename['Age Group'] = pd.cut(df_rename['Age'], bins=bins, labels=labels)\n",
        "\n",
        "# Display the first few rows with the new column\n",
        "print(df_rename[['Age', 'Age Group']].head(20))"
      ]
    },
    {
      "cell_type": "markdown",
      "metadata": {
        "id": "E8Kt0ASuGy90"
      },
      "source": [
        "2.Platelet Count Category"
      ]
    },
    {
      "cell_type": "code",
      "execution_count": null,
      "metadata": {
        "colab": {
          "base_uri": "https://localhost:8080/"
        },
        "id": "K2pqGBEhH4HT",
        "outputId": "ed459491-3981-4964-8e13-c6ccb1677fe4"
      },
      "outputs": [
        {
          "output_type": "stream",
          "name": "stdout",
          "text": [
            "   Platelet Count Platelet Count Category\n",
            "0         62000.0                     Low\n",
            "1         17000.0                     Low\n",
            "2         19000.0                     Low\n",
            "3         29000.0                     Low\n",
            "4         30000.0                     Low\n"
          ]
        }
      ],
      "source": [
        "# Define platelet count categories\n",
        "bins = [0, 150000, 450000, float('inf')]  # Define the range for categories\n",
        "labels = ['Low', 'Normal', 'High']        # Define the category labels\n",
        "\n",
        "# Create the Platelet Count Category feature\n",
        "df_rename['Platelet Count Category'] = pd.cut(df_rename['Platelet Count'], bins=bins, labels=labels)\n",
        "\n",
        "# Display the first few rows with the new column\n",
        "print(df_rename[['Platelet Count', 'Platelet Count Category']].head())\n"
      ]
    },
    {
      "cell_type": "markdown",
      "metadata": {
        "id": "3mPPwlwYLtCu"
      },
      "source": [
        "3.Hemoglobin Deficiency Status"
      ]
    },
    {
      "cell_type": "code",
      "execution_count": null,
      "metadata": {
        "colab": {
          "base_uri": "https://localhost:8080/"
        },
        "id": "nS_-imIuLvBo",
        "outputId": "bf62fb89-1564-4400-a7f5-bd747cccef8b"
      },
      "outputs": [
        {
          "output_type": "stream",
          "name": "stdout",
          "text": [
            "      Sex  Haemoglobin Hemoglobin Deficiency Status\n",
            "0    Male         12.6                    Deficient\n",
            "1    Male         13.2                       Normal\n",
            "2  Female         11.0                    Deficient\n",
            "3  Female         11.9                    Deficient\n",
            "4  Female         13.0                       Normal\n"
          ]
        }
      ],
      "source": [
        "# Function to determine hemoglobin deficiency status\n",
        "def hemoglobin_status(row):\n",
        "    # Assuming the column name is 'Sex' (or whatever it's called in your DataFrame)\n",
        "    if row['Sex'] == 'Male':  # Changed 'Gender' to 'Sex'\n",
        "        if row['Haemoglobin'] < 13:\n",
        "            return 'Deficient'\n",
        "        elif row['Haemoglobin'] > 17.5:\n",
        "            return 'High'\n",
        "        else:\n",
        "            return 'Normal'\n",
        "    elif row['Sex'] == 'Female':  # Changed 'Gender' to 'Sex'\n",
        "        if row['Haemoglobin'] < 12:\n",
        "            return 'Deficient'\n",
        "        elif row['Haemoglobin'] > 16:\n",
        "            return 'High'\n",
        "        else:\n",
        "            return 'Normal'\n",
        "    else:  # For children\n",
        "        if row['Haemoglobin'] < 11.5:\n",
        "            return 'Deficient'\n",
        "        elif row['Haemoglobin'] > 15.5:\n",
        "            return 'High'\n",
        "        else:\n",
        "            return 'Normal'\n",
        "\n",
        "# Apply the function to create the new feature\n",
        "df_rename['Hemoglobin Deficiency Status'] = df_rename.apply(hemoglobin_status, axis=1)\n",
        "\n",
        "# Display the first few rows with the new column\n",
        "print(df_rename[['Sex', 'Haemoglobin', 'Hemoglobin Deficiency Status']].head()) # Changed 'Gender' to 'Sex')\n"
      ]
    },
    {
      "cell_type": "markdown",
      "metadata": {
        "id": "q13vW6E7J-hO"
      },
      "source": [
        "4.WBC Count Category"
      ]
    },
    {
      "cell_type": "code",
      "execution_count": null,
      "metadata": {
        "colab": {
          "base_uri": "https://localhost:8080/"
        },
        "id": "FeJmQEDvKDI1",
        "outputId": "daa71995-6062-4a04-dd07-bb68bd155227"
      },
      "outputs": [
        {
          "output_type": "stream",
          "name": "stdout",
          "text": [
            "   WBC Count WBC Count Category\n",
            "0     2200.0                Low\n",
            "1     3000.0                Low\n",
            "2     3300.0                Low\n",
            "3     3500.0                Low\n",
            "4     3100.0                Low\n"
          ]
        }
      ],
      "source": [
        "# Define WBC count categories\n",
        "bins = [0, 4000, 11000, float('inf')]  # Define the ranges for WBC counts\n",
        "labels = ['Low', 'Normal', 'High']     # Define the category labels\n",
        "\n",
        "# Create the WBC Count Category feature\n",
        "df_rename['WBC Count Category'] = pd.cut(df_rename['WBC Count'], bins=bins, labels=labels)\n",
        "\n",
        "# Display the first few rows with the new column\n",
        "print(df_rename[['WBC Count', 'WBC Count Category']].head())\n"
      ]
    },
    {
      "cell_type": "markdown",
      "metadata": {
        "id": "EAfu1aYdJ0pH"
      },
      "source": [
        "5.PDW Risk Indicator"
      ]
    },
    {
      "cell_type": "code",
      "execution_count": null,
      "metadata": {
        "colab": {
          "base_uri": "https://localhost:8080/"
        },
        "id": "0tbqRhkGMFpd",
        "outputId": "fee5b147-e15e-415f-c224-5dc52f917c43"
      },
      "outputs": [
        {
          "output_type": "stream",
          "name": "stdout",
          "text": [
            "    PDW PDW Risk Indicator\n",
            "0  11.0           Low Risk\n",
            "1  17.0          High Risk\n",
            "2  16.3          High Risk\n",
            "3  14.0          High Risk\n",
            "4  14.5          High Risk\n"
          ]
        }
      ],
      "source": [
        "# Define thresholds for PDW Risk Indicator\n",
        "def pdw_risk_indicator(pdw_value):\n",
        "    if 9 <= pdw_value <= 13:\n",
        "        return 'Low Risk'\n",
        "    else:\n",
        "        return 'High Risk'\n",
        "\n",
        "# Apply the function to create the new feature\n",
        "df_rename['PDW Risk Indicator'] = df_rename['PDW'].apply(pdw_risk_indicator)\n",
        "\n",
        "# Display the first few rows with the new column\n",
        "print(df_rename[['PDW', 'PDW Risk Indicator']].head())\n",
        "\n"
      ]
    },
    {
      "cell_type": "markdown",
      "metadata": {
        "id": "wmbT4DqEMk7E"
      },
      "source": [
        "6.Risk Score"
      ]
    },
    {
      "cell_type": "code",
      "execution_count": null,
      "metadata": {
        "colab": {
          "base_uri": "https://localhost:8080/"
        },
        "id": "WzuK9CRyNwku",
        "outputId": "8fa24ce6-c197-4958-ff83-fedd830dd79b"
      },
      "outputs": [
        {
          "output_type": "stream",
          "name": "stdout",
          "text": [
            "    Platelet Count   PDW  WBC Count  Haemoglobin  Composite Risk Score\n",
            "0          62000.0  11.0     2200.0         12.6                     3\n",
            "1          17000.0  17.0     3000.0         13.2                     3\n",
            "2          19000.0  16.3     3300.0         11.0                     4\n",
            "3          29000.0  14.0     3500.0         11.9                     4\n",
            "4          30000.0  14.5     3100.0         13.0                     3\n",
            "5          34000.0  20.0     3300.0         15.0                     3\n",
            "6          69000.0  12.5     2300.0         11.0                     3\n",
            "7          77000.0  13.3     2500.0         14.0                     3\n",
            "8          78000.0  14.5     2400.0         15.0                     3\n",
            "9          82000.0  15.6     3700.0         14.2                     3\n",
            "10         81000.0  16.7     2300.0         13.6                     3\n",
            "11         86000.0  17.3     2200.0         15.6                     3\n",
            "12         99000.0  18.2     2900.0         12.9                     4\n",
            "13        100000.0  19.0     3200.0         11.7                     4\n",
            "14        111000.0  19.3     3400.0         15.2                     3\n",
            "15        139000.0  19.5     3000.0         14.7                     3\n",
            "16        120000.0  11.9     3500.0         15.3                     2\n",
            "17        107000.0  12.0     2700.0         13.3                     2\n",
            "18        109000.0  12.2     2500.0         14.2                     2\n",
            "19         75000.0  13.5     2600.0         14.7                     3\n"
          ]
        }
      ],
      "source": [
        "# Define the function to calculate composite risk score\n",
        "def composite_risk_score(row):\n",
        "    risk_score = 0\n",
        "\n",
        "    # Platelet Count Risk\n",
        "    if row['Platelet Count'] < 150000:\n",
        "        risk_score += 1\n",
        "\n",
        "    # PDW Risk\n",
        "    if row['PDW'] < 9 or row['PDW'] > 13:\n",
        "        risk_score += 1\n",
        "\n",
        "    # WBC Count Risk\n",
        "    if row['WBC Count'] < 4000 or row['WBC Count'] > 11000:\n",
        "        risk_score += 1\n",
        "\n",
        "    # Anemia Risk\n",
        "    if row['Sex'] == 'Male' and row['Haemoglobin'] < 13:\n",
        "        risk_score += 1\n",
        "    elif row['Sex'] == 'Female' and row['Haemoglobin'] < 12:\n",
        "        risk_score += 1\n",
        "    elif row['Sex'] == 'Child' and row['Haemoglobin'] < 11.5:\n",
        "        risk_score += 1\n",
        "\n",
        "    return risk_score\n",
        "\n",
        "# Apply the function to calculate the risk score for each row\n",
        "df_rename['Composite Risk Score'] = df_rename.apply(composite_risk_score, axis=1)\n",
        "\n",
        "# Display the first few rows with the new column\n",
        "print(df_rename[['Platelet Count', 'PDW', 'WBC Count', 'Haemoglobin', 'Composite Risk Score']].head(20))\n"
      ]
    },
    {
      "cell_type": "code",
      "source": [
        "missing_values = df_rename.isna().sum()\n",
        "missing_values_percent = 100 * df_rename.isna().sum()/len(df)\n",
        "print(missing_values_percent)\n",
        "print(missing_values)"
      ],
      "metadata": {
        "colab": {
          "base_uri": "https://localhost:8080/"
        },
        "id": "r4mXrYTZq62N",
        "outputId": "66905e79-74e4-4158-b7d1-0b6b94e6f252"
      },
      "execution_count": null,
      "outputs": [
        {
          "output_type": "stream",
          "name": "stdout",
          "text": [
            "Age                             0.0\n",
            "Sex                             0.0\n",
            "Haemoglobin                     0.0\n",
            "WBC Count                       0.0\n",
            "Differential Count              0.0\n",
            "RBC PANEL                       0.0\n",
            "Platelet Count                  0.0\n",
            "PDW                             0.0\n",
            "Final Output                    0.0\n",
            "Age Group                       0.0\n",
            "Platelet Count Category         0.0\n",
            "Hemoglobin Deficiency Status    0.0\n",
            "WBC Count Category              0.0\n",
            "PDW Risk Indicator              0.0\n",
            "Composite Risk Score            0.0\n",
            "dtype: float64\n",
            "Age                             0\n",
            "Sex                             0\n",
            "Haemoglobin                     0\n",
            "WBC Count                       0\n",
            "Differential Count              0\n",
            "RBC PANEL                       0\n",
            "Platelet Count                  0\n",
            "PDW                             0\n",
            "Final Output                    0\n",
            "Age Group                       0\n",
            "Platelet Count Category         0\n",
            "Hemoglobin Deficiency Status    0\n",
            "WBC Count Category              0\n",
            "PDW Risk Indicator              0\n",
            "Composite Risk Score            0\n",
            "dtype: int64\n"
          ]
        }
      ]
    },
    {
      "cell_type": "code",
      "source": [
        "df_rename.to_csv('df_rename.csv')"
      ],
      "metadata": {
        "id": "iol-FqDvrKkj"
      },
      "execution_count": null,
      "outputs": []
    },
    {
      "cell_type": "code",
      "source": [
        "df_rename.info()"
      ],
      "metadata": {
        "colab": {
          "base_uri": "https://localhost:8080/"
        },
        "id": "0CNEEflHvuHU",
        "outputId": "6bc7e6d8-607a-429f-efa6-00c5458a0d60"
      },
      "execution_count": null,
      "outputs": [
        {
          "output_type": "stream",
          "name": "stdout",
          "text": [
            "<class 'pandas.core.frame.DataFrame'>\n",
            "RangeIndex: 1003 entries, 0 to 1002\n",
            "Data columns (total 15 columns):\n",
            " #   Column                        Non-Null Count  Dtype   \n",
            "---  ------                        --------------  -----   \n",
            " 0   Age                           1003 non-null   int64   \n",
            " 1   Sex                           1003 non-null   object  \n",
            " 2   Haemoglobin                   1003 non-null   float64 \n",
            " 3   WBC Count                     1003 non-null   float64 \n",
            " 4   Differential Count            1003 non-null   int64   \n",
            " 5   RBC PANEL                     1003 non-null   int64   \n",
            " 6   Platelet Count                1003 non-null   float64 \n",
            " 7   PDW                           1003 non-null   float64 \n",
            " 8   Final Output                  1003 non-null   int64   \n",
            " 9   Age Group                     1003 non-null   category\n",
            " 10  Platelet Count Category       1003 non-null   category\n",
            " 11  Hemoglobin Deficiency Status  1003 non-null   object  \n",
            " 12  WBC Count Category            1003 non-null   category\n",
            " 13  PDW Risk Indicator            1003 non-null   object  \n",
            " 14  Composite Risk Score          1003 non-null   int64   \n",
            "dtypes: category(3), float64(4), int64(5), object(3)\n",
            "memory usage: 97.6+ KB\n"
          ]
        }
      ]
    },
    {
      "cell_type": "markdown",
      "source": [
        "# Testing"
      ],
      "metadata": {
        "id": "kj7EadNfZkn8"
      }
    },
    {
      "cell_type": "markdown",
      "source": [
        "## Chi-Square Test\n",
        "\n",
        "##Hypothesis-1\n",
        "\n",
        "H0: There is no association between age group and hemoglobin deficiency status.\n",
        "\n",
        "H1: There is an association between age group and hemoglobin deficiency status.\n",
        "\n"
      ],
      "metadata": {
        "id": "nZuYzH72aV04"
      }
    },
    {
      "cell_type": "code",
      "source": [
        "import numpy as np\n",
        "import scipy.stats as stats\n",
        "#Chi-square test function\n",
        "def chi_square_test(observed, alpha=0.05):\n",
        "    chi2, p_value, dof, expected = stats.chi2_contingency(observed)\n",
        "    critical_value = stats.chi2.ppf(1 - alpha, dof)\n",
        "    reject_null = chi2 > critical_value\n",
        "\n",
        "    return chi2, p_value, dof, expected, reject_null, critical_value"
      ],
      "metadata": {
        "id": "2jhpeFipZi1r"
      },
      "execution_count": null,
      "outputs": []
    },
    {
      "cell_type": "code",
      "source": [
        "# Create a contingency table\n",
        "contingency_table = pd.crosstab(df_rename['Age Group'], df_rename['Hemoglobin Deficiency Status'])\n",
        "print(contingency_table)\n",
        "# Calculate the test statistics\n",
        "chi2, p_value, dof, expected, reject_null, critical_value = chi_square_test(contingency_table.values)\n",
        "# Print the results\n",
        "print(\"Chi-square Test Results:\")\n",
        "print(f\"Chi-square Statistic: {chi2}\")\n",
        "print(f\"Degrees of Freedom: {dof}\")\n",
        "print(f\"p-value: {p_value}\")\n",
        "print(f\"Critical Value (at alpha=0.05): {critical_value:.4f}\")\n",
        "print(f\"Reject Null Hypothesis: {'Yes' if reject_null else 'No'}\")\n",
        "print(\"\\nExpected Frequencies:\")\n",
        "print(expected)\n",
        "# Interpretation\n",
        "if reject_null:\n",
        "    print(\"\\nConclusion: There is a significant association between Age Group and Hemoglobin Deficiency Status.\")\n",
        "else:\n",
        "    print(\"\\nConclusion: There is no significant association between Age Group and Hemoglobin Deficiency Status.\")"
      ],
      "metadata": {
        "colab": {
          "base_uri": "https://localhost:8080/"
        },
        "id": "SI1YuVSTbEGR",
        "outputId": "90601d20-1927-4a63-9f27-5fe74472880f"
      },
      "execution_count": null,
      "outputs": [
        {
          "output_type": "stream",
          "name": "stdout",
          "text": [
            "Hemoglobin Deficiency Status  Deficient  High  Normal\n",
            "Age Group                                            \n",
            "Child                                22     3      94\n",
            "Young Adult                          95     0     287\n",
            "Adult                                82     0     234\n",
            "Senior                               61     0     125\n",
            "Chi-square Test Results:\n",
            "Chi-square Statistic: 30.002555982320562\n",
            "Degrees of Freedom: 6\n",
            "p-value: 3.926449173008075e-05\n",
            "Critical Value (at alpha=0.05): 12.5916\n",
            "Reject Null Hypothesis: Yes\n",
            "\n",
            "Expected Frequencies:\n",
            "[[ 30.84745763   0.3559322   87.79661017]\n",
            " [ 99.02293121   1.14257228 281.83449651]\n",
            " [ 81.91425723   0.94516451 233.14057827]\n",
            " [ 48.21535394   0.55633101 137.22831505]]\n",
            "\n",
            "Conclusion: There is a significant association between Age Group and Hemoglobin Deficiency Status.\n"
          ]
        }
      ]
    },
    {
      "cell_type": "markdown",
      "source": [
        "With df = 6 and a significance level of 0.05, we can compare this total calculated chi-square value to the critical chi-square value (approximately 12.591). Total Calculated Chi-Square (30.002) > Critical Chi-Square Value (12.591). Since the calculated chi-square statistic is greater than the critical value we reject the null hypothesis (H₀).There is a significant association between Age Group and Hemoglobin Deficiency Status. This means that the hemoglobin deficiency status varies significantly across different age groups."
      ],
      "metadata": {
        "id": "DSFCUprrqw0z"
      }
    },
    {
      "cell_type": "markdown",
      "source": [
        "## Hypothesis-2\n",
        "\n",
        "H0: Age group does not influence composite risk score.\n",
        "\n",
        "H1: Age group influences composite risk score."
      ],
      "metadata": {
        "id": "1vu4RfzmhCNv"
      }
    },
    {
      "cell_type": "code",
      "source": [
        "# Create a contingency table\n",
        "contingency_table = pd.crosstab(df_rename['Age Group'], df_rename['Composite Risk Score'])\n",
        "print(contingency_table)\n",
        "# Calculate the test statistics\n",
        "chi2, p_value, dof, expected, reject_null, critical_value = chi_square_test(contingency_table.values)\n",
        "# Print the results\n",
        "print(\"Chi-Square Test Results:\")\n",
        "print(f\"Chi-Square Statistic: {chi2:.4f}\")\n",
        "print(f\"Degrees of Freedom: {dof}\")\n",
        "print(f\"p-value: {p_value:.4f}\")\n",
        "print(f\"Critical Value (at alpha=0.05): {critical_value:.4f}\")\n",
        "print(f\"Reject Null Hypothesis: {'Yes' if reject_null else 'No'}\")\n",
        "print(\"\\nExpected Frequencies:\")\n",
        "print(expected)\n",
        "# Interpretation\n",
        "if reject_null:\n",
        "    print(\"\\nAge group influences composite risk score.\")\n",
        "else:\n",
        "    print(\"\\nAge group does not influence composite risk score.\")"
      ],
      "metadata": {
        "id": "1G4jh08ChBBn",
        "colab": {
          "base_uri": "https://localhost:8080/"
        },
        "outputId": "c525cac4-5a2e-4ba9-a21e-1d2cee74826d"
      },
      "execution_count": null,
      "outputs": [
        {
          "output_type": "stream",
          "name": "stdout",
          "text": [
            "Composite Risk Score   0   1   2    3   4\n",
            "Age Group                                \n",
            "Child                  0  20  18   67  14\n",
            "Young Adult           11  71  82  174  44\n",
            "Adult                 12  50  48  157  49\n",
            "Senior                24  53  30   53  26\n",
            "Chi-Square Test Results:\n",
            "Chi-Square Statistic: 69.6009\n",
            "Degrees of Freedom: 12\n",
            "p-value: 0.0000\n",
            "Critical Value (at alpha=0.05): 21.0261\n",
            "Reject Null Hypothesis: Yes\n",
            "\n",
            "Expected Frequencies:\n",
            "[[  5.57627119  23.01694915  21.11864407  53.50847458  15.77966102]\n",
            " [ 17.9002991   73.88634098  67.79262213 171.7666999   50.65403789]\n",
            " [ 14.80757727  61.12063809  56.07976072 142.08973081  41.90229312]\n",
            " [  8.71585244  35.97607178  33.00897308  83.63509472  24.66400798]]\n",
            "\n",
            "Age group influences composite risk score.\n"
          ]
        }
      ]
    },
    {
      "cell_type": "markdown",
      "source": [
        "Based on the Chi-square test results, we analyze the relationship between Age Group and Composite Risk Score.The calculated Chi-square statistic is 69.6009, which is much larger than the critical value of 21.0261 (at\n",
        "α=0.05).The p-value is 0.0000, which is less than the significance level (α=0.05). This indicates strong evidence against the null hypothesis.Since the p-value is extremely small and the Chi-square statistic exceeds the critical value, we reject the null hypothesis.This means that age group significantly influences the composite risk score. In other words, the distribution of composite risk scores varies significantly across different age groups."
      ],
      "metadata": {
        "id": "jxpzWFQ6u0Uv"
      }
    },
    {
      "cell_type": "markdown",
      "source": [
        "## Hypothesis-3\n",
        "\n",
        "H0: Platelet count category has no association with PDW risk indicator.\n",
        "\n",
        "H1: Platelet count category is associated with PDW risk indicator."
      ],
      "metadata": {
        "id": "CXeUGCiJvvRZ"
      }
    },
    {
      "cell_type": "code",
      "source": [
        "# Create a contingency table\n",
        "contingency_table = pd.crosstab(df_rename['Platelet Count Category'], df_rename['PDW Risk Indicator'])\n",
        "print(contingency_table)\n",
        "# Calculate the test statistics\n",
        "chi2, p_value, dof, expected, reject_null, critical_value = chi_square_test(contingency_table.values)\n",
        "# Print the results\n",
        "print(\"Chi-Square Test Results:\")\n",
        "print(f\"Chi-Square Statistic: {chi2:.4f}\")\n",
        "print(f\"Degrees of Freedom: {dof}\")\n",
        "print(f\"p-value: {p_value:.4f}\")\n",
        "print(f\"Critical Value (at alpha=0.05): {critical_value:.4f}\")\n",
        "print(f\"Reject Null Hypothesis: {'Yes' if reject_null else 'No'}\")\n",
        "print(\"\\nExpected Frequencies:\")\n",
        "print(expected)\n",
        "# Interpretation\n",
        "if reject_null:\n",
        "    print(\"\\nPlatelet count category is associated with PDW risk indicator.\")\n",
        "else:\n",
        "    print(\"\\nPlatelet count category has no association with PDW risk indicator.\")"
      ],
      "metadata": {
        "colab": {
          "base_uri": "https://localhost:8080/"
        },
        "id": "gOsR483ZxHr9",
        "outputId": "8912df04-f242-4476-ebbd-a1d792746412"
      },
      "execution_count": null,
      "outputs": [
        {
          "output_type": "stream",
          "name": "stdout",
          "text": [
            "PDW Risk Indicator       High Risk  Low Risk\n",
            "Platelet Count Category                     \n",
            "Low                            556       140\n",
            "Normal                         236        71\n",
            "Chi-Square Test Results:\n",
            "Chi-Square Statistic: 0.9893\n",
            "Degrees of Freedom: 1\n",
            "p-value: 0.3199\n",
            "Critical Value (at alpha=0.05): 3.8415\n",
            "Reject Null Hypothesis: No\n",
            "\n",
            "Expected Frequencies:\n",
            "[[549.58325025 146.41674975]\n",
            " [242.41674975  64.58325025]]\n",
            "\n",
            "Platelet count category has no association with PDW risk indicator.\n"
          ]
        }
      ]
    },
    {
      "cell_type": "markdown",
      "source": [
        "The Chi-Square test results indicate a Chi-Square Statistic of 0.9893 with 1 degree of freedom and a p-value of 0.3199, which is greater than the significance level (α=0.05). Since the p-value exceeds the critical threshold, we fail to reject the null hypothesis (H0).\n",
        "\n",
        "This means there is no statistically significant association between platelet count category and the PDW risk indicator. The observed differences between the groups can be attributed to random variation rather than a meaningful relationship. Thus, we conclude that platelet count category does not influence the PDW risk indicator based on the provided data.\n",
        "\n",
        "\n",
        "\n",
        "\n",
        "\n",
        "\n",
        "\n"
      ],
      "metadata": {
        "id": "TWHqeGWfyZgO"
      }
    },
    {
      "cell_type": "markdown",
      "source": [
        "##Hypothesis-4\n",
        "\n",
        "H0: There is no association between sex and WBC count category.\n",
        "\n",
        "H1: There is an association between sex and WBC count category."
      ],
      "metadata": {
        "id": "2qADKDdAywjZ"
      }
    },
    {
      "cell_type": "code",
      "source": [
        "# Create a contingency table\n",
        "contingency_table = pd.crosstab(df_rename['Sex'], df_rename['WBC Count Category'])\n",
        "print(contingency_table)\n",
        "# Calculate the test statistics\n",
        "chi2, p_value, dof, expected, reject_null, critical_value = chi_square_test(contingency_table.values)\n",
        "# Print the results\n",
        "print(\"Chi-Square Test Results:\")\n",
        "print(f\"Chi-Square Statistic: {chi2:.4f}\")\n",
        "print(f\"Degrees of Freedom: {dof}\")\n",
        "print(f\"p-value: {p_value:.4f}\")\n",
        "print(f\"Critical Value (at alpha=0.05): {critical_value:.4f}\")\n",
        "print(f\"Reject Null Hypothesis: {'Yes' if reject_null else 'No'}\")\n",
        "print(\"\\nExpected Frequencies:\")\n",
        "print(expected)\n",
        "# Interpretation\n",
        "if reject_null:\n",
        "    print(\"\\nThere is an association between sex and WBC count category.\")\n",
        "else:\n",
        "    print(\"\\nThere is no association between sex and WBC count category.\")"
      ],
      "metadata": {
        "colab": {
          "base_uri": "https://localhost:8080/"
        },
        "id": "rrL2ybnQzEhn",
        "outputId": "ee92d9a9-c04a-4dc4-ad0f-df7329e73415"
      },
      "execution_count": null,
      "outputs": [
        {
          "output_type": "stream",
          "name": "stdout",
          "text": [
            "WBC Count Category  Low  Normal\n",
            "Sex                            \n",
            "Child                27       8\n",
            "Female              299     151\n",
            "Male                366     152\n",
            "Chi-Square Test Results:\n",
            "Chi-Square Statistic: 3.1229\n",
            "Degrees of Freedom: 2\n",
            "p-value: 0.2098\n",
            "Critical Value (at alpha=0.05): 5.9915\n",
            "Reject Null Hypothesis: No\n",
            "\n",
            "Expected Frequencies:\n",
            "[[ 24.14755733  10.85244267]\n",
            " [310.46859422 139.53140578]\n",
            " [357.38384845 160.61615155]]\n",
            "\n",
            "There is no association between sex and WBC count category.\n"
          ]
        }
      ]
    },
    {
      "cell_type": "markdown",
      "source": [
        "The Chi-Square test shows a Chi-Square Statistic of 3.1229 with 2 degrees of freedom and a p-value of 0.2098, which is greater than the significance level (α=0.05). Since the p-value exceeds the critical value, we fail to reject the null hypothesis (H0).\n",
        "\n",
        "This indicates that there is no statistically significant association between sex and WBC count category. The observed differences are likely due to random variation rather than a meaningful relationship."
      ],
      "metadata": {
        "id": "Bl-36pcb0CkZ"
      }
    },
    {
      "cell_type": "markdown",
      "source": [
        "## Hypothesis-5\n",
        "\n",
        "H0: Hemoglobin deficiency status is independent of PDW risk indicator.\n",
        "\n",
        "H1: Hemoglobin deficiency status is dependent on PDW risk indicator."
      ],
      "metadata": {
        "id": "iCDjGSAa0RDH"
      }
    },
    {
      "cell_type": "code",
      "source": [
        "# Create a contingency table\n",
        "contingency_table = pd.crosstab(df_rename['Hemoglobin Deficiency Status'], df_rename['PDW Risk Indicator'])\n",
        "print(contingency_table)\n",
        "# Calculate the test statistics\n",
        "chi2, p_value, dof, expected, reject_null, critical_value = chi_square_test(contingency_table.values)\n",
        "# Print the results\n",
        "print(\"Chi-Square Test Results:\")\n",
        "print(f\"Chi-Square Statistic: {chi2:.4f}\")\n",
        "print(f\"Degrees of Freedom: {dof}\")\n",
        "print(f\"p-value: {p_value:.4f}\")\n",
        "print(f\"Critical Value (at alpha=0.05): {critical_value:.4f}\")\n",
        "print(f\"Reject Null Hypothesis: {'Yes' if reject_null else 'No'}\")\n",
        "print(\"\\nExpected Frequencies:\")\n",
        "print(expected)\n",
        "# Interpretation\n",
        "if reject_null:\n",
        "    print(\"\\nHemoglobin deficiency status is dependent on PDW risk indicator.\")\n",
        "else:\n",
        "    print(\"\\nHemoglobin deficiency status is independent of PDW risk indicator.\")"
      ],
      "metadata": {
        "colab": {
          "base_uri": "https://localhost:8080/"
        },
        "id": "lD5gL-5I0uhQ",
        "outputId": "91340222-a492-46e6-c64c-282d7db21008"
      },
      "execution_count": null,
      "outputs": [
        {
          "output_type": "stream",
          "name": "stdout",
          "text": [
            "PDW Risk Indicator            High Risk  Low Risk\n",
            "Hemoglobin Deficiency Status                     \n",
            "Deficient                           195        65\n",
            "High                                  3         0\n",
            "Normal                              594       146\n",
            "Chi-Square Test Results:\n",
            "Chi-Square Statistic: 4.0187\n",
            "Degrees of Freedom: 2\n",
            "p-value: 0.1341\n",
            "Critical Value (at alpha=0.05): 5.9915\n",
            "Reject Null Hypothesis: No\n",
            "\n",
            "Expected Frequencies:\n",
            "[[205.30408774  54.69591226]\n",
            " [  2.36889332   0.63110668]\n",
            " [584.32701894 155.67298106]]\n",
            "\n",
            "Hemoglobin deficiency status is independent of PDW risk indicator.\n"
          ]
        }
      ]
    },
    {
      "cell_type": "markdown",
      "source": [
        "With df = 2 and a significance level of 0.05, we can compare this total calculated chi-square value to the critical chi-square value (approximately 5.9915). Total Calculated Chi-Square (4.0187) < Critical Chi-Square Value (5.9915). Since the calculated chi-square statistic is less than the critical value we can not reject the null hypothesis (H₀).There is no significant association between Hemoglobin Deficiency Status and PDW risk indicator. This means that the hemoglobin deficiency status is independent of PDW risk indicator."
      ],
      "metadata": {
        "id": "7MclcJZV1dQ2"
      }
    },
    {
      "cell_type": "markdown",
      "source": [
        "## Hypothesis-6\n",
        "\n",
        "H0: There is no relationship between WBC count category and platelet count category.\n",
        "\n",
        "H1: There is a relationship between WBC count category and platelet count category."
      ],
      "metadata": {
        "id": "68jOYuX-GThJ"
      }
    },
    {
      "cell_type": "code",
      "source": [
        "# Create a contingency table\n",
        "contingency_table = pd.crosstab(df_rename['WBC Count Category'], df_rename['Platelet Count Category'])\n",
        "print(contingency_table)\n",
        "# Calculate the test statistics\n",
        "chi2, p_value, dof, expected, reject_null, critical_value = chi_square_test(contingency_table.values)\n",
        "# Print the results\n",
        "print(\"Chi-Square Test Results:\")\n",
        "print(f\"Chi-Square Statistic: {chi2:.4f}\")\n",
        "print(f\"Degrees of Freedom: {dof}\")\n",
        "print(f\"p-value: {p_value:.4f}\")\n",
        "print(f\"Critical Value (at alpha=0.05): {critical_value:.4f}\")\n",
        "print(f\"Reject Null Hypothesis: {'Yes' if reject_null else 'No'}\")\n",
        "print(\"\\nExpected Frequencies:\")\n",
        "print(expected)\n",
        "# Interpretation\n",
        "if reject_null:\n",
        "    print(\"\\nThere is a relationship between WBC count category and platelet count category..\")\n",
        "else:\n",
        "    print(\"\\nThere is no relationship between WBC count category and platelet count category.\")"
      ],
      "metadata": {
        "colab": {
          "base_uri": "https://localhost:8080/"
        },
        "id": "njK46vP5GZzy",
        "outputId": "bd035dfd-4066-48fc-ba88-dc5b711bdb99"
      },
      "execution_count": 97,
      "outputs": [
        {
          "output_type": "stream",
          "name": "stdout",
          "text": [
            "Platelet Count Category  Low  Normal\n",
            "WBC Count Category                  \n",
            "Low                      682      10\n",
            "Normal                    14     297\n",
            "Chi-Square Test Results:\n",
            "Chi-Square Statistic: 889.2282\n",
            "Degrees of Freedom: 1\n",
            "p-value: 0.0000\n",
            "Critical Value (at alpha=0.05): 3.8415\n",
            "Reject Null Hypothesis: Yes\n",
            "\n",
            "Expected Frequencies:\n",
            "[[480.19142572 211.80857428]\n",
            " [215.80857428  95.19142572]]\n",
            "\n",
            "There is a relationship between WBC count category and platelet count category..\n"
          ]
        }
      ]
    },
    {
      "cell_type": "markdown",
      "source": [
        "The chi-square test shows a significant relationship between WBC count and platelet count categories (p<0.05). The null hypothesis is rejected, indicating that changes in WBC counts are associated with platelet count variations."
      ],
      "metadata": {
        "id": "2i1yvHRlHaiv"
      }
    },
    {
      "cell_type": "markdown",
      "source": [
        "## Hypothesis-7\n",
        "\n",
        "H0: Sex and PDW risk indicator are independent of each other.\n",
        "\n",
        "H1: Sex and PDW risk indicator are not independent of each other."
      ],
      "metadata": {
        "id": "_NjTcN_gHfGf"
      }
    },
    {
      "cell_type": "code",
      "source": [
        "# Create a contingency table\n",
        "contingency_table = pd.crosstab(df_rename['Sex'], df_rename['PDW Risk Indicator'])\n",
        "print(contingency_table)\n",
        "# Calculate the test statistics\n",
        "chi2, p_value, dof, expected, reject_null, critical_value = chi_square_test(contingency_table.values)\n",
        "# Print the results\n",
        "print(\"Chi-Square Test Results:\")\n",
        "print(f\"Chi-Square Statistic: {chi2:.4f}\")\n",
        "print(f\"Degrees of Freedom: {dof}\")\n",
        "print(f\"p-value: {p_value:.4f}\")\n",
        "print(f\"Critical Value (at alpha=0.05): {critical_value:.4f}\")\n",
        "print(f\"Reject Null Hypothesis: {'Yes' if reject_null else 'No'}\")\n",
        "print(\"\\nExpected Frequencies:\")\n",
        "print(expected)\n",
        "# Interpretation\n",
        "if reject_null:\n",
        "    print(\"\\n Sex and PDW risk indicator are not independent of each other.\")\n",
        "else:\n",
        "    print(\"\\nSex and PDW risk indicator are independent of each other.\")"
      ],
      "metadata": {
        "colab": {
          "base_uri": "https://localhost:8080/"
        },
        "id": "Wh1USC1aHpLd",
        "outputId": "746ad1d2-46f5-4524-a8c8-c5b315a40c7a"
      },
      "execution_count": 98,
      "outputs": [
        {
          "output_type": "stream",
          "name": "stdout",
          "text": [
            "PDW Risk Indicator  High Risk  Low Risk\n",
            "Sex                                    \n",
            "Child                      26         9\n",
            "Female                    350       100\n",
            "Male                      416       102\n",
            "Chi-Square Test Results:\n",
            "Chi-Square Statistic: 1.4063\n",
            "Degrees of Freedom: 2\n",
            "p-value: 0.4950\n",
            "Critical Value (at alpha=0.05): 5.9915\n",
            "Reject Null Hypothesis: No\n",
            "\n",
            "Expected Frequencies:\n",
            "[[ 27.63708873   7.36291127]\n",
            " [355.33399801  94.66600199]\n",
            " [409.02891326 108.97108674]]\n",
            "\n",
            "Sex and PDW risk indicator are independent of each other.\n"
          ]
        }
      ]
    },
    {
      "cell_type": "markdown",
      "source": [
        "The chi-square test shows no significant relationship between sex and the PDW risk indicator, as the p-value (0.4950) is greater than the significance level of 0.05. The chi-square statistic (1.4063) is also below the critical value (5.9915). Therefore, we fail to reject the null hypothesis and conclude that sex and the PDW risk indicator are independent."
      ],
      "metadata": {
        "id": "CPIckfY-ILE4"
      }
    },
    {
      "cell_type": "markdown",
      "source": [
        "# Z-test\n",
        "\n",
        "## Hypothesis-8\n",
        "\n",
        "H0: The mean WBC count for male and female patients is equal.\n",
        "\n",
        "H1: The mean WBC count for male and female patients is different\n"
      ],
      "metadata": {
        "id": "zXHtawUX2ttj"
      }
    },
    {
      "cell_type": "code",
      "source": [
        "from statsmodels.stats.weightstats import ztest\n",
        "# Step 2: Separate the WBC count data for males and females\n",
        "male_wbc = df_rename[df_rename['Sex'] == 'Male']['WBC Count']\n",
        "female_wbc = df_rename[df_rename['Sex'] == 'Female']['WBC Count']\n",
        "# Step 3: Perform Z-test\n",
        "z_stat, p_value = ztest(male_wbc, female_wbc)\n",
        "# Step 4: Display the results\n",
        "print(\"Z-Statistic:\", z_stat)\n",
        "print(\"p-value:\", p_value)\n",
        "# Decision based on p-value\n",
        "alpha = 0.05  # Significance level\n",
        "if p_value < alpha:\n",
        "    print(\"Reject the null hypothesis (H₀): The mean WBC counts are different for males and females.\")\n",
        "else:\n",
        "    print(\"Fail to reject the null hypothesis (H₀)\\nNo significant difference in mean WBC counts between males and females.\")"
      ],
      "metadata": {
        "colab": {
          "base_uri": "https://localhost:8080/"
        },
        "id": "a96CiZfD5XU9",
        "outputId": "7b4d3034-2d09-4ea9-91c8-1072c68617b6"
      },
      "execution_count": null,
      "outputs": [
        {
          "output_type": "stream",
          "name": "stdout",
          "text": [
            "Z-Statistic: -1.373277004250832\n",
            "p-value: 0.1696662486441105\n",
            "Fail to reject the null hypothesis (H₀)\n",
            "No significant difference in mean WBC counts between males and females.\n"
          ]
        }
      ]
    },
    {
      "cell_type": "markdown",
      "source": [
        "Since the p-value is greater than 0.05, we fail to reject the null hypothesis (H₀). This means there is no statistically significant difference between the mean WBC counts for male and female patients. The observed difference in WBC counts can be attributed to random variation rather than a true underlying difference between the sexes."
      ],
      "metadata": {
        "id": "1jm_8fO86pbg"
      }
    },
    {
      "cell_type": "markdown",
      "source": [
        "# T-test\n",
        "\n",
        "## Hypothesis-9\n",
        "\n",
        "H0: The mean PDW of male and female patients is equal.\n",
        "\n",
        "H1: The mean PDW of male and female patients is different."
      ],
      "metadata": {
        "id": "Q_WNsUZV7dAD"
      }
    },
    {
      "cell_type": "code",
      "source": [
        "male_pdw = df_rename[df_rename['Sex'] == 'Male']['PDW']\n",
        "female_pdw = df_rename[df_rename['Sex'] == 'Female']['PDW']\n",
        "# Step 3: Perform Independent two-sample t-test\n",
        "t_stat, p_value = stats.ttest_ind(male_pdw, female_pdw)\n",
        "# Step 4: Display results\n",
        "print(\"T-Statistic:\", t_stat)\n",
        "print(\"p-value:\", p_value)\n",
        "# Decision based on p-value\n",
        "alpha = 0.05  # Significance level\n",
        "if p_value < alpha:\n",
        "    print(\"Reject the null hypothesis (H₀)\\nThe mean PDW of male and female patients is different.\")\n",
        "else:\n",
        "    print(\"Fail to reject the null hypothesis (H₀)\\nNo significant difference in mean PDW between male and female patients.\")"
      ],
      "metadata": {
        "colab": {
          "base_uri": "https://localhost:8080/"
        },
        "id": "Q0mxOnlg7bYZ",
        "outputId": "0132831f-858c-44c8-c899-bcfc671e096c"
      },
      "execution_count": null,
      "outputs": [
        {
          "output_type": "stream",
          "name": "stdout",
          "text": [
            "T-Statistic: 0.026636161807473895\n",
            "p-value: 0.9787554319200384\n",
            "Fail to reject the null hypothesis (H₀)\n",
            "No significant difference in mean PDW between male and female patients.\n"
          ]
        }
      ]
    },
    {
      "cell_type": "markdown",
      "source": [
        "Since the p-value (0.9788) is much greater than the significance level (α=0.05), we fail to reject the null hypothesis (H₀). This means there is no significant difference in the mean PDW (Platelet Distribution Width) between male and female patients."
      ],
      "metadata": {
        "id": "E0Dk5Zqa89OO"
      }
    },
    {
      "cell_type": "markdown",
      "source": [
        "## Hypothesis-10\n",
        "\n",
        "H0: The mean composite risk score does not differ significantly between males and females.\n",
        "\n",
        "H1: The mean composite risk score differs significantly between males and females."
      ],
      "metadata": {
        "id": "F_h06rsWD-T5"
      }
    },
    {
      "cell_type": "code",
      "source": [
        "male_pdw = df_rename[df_rename['Sex'] == 'Male']['Composite Risk Score']\n",
        "female_pdw = df_rename[df_rename['Sex'] == 'Female']['Composite Risk Score']\n",
        "# Step 3: Perform Independent two-sample t-test\n",
        "t_stat, p_value = stats.ttest_ind(male_pdw, female_pdw)\n",
        "# Step 4: Display results\n",
        "print(\"T-Statistic:\", t_stat)\n",
        "print(\"p-value:\", p_value)\n",
        "# Decision based on p-value\n",
        "alpha = 0.05  # Significance level\n",
        "if p_value < alpha:\n",
        "    print(\"Reject the null hypothesis (H₀)\\nThe mean composite risk score differs significantly between males and females.\")\n",
        "else:\n",
        "    print(\"Fail to reject the null hypothesis (H₀)\\n The mean composite risk score does not differ significantly between males and females.\")"
      ],
      "metadata": {
        "colab": {
          "base_uri": "https://localhost:8080/"
        },
        "id": "sU4nBYk_ENNv",
        "outputId": "573e98bb-a08c-4044-e99a-effb63b3185c"
      },
      "execution_count": 95,
      "outputs": [
        {
          "output_type": "stream",
          "name": "stdout",
          "text": [
            "T-Statistic: 2.0989451394647682\n",
            "p-value: 0.03608080776359828\n",
            "Reject the null hypothesis (H₀)\n",
            "The mean composite risk score differs significantly between males and females.\n"
          ]
        }
      ]
    },
    {
      "cell_type": "markdown",
      "source": [
        "The t-test results indicate a T-Statistic of 2.099 and a p-value of 0.036. Since the p-value is less than the commonly used significance level of 0.05, we reject the null hypothesis (H₀).\n",
        "\n",
        "This means there is statistically significant evidence to conclude that the mean composite risk score differs significantly between males and females."
      ],
      "metadata": {
        "id": "L1_FvzTKFPzR"
      }
    }
  ],
  "metadata": {
    "colab": {
      "provenance": [],
      "include_colab_link": true
    },
    "kernelspec": {
      "display_name": "Python 3",
      "name": "python3"
    },
    "language_info": {
      "name": "python"
    }
  },
  "nbformat": 4,
  "nbformat_minor": 0
}